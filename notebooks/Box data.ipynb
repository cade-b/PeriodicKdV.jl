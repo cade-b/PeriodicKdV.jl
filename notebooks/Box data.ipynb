{
 "cells": [
  {
   "cell_type": "markdown",
   "id": "d3a755dd",
   "metadata": {},
   "source": [
    "# KdV with box initial data"
   ]
  },
  {
   "cell_type": "markdown",
   "id": "02874451",
   "metadata": {},
   "source": [
    "Consider solving\n",
    "\\begin{align*}\n",
    "u_t + u_{xxx} &= u u_x,\\\\\n",
    "u(x,0) &= \\begin{cases} 0 & 0 < x < \\pi,\\\\\n",
    "1/2 & \\pi < x < 2 \\pi. \\end{cases}\n",
    "\\end{align*}\n",
    "It follows that\n",
    "$u(x,t) = -q(6^{-1/2} x, 6^{-3/2} t)$ where $q$ solves\n",
    "\\begin{align*}\n",
    "    q_t + 6 q q_x + q_{xxx} = 0,\n",
    "\\end{align*}\n",
    "with an appropriately modified inital condition."
   ]
  },
  {
   "cell_type": "code",
   "execution_count": 1,
   "id": "0f4df0bb",
   "metadata": {},
   "outputs": [],
   "source": [
    "using PeriodicKdV, Plots"
   ]
  },
  {
   "cell_type": "code",
   "execution_count": 4,
   "id": "d730556b",
   "metadata": {},
   "outputs": [
    {
     "data": {
      "text/plain": [
       "#31 (generic function with 1 method)"
      ]
     },
     "execution_count": 4,
     "metadata": {},
     "output_type": "execute_result"
    }
   ],
   "source": [
    "prec = 500\n",
    "sp(x) = BigFloat(x,precision = prec)\n",
    "spc(x) = BigFloat(real(x),precision = prec)+1im*BigFloat(imag(x),precision = prec)\n",
    "\n",
    "ω = pi/sqrt(6.0 |> sp)\n",
    "T = 2.0*pi/sqrt(6 |> sp)\n",
    "h = .5;\n",
    "\n",
    "Δ1 = λ -> 2*cos((T-ω)*sqrt(λ-h))*cos(ω*sqrt(λ))\n",
    "Δ2 = λ -> -(2*λ-h)/(sqrt(λ)*sqrt(λ-h))*sin(ω*sqrt(λ))*sin((T-ω)*sqrt(λ-h))\n",
    "Δ = λ ->  Δ1(λ |> complex) + Δ2(λ |> complex) |> real\n",
    "T22 = λ -> cos(ω*sqrt(λ))*cos((T-ω)*sqrt(λ-h)) - sqrt(λ-h)/sqrt(λ)*sin((T-ω)*sqrt(λ-h))*sin(ω*sqrt(λ))\n",
    "T11 = λ -> Δ(λ) - T22(λ)\n",
    "y2sqrt = λ -> 1/sqrt(λ)*cos((T-ω)*sqrt(λ-h))*sin(ω*sqrt(λ)) + 1/sqrt(λ - h)*cos(ω*sqrt(λ))*sin((T-ω)*sqrt(λ-h))\n",
    "\n",
    "y2 = λ -> y2sqrt(λ^2)\n",
    "dy2 = λ -> imag(y2(λ + 1im*spc(1e-50))/sp(1e-50))"
   ]
  },
  {
   "cell_type": "code",
   "execution_count": 5,
   "id": "e70fe0df",
   "metadata": {},
   "outputs": [
    {
     "data": {
      "text/plain": [
       "Bisection (generic function with 1 method)"
      ]
     },
     "execution_count": 5,
     "metadata": {},
     "output_type": "execute_result"
    }
   ],
   "source": [
    "function Newton(f,df,x0,eps,nmax)\n",
    "    x = x0\n",
    "    for i = 1:nmax\n",
    "        δ = -f(x)/df(x)\n",
    "        if abs(δ) < eps\n",
    "            return x + δ\n",
    "        else\n",
    "            x = x + δ\n",
    "        end\n",
    "    end\n",
    "    if abs(f(x)) > 1e-15\n",
    "        @warn \"failed to converge\"\n",
    "    end\n",
    "    return x\n",
    "end\n",
    "\n",
    "function Bisection(f,A,B,nmax)\n",
    "    a = A; b = B;\n",
    "    if abs(f(a)) < 1e-50\n",
    "        return a\n",
    "    elseif abs(f(b)) < 1e-50\n",
    "        return b\n",
    "    end\n",
    "    c = a;\n",
    "    for i = 1:nmax\n",
    "        fa = f(a); \n",
    "        fb = f(b);\n",
    "        c = (a + b)/2;\n",
    "        fc = f(c)\n",
    "        #println((fa,fc,fb))\n",
    "        #println((a,c,b))\n",
    "        if fa*fc > 0\n",
    "            a = c\n",
    "        else\n",
    "            b = c\n",
    "        end\n",
    "    end\n",
    "    c\n",
    "end"
   ]
  },
  {
   "cell_type": "code",
   "execution_count": 6,
   "id": "eadf1cca",
   "metadata": {},
   "outputs": [],
   "source": [
    "tm = λ -> sqrt(Δ(λ)^2 - 4.0 |> complex) - (T11(λ) - T22(λ))\n",
    "tp = λ -> sqrt(Δ(λ)^2 - 4.0 |> complex) + (T11(λ) - T22(λ))\n",
    "\n",
    "target_g = 1000\n",
    "z1 = Newton(y2,dy2,sqrt(1.5 |> sp ),1e-32,100)\n",
    "zs = [z1];\n",
    "for i = 1:target_g\n",
    "    x0 = zs[end] + pi/T\n",
    "    x0 = Newton(y2,dy2,x0,1e-50,100)\n",
    "    zs = vcat(zs,[x0])\n",
    "end\n",
    "oldzs = copy(zs)\n",
    "zs = zs.^2\n",
    "\n",
    "gs = [Bisection(λ -> Δ(λ) - 2,0.00001 |> sp ,zs[1] |> sp ,60) |> Float64, Bisection(λ -> Δ(λ) + 2,0.00001 |> sp,zs[1] |> sp,60) |> Float64] \n",
    "for i = 0:target_g-1\n",
    "    gs = vcat(gs,[Bisection(λ -> Δ(λ) + 2, zs[i+1] |> sp, zs[i+2] |> sp,60) |> Float64, Bisection(λ -> Δ(λ) - 2,zs[i+1] |> sp,zs[i+2] |> sp,80) |> Float64 ])\n",
    "end\n",
    "gs = gs |> sort\n",
    "\n",
    "α1 = gs[1]\n",
    "zs = map(Float64,hcat(copy(zs) .- α1,sign.(map(tp,zs) - map(tm,zs) |> real)));\n",
    "gaps = hcat(gs[2:2:end-1],gs[3:2:end]) .- α1;"
   ]
  },
  {
   "cell_type": "code",
   "execution_count": 11,
   "id": "af21653a",
   "metadata": {},
   "outputs": [
    {
     "data": {
      "text/plain": [
       "#49 (generic function with 1 method)"
      ]
     },
     "execution_count": 11,
     "metadata": {},
     "output_type": "execute_result"
    }
   ],
   "source": [
    "g = 30\n",
    "S = HyperellipticSurface(gaps[1:g,:],zs[1:g,:],α1,100);\n",
    "BA = BakerAkhiezerFunction(S,200.;tols=[1e-4,false],iter = 20,max_pts = 10, show_flag = false, choose_points = [10,10,10,10,3]);\n",
    "u = (x,t) -> -KdV(BA,x/sqrt(6),t*6^(-3/2),1e-4)"
   ]
  },
  {
   "cell_type": "code",
   "execution_count": 12,
   "id": "cd09fd01",
   "metadata": {},
   "outputs": [
    {
     "data": {
      "text/plain": [
       "0.0018944572867880538 + 2.9925547723134244e-17im"
      ]
     },
     "execution_count": 12,
     "metadata": {},
     "output_type": "execute_result"
    }
   ],
   "source": [
    "u(1.0,0.0)"
   ]
  },
  {
   "cell_type": "code",
   "execution_count": null,
   "id": "d9840e81",
   "metadata": {},
   "outputs": [],
   "source": []
  }
 ],
 "metadata": {
  "kernelspec": {
   "display_name": "Julia 1.6.3",
   "language": "julia",
   "name": "julia-1.6"
  },
  "language_info": {
   "file_extension": ".jl",
   "mimetype": "application/julia",
   "name": "julia",
   "version": "1.6.3"
  }
 },
 "nbformat": 4,
 "nbformat_minor": 5
}
