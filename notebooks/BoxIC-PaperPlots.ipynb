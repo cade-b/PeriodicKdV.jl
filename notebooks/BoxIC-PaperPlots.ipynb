{
 "cells": [
  {
   "cell_type": "code",
   "execution_count": null,
   "metadata": {},
   "outputs": [],
   "source": [
    "f = open(\"hosts.txt\")"
   ]
  },
  {
   "cell_type": "code",
   "execution_count": null,
   "metadata": {},
   "outputs": [],
   "source": [
    "nodes = readlines(f)"
   ]
  },
  {
   "cell_type": "code",
   "execution_count": null,
   "metadata": {},
   "outputs": [],
   "source": [
    "using Distributed, LinearAlgebra, Plots, Printf, ApproxFun, PeriodicKdV"
   ]
  },
  {
   "cell_type": "code",
   "execution_count": null,
   "metadata": {},
   "outputs": [],
   "source": [
    "num_procs = 40\n",
    "addprocs([nodes[2] for j in 1:num_procs],tunnel=true)\n",
    "addprocs([nodes[3] for j in 1:num_procs],tunnel=true)\n",
    "addprocs([nodes[4] for j in 1:num_procs],tunnel=true);"
   ]
  },
  {
   "cell_type": "code",
   "execution_count": null,
   "metadata": {},
   "outputs": [],
   "source": [
    "addprocs(num_procs-1);"
   ]
  },
  {
   "cell_type": "code",
   "execution_count": null,
   "metadata": {},
   "outputs": [],
   "source": [
    "prec = 500\n",
    "sp(x) = BigFloat(x,precision = prec)\n",
    "spc(x) = BigFloat(real(x),precision = prec)+1im*BigFloat(imag(x),precision = prec)"
   ]
  },
  {
   "cell_type": "code",
   "execution_count": null,
   "metadata": {},
   "outputs": [],
   "source": [
    "@everywhere using LinearAlgebra, Printf, ApproxFun, PeriodicKdV"
   ]
  },
  {
   "cell_type": "code",
   "execution_count": null,
   "metadata": {},
   "outputs": [],
   "source": [
    "ω = pi/sqrt(6.0 |> sp)\n",
    "T = 2.0*pi/sqrt(6 |> sp)\n",
    "h = .5;"
   ]
  },
  {
   "cell_type": "code",
   "execution_count": null,
   "metadata": {},
   "outputs": [],
   "source": [
    "Δ1 = λ -> 2*cos((T-ω)*sqrt(λ-h))*cos(ω*sqrt(λ))\n",
    "Δ2 = λ -> -(2*λ-h)/(sqrt(λ)*sqrt(λ-h))*sin(ω*sqrt(λ))*sin((T-ω)*sqrt(λ-h))\n",
    "Δ = λ ->  Δ1(λ |> complex) + Δ2(λ |> complex) |> real\n",
    "T22 = λ -> cos(ω*sqrt(λ))*cos((T-ω)*sqrt(λ-h)) - sqrt(λ-h)/sqrt(λ)*sin((T-ω)*sqrt(λ-h))*sin(ω*sqrt(λ))\n",
    "T11 = λ -> Δ(λ) - T22(λ)\n",
    "y2sqrt = λ -> 1/sqrt(λ)*cos((T-ω)*sqrt(λ-h))*sin(ω*sqrt(λ)) + 1/sqrt(λ - h)*cos(ω*sqrt(λ))*sin((T-ω)*sqrt(λ-h))\n",
    "\n",
    "y2 = λ -> y2sqrt(λ^2)\n",
    "dy2 = λ -> imag(y2(λ + 1im*spc(1e-50))/sp(1e-50))"
   ]
  },
  {
   "cell_type": "code",
   "execution_count": null,
   "metadata": {},
   "outputs": [],
   "source": [
    "function Newton(f,df,x0,eps,nmax)\n",
    "    x = x0\n",
    "    for i = 1:nmax\n",
    "        δ = -f(x)/df(x)\n",
    "        if abs(δ) < eps\n",
    "            return x + δ\n",
    "        else\n",
    "            x = x + δ\n",
    "        end\n",
    "    end\n",
    "    if abs(f(x)) > 1e-15\n",
    "        @warn \"failed to converge\"\n",
    "    end\n",
    "    return x\n",
    "end\n",
    "\n",
    "function Bisection(f,A,B,nmax)\n",
    "    a = A; b = B;\n",
    "    if abs(f(a)) < 1e-50\n",
    "        return a\n",
    "    elseif abs(f(b)) < 1e-50\n",
    "        return b\n",
    "    end\n",
    "    c = a;\n",
    "    for i = 1:nmax\n",
    "        fa = f(a); \n",
    "        fb = f(b);\n",
    "        c = (a + b)/2;\n",
    "        fc = f(c)\n",
    "        #println((fa,fc,fb))\n",
    "        #println((a,c,b))\n",
    "        if fa*fc > 0\n",
    "            a = c\n",
    "        else\n",
    "            b = c\n",
    "        end\n",
    "    end\n",
    "    c\n",
    "end"
   ]
  },
  {
   "cell_type": "code",
   "execution_count": null,
   "metadata": {},
   "outputs": [],
   "source": [
    "tm = λ -> sqrt(Δ(λ)^2 - 4.0 |> complex) - (T11(λ) - T22(λ))\n",
    "tp = λ -> sqrt(Δ(λ)^2 - 4.0 |> complex) + (T11(λ) - T22(λ))\n",
    "\n",
    "target_g = 1000\n",
    "z1 = Newton(y2,dy2,sqrt(1.5 |> sp ),1e-32,100)\n",
    "zs = [z1];\n",
    "for i = 1:target_g\n",
    "    x0 = zs[end] + pi/T\n",
    "    x0 = Newton(y2,dy2,x0,1e-50,100)\n",
    "    zs = vcat(zs,[x0])\n",
    "end\n",
    "oldzs = copy(zs)\n",
    "zs = zs.^2\n",
    "\n",
    "gs = [Bisection(λ -> Δ(λ) - 2,0.00001 |> sp ,zs[1] |> sp ,60) |> Float64, Bisection(λ -> Δ(λ) + 2,0.00001 |> sp,zs[1] |> sp,60) |> Float64] \n",
    "for i = 0:target_g-1\n",
    "    gs = vcat(gs,[Bisection(λ -> Δ(λ) + 2, zs[i+1] |> sp, zs[i+2] |> sp,60) |> Float64, Bisection(λ -> Δ(λ) - 2,zs[i+1] |> sp,zs[i+2] |> sp,80) |> Float64 ])\n",
    "end\n",
    "gs = gs |> sort\n",
    "\n",
    "α1 = gs[1]\n",
    "zs = map(Float64,hcat(copy(zs) .- α1,sign.(map(tp,zs) - map(tm,zs) |> real)));\n",
    "gaps = hcat(gs[2:2:end-1],gs[3:2:end]) .- α1;"
   ]
  },
  {
   "cell_type": "code",
   "execution_count": null,
   "metadata": {},
   "outputs": [],
   "source": []
  },
  {
   "cell_type": "code",
   "execution_count": null,
   "metadata": {},
   "outputs": [],
   "source": [
    "gaps[1:15,:]"
   ]
  },
  {
   "cell_type": "code",
   "execution_count": null,
   "metadata": {},
   "outputs": [],
   "source": [
    "for i = 1:target_g\n",
    "   if gaps[i,1] <= zs[i,1] <= gaps[i,2]\n",
    "        \n",
    "   else\n",
    "       println(i)\n",
    "       println( min(abs(gaps[i,1]-zs[i,1]),abs(gaps[i,2]-zs[i,1])))\n",
    "        @warn \"not in the gap\"\n",
    "    end\n",
    "end"
   ]
  },
  {
   "cell_type": "markdown",
   "metadata": {},
   "source": [
    "# g = 300 #"
   ]
  },
  {
   "cell_type": "code",
   "execution_count": null,
   "metadata": {},
   "outputs": [],
   "source": [
    "g = 300\n",
    "S = HyperellipticSurface(gaps[1:g,:],zs[1:g,:],α1,100);\n",
    "BA = BakerAkhiezerFunction(S,200.;tols=[1e-4,false],iter = 20,max_pts = 10, show_flag = true, choose_points = [10,10,10,10,3]);\n",
    "# BA = BakerAkhiezerFunction(S,200.;tols=[1e-7,false],iter = 20);\n",
    "@everywhere BA = $BA\n",
    "u = (x,t) -> -KdV(BA,x/sqrt(6),t*6^(-3/2),1e-4)"
   ]
  },
  {
   "cell_type": "code",
   "execution_count": null,
   "metadata": {},
   "outputs": [],
   "source": [
    "x = 0:.001:2*pi |> Array\n",
    "t = 0.0\n",
    "U = pmap(x -> u(x,t) |> real, x);"
   ]
  },
  {
   "cell_type": "code",
   "execution_count": null,
   "metadata": {},
   "outputs": [],
   "source": [
    "p1 = plot(x, U, xaxis = [minimum(x),maximum(x)], yaxis = [-.3,1.],lw=3,label = \"\", framestyle = :box, fill = (-2,:lightblue))\n"
   ]
  },
  {
   "cell_type": "code",
   "execution_count": null,
   "metadata": {},
   "outputs": [],
   "source": [
    "savefig(p1,\"p0_300.pdf\")"
   ]
  },
  {
   "cell_type": "code",
   "execution_count": null,
   "metadata": {},
   "outputs": [],
   "source": [
    "x = 0:.001:2*pi |> Array\n",
    "t = 0.1*pi\n",
    "U = pmap(x -> u(x,t) |> real, x);"
   ]
  },
  {
   "cell_type": "code",
   "execution_count": null,
   "metadata": {},
   "outputs": [],
   "source": [
    "p1 = plot(x, U, xaxis = [minimum(x),maximum(x)], yaxis = [-.3,1.],lw=3,label = \"\", framestyle = :box, fill = (-2,:lightblue))\n"
   ]
  },
  {
   "cell_type": "code",
   "execution_count": null,
   "metadata": {},
   "outputs": [],
   "source": [
    "savefig(p1,\"p1_300.pdf\")"
   ]
  },
  {
   "cell_type": "code",
   "execution_count": null,
   "metadata": {},
   "outputs": [],
   "source": [
    "x = 0:.001:2*pi |> Array\n",
    "t = 0.1\n",
    "U = pmap(x -> u(x,t) |> real, x);"
   ]
  },
  {
   "cell_type": "code",
   "execution_count": null,
   "metadata": {},
   "outputs": [],
   "source": [
    "p1 = plot(x, U, xaxis = [minimum(x),maximum(x)], yaxis = [-.3,1.],lw=3,label = \"\", framestyle = :box, fill = (-2,:lightblue))"
   ]
  },
  {
   "cell_type": "code",
   "execution_count": null,
   "metadata": {},
   "outputs": [],
   "source": [
    "savefig(p1,\"p2_300.pdf\")"
   ]
  },
  {
   "cell_type": "code",
   "execution_count": null,
   "metadata": {},
   "outputs": [],
   "source": [
    "x = 0:.001:2*pi |> Array\n",
    "t = 0.5*pi\n",
    "U = pmap(x -> u(x,t) |> real, x);"
   ]
  },
  {
   "cell_type": "code",
   "execution_count": null,
   "metadata": {},
   "outputs": [],
   "source": [
    "p1 = plot(x, U, xaxis = [minimum(x),maximum(x)], yaxis = [-.3,1.],lw=3,label = \"\", framestyle = :box, fill = (-2,:lightblue))\n"
   ]
  },
  {
   "cell_type": "code",
   "execution_count": null,
   "metadata": {},
   "outputs": [],
   "source": [
    "savefig(p1,\"p3_300.pdf\")"
   ]
  },
  {
   "cell_type": "code",
   "execution_count": null,
   "metadata": {},
   "outputs": [],
   "source": [
    "x = 0:.001:2*pi |> Array\n",
    "t = 0.01*pi\n",
    "U = pmap(x -> u(x,t) |> real, x);"
   ]
  },
  {
   "cell_type": "code",
   "execution_count": null,
   "metadata": {},
   "outputs": [],
   "source": [
    "p1 = plot(x, U, xaxis = [minimum(x),maximum(x)], yaxis = [-.3,1.],lw=3,label = \"\", framestyle = :box, fill = (-2,:lightblue))\n"
   ]
  },
  {
   "cell_type": "code",
   "execution_count": null,
   "metadata": {},
   "outputs": [],
   "source": [
    "savefig(p1,\"p4_300.pdf\")"
   ]
  },
  {
   "cell_type": "code",
   "execution_count": null,
   "metadata": {},
   "outputs": [],
   "source": [
    "x = 0:.001:2*pi |> Array\n",
    "t = 1.03*pi\n",
    "U = pmap(x -> u(x,t) |> real, x);"
   ]
  },
  {
   "cell_type": "code",
   "execution_count": null,
   "metadata": {},
   "outputs": [],
   "source": [
    "p1 = plot(x, U, xaxis = [minimum(x),maximum(x)], yaxis = [-.3,1.],lw=3,label = \"\", framestyle = :box, fill = (-2,:lightblue))\n"
   ]
  },
  {
   "cell_type": "code",
   "execution_count": null,
   "metadata": {},
   "outputs": [],
   "source": [
    "savefig(p1,\"p5_300.pdf\")"
   ]
  },
  {
   "cell_type": "code",
   "execution_count": null,
   "metadata": {},
   "outputs": [],
   "source": [
    "x = 0:.001:2*pi |> Array\n",
    "t = .2\n",
    "U = pmap(x -> u(x,t) |> real, x);"
   ]
  },
  {
   "cell_type": "code",
   "execution_count": null,
   "metadata": {},
   "outputs": [],
   "source": [
    "p1 = plot(x, U, xaxis = [minimum(x),maximum(x)], yaxis = [-.3,1.],lw=3,label = \"\", framestyle = :box, fill = (-2,:lightblue))\n"
   ]
  },
  {
   "cell_type": "code",
   "execution_count": null,
   "metadata": {},
   "outputs": [],
   "source": [
    "savefig(p1,\"p6_300.pdf\")"
   ]
  },
  {
   "cell_type": "markdown",
   "metadata": {},
   "source": [
    "## Increasing genus, zoomed in"
   ]
  },
  {
   "cell_type": "code",
   "execution_count": null,
   "metadata": {},
   "outputs": [],
   "source": [
    "range = 100:200:900\n",
    "data = zeros(length(range))\n",
    "i = 1\n",
    "for g = range\n",
    "    S = HyperellipticSurface(gaps[1:g,:],zs[1:g,:],α1,100;cycleflag=true);\n",
    "    println(\"Surface constructed\")\n",
    "    BA = BakerAkhiezerFunction(S,200.;tols=[1e-4,false],iter = 20,max_pts = 10, show_flag = true, choose_points = [10,10,10,10,2]);\n",
    "    println(\"BA constructed\")\n",
    "    @everywhere BA = $BA\n",
    "    println(\"Begin computation\")\n",
    "    u = (x,t) -> -KdV(BA,x/sqrt(6),t*6^(-3/2),1e-4)\n",
    "    x = 1:0.001:2 |> Array\n",
    "    U = pmap(x -> u(x,0.1*pi) |> real, x);\n",
    "    str = @sprintf(\"test_zoomed_%i.pdf\",range[i])\n",
    "    i += 1\n",
    "    p1 = plot(x, U, xaxis = [minimum(x),maximum(x)], yaxis = [-.11,-0.08],lw=3,label = \"\", framestyle = :box, fill = (-2,:lightblue))\n",
    "    savefig(p1,str)\n",
    "    display(p1)\n",
    "end"
   ]
  },
  {
   "cell_type": "markdown",
   "metadata": {},
   "source": [
    "# Reconstruct IC error"
   ]
  },
  {
   "cell_type": "code",
   "execution_count": null,
   "metadata": {},
   "outputs": [],
   "source": [
    "range = 50:50:600\n",
    "data = zeros(length(range))\n",
    "datasum = zeros(length(range))\n",
    "i = 1\n",
    "for g = range\n",
    "    S = HyperellipticSurface(gaps[1:g,:],zs[1:g,:],α1,100,[true,true]);\n",
    "    BA = BakerAkhiezerFunction(S,200.,[1e-7,false],20,0,false);\n",
    "    @everywhere BA = $BA\n",
    "    u = (x,t) -> -KdV(BA,x/sqrt(6),t*6^(-3/2),1e-4)\n",
    "\n",
    "    x = 0.1:.01:3|> Array\n",
    "    U = pmap(x -> u(x,0) |> real, x);\n",
    "    V = map(x -> x > pi ? 1 : 0,x)\n",
    "    plot(x,U)\n",
    "    plot!(x,V,) |> display\n",
    "    data[i] = maximum(abs.(U-V))\n",
    "    datasum[i] = sum(abs.(U-V))\n",
    "    println((g,data[i],datasum[i]))\n",
    "    i += 1\n",
    "end"
   ]
  },
  {
   "cell_type": "code",
   "execution_count": null,
   "metadata": {},
   "outputs": [],
   "source": [
    "range = 50:50:700\n",
    "data = zeros(length(range))\n",
    "i = 1\n",
    "for g = range\n",
    "    S = HyperellipticSurface(gaps[1:g,:],zs[1:g,:],α1,100,[true,true]);\n",
    "    BA = BakerAkhiezerFunction(S,200.,[1e-20,false],20,0,false);\n",
    "    @everywhere BA = $BA\n",
    "    u = (x,t) -> -KdV(BA,x/sqrt(6) - 0*h/(2sqrt(6))*t,t*6^(-3/2),1e-4) - 0*h/2\n",
    "\n",
    "    x = 0.1:.1:3|> Array\n",
    "    U = pmap(x -> u(x,0) |> real, x);\n",
    "    V = map(x -> x > pi ? 1 : 0,x)\n",
    "    data[i] = maximum(abs.(U-V))\n",
    "    println((g,data[i]))\n",
    "    i += 1\n",
    "end"
   ]
  },
  {
   "cell_type": "markdown",
   "metadata": {},
   "source": [
    "## Coefficient plotting"
   ]
  },
  {
   "cell_type": "code",
   "execution_count": null,
   "metadata": {},
   "outputs": [],
   "source": [
    "g = 200\n",
    "S = HyperellipticSurface(gaps[1:g,:],zs[1:g,:],α1,100;cycleflag=true);\n",
    "println(\"Surface constructed\")\n",
    "BA = BakerAkhiezerFunction(S,200.;tols=[1e-4,false],iter = 20,max_pts = 10, show_flag = true, choose_points = [10,10,10,10,3]);\n",
    "println(\"BA constructed\")\n",
    "@everywhere BA = $BA\n",
    "println(\"Begin computation\")\n",
    "ba = BA(0.0,0.0);"
   ]
  },
  {
   "cell_type": "code",
   "execution_count": null,
   "metadata": {},
   "outputs": [],
   "source": [
    "A,B = BA(0.0,0.0; getmatrices = true);"
   ]
  },
  {
   "cell_type": "code",
   "execution_count": null,
   "metadata": {},
   "outputs": [],
   "source": [
    "l1 = eigvals(B + A)\n",
    "p = scatter(l1 |> real, l1 |> imag, label = \"Eigenvalues before preconditioning\", framestyle = :box)\n",
    "savefig(p,\"before_precond.pdf\")"
   ]
  },
  {
   "cell_type": "code",
   "execution_count": null,
   "metadata": {},
   "outputs": [],
   "source": [
    "l1 = eigvals(I + B\\A)\n",
    "p = scatter(l1 |> real, l1 |> imag, label = \"Eigenvalues after preconditioning\", framestyle = :box)\n",
    "savefig(p,\"after_precond.pdf\")"
   ]
  },
  {
   "cell_type": "code",
   "execution_count": null,
   "metadata": {},
   "outputs": [],
   "source": [
    "js = vcat(-g:-1,1:g);"
   ]
  },
  {
   "cell_type": "code",
   "execution_count": null,
   "metadata": {},
   "outputs": [],
   "source": [
    "p = plot(js,abs.([ out.cs[1] for out in ba[2] ]), yaxis = ([0,5]), framestyle = :box, legend = false)\n",
    "savefig(p,\"first_coef.pdf\")\n",
    "display(p)"
   ]
  },
  {
   "cell_type": "code",
   "execution_count": null,
   "metadata": {},
   "outputs": [],
   "source": [
    "p = plot(js,abs.([ out.cs[2] for out in ba[2] ]), yaxis = ([1e-16,.1], :log), framestyle = :box, legend = false,yticks = 10.0 .^(-(1:2:16)))\n",
    "savefig(p,\"second_coef.pdf\")\n",
    "display(p)"
   ]
  },
  {
   "cell_type": "code",
   "execution_count": null,
   "metadata": {},
   "outputs": [],
   "source": [
    "p = plot(js,abs.([ out.cs[3] for out in ba[2] ]), yaxis = ([1e-15,.01], :log), framestyle = :box, legend = false, yticks = 10.0 .^(-(2:2:16)))\n",
    "savefig(p,\"third_coef.pdf\")\n",
    "display(p)"
   ]
  },
  {
   "cell_type": "markdown",
   "metadata": {},
   "source": [
    "## Old code"
   ]
  },
  {
   "cell_type": "code",
   "execution_count": null,
   "metadata": {},
   "outputs": [],
   "source": [
    "g = 3\n",
    "S = HyperellipticSurface(gaps[1:g,:],zs[1:g,:],α1,100,[true,true]);\n",
    "BA = BakerAkhiezerFunction(S,200.,[1e-40,false],20,0,true);\n",
    "@everywhere BA = $BA\n",
    "u = (x,t) -> -KdV(BA,x/sqrt(6) - 0*h/(2sqrt(6))*t,t*6^(-3/2),1e-8) - 0*h/2\n",
    "\n",
    "x = 0.1:.1:3|> Array\n",
    "U = pmap(x -> u(x,0) |> real, x);\n",
    "V = map(x -> x > pi ? 1 : 0,x)\n",
    "plot(x,U)\n",
    "plot!(x,V)\n",
    "print(maximum(abs.(U-V)))"
   ]
  },
  {
   "cell_type": "code",
   "execution_count": null,
   "metadata": {},
   "outputs": [],
   "source": [
    "g = 3\n",
    "S = HyperellipticSurface(gaps[1:g,:],zs[1:g,:],α1,100,[false,false]); # compare with old method\n",
    "BA = BakerAkhiezerFunction(S,200.,[1e-40,false],20,0,true);\n",
    "@everywhere BA = $BA\n",
    "u = (x,t) -> -KdV(BA,x/sqrt(6) - 0*h/(2sqrt(6))*t,t*6^(-3/2),1e-8) - 0*h/2\n",
    "\n",
    "x = 0.1:.1:3|> Array\n",
    "U = pmap(x -> u(x,0) |> real, x);\n",
    "V = map(x -> x > pi ? 1 : 0,x)\n",
    "plot(x,U)\n",
    "plot!(x,V)\n",
    "print(maximum(abs.(U-V)))"
   ]
  },
  {
   "cell_type": "code",
   "execution_count": null,
   "metadata": {},
   "outputs": [],
   "source": [
    "g = 30\n",
    "S = HyperellipticSurface(gaps[1:g,:],zs[1:g,:],α1,100,[true,true]);\n",
    "BA = BakerAkhiezerFunction(S,200.,[1e-40,false],20,0,true);\n",
    "@everywhere BA = $BA\n",
    "u = (x,t) -> -KdV(BA,x/sqrt(6) - 0*h/(2sqrt(6))*t,t*6^(-3/2),1e-8) - 0*h/2\n",
    "\n",
    "x = 0.1:.1:3|> Array\n",
    "U = pmap(x -> u(x,0) |> real, x);\n",
    "V = map(x -> x > pi ? 1 : 0,x)\n",
    "plot(x,U)\n",
    "plot!(x,V)\n",
    "print(maximum(abs.(U-V)))"
   ]
  },
  {
   "cell_type": "code",
   "execution_count": null,
   "metadata": {},
   "outputs": [],
   "source": [
    "g = 60\n",
    "S = HyperellipticSurface(gaps[1:g,:],zs[1:g,:],α1,100,[true,true]);\n",
    "BA = BakerAkhiezerFunction(S,200.,[1e-40,false],20,0,true);\n",
    "@everywhere BA = $BA\n",
    "u = (x,t) -> -KdV(BA,x/sqrt(6) - 0*h/(2sqrt(6))*t,t*6^(-3/2),1e-8) - 0*h/2\n",
    "\n",
    "x = 0.1:.1:3|> Array\n",
    "U = pmap(x -> u(x,0) |> real, x);\n",
    "V = map(x -> x > pi ? 1 : 0,x)\n",
    "plot(x,U)\n",
    "plot!(x,V)\n",
    "print(maximum(abs.(U-V)))"
   ]
  },
  {
   "cell_type": "code",
   "execution_count": null,
   "metadata": {},
   "outputs": [],
   "source": [
    "g = 120\n",
    "S = HyperellipticSurface(gaps[1:g,:],zs[1:g,:],α1,100,[true,true]);\n",
    "BA = BakerAkhiezerFunction(S,200.,[1e-40,false],20,0,true);\n",
    "@everywhere BA = $BA\n",
    "u = (x,t) -> -KdV(BA,x/sqrt(6) - 0*h/(2sqrt(6))*t,t*6^(-3/2),1e-8) - 0*h/2\n",
    "\n",
    "x = 0.1:.1:3|> Array\n",
    "U = pmap(x -> u(x,0) |> real, x);\n",
    "V = map(x -> x > pi ? 1 : 0,x)\n",
    "plot(x,U)\n",
    "plot!(x,V)\n",
    "print(maximum(abs.(U-V)))"
   ]
  },
  {
   "cell_type": "code",
   "execution_count": null,
   "metadata": {},
   "outputs": [],
   "source": [
    "g = 240\n",
    "S = HyperellipticSurface(gaps[1:g,:],zs[1:g,:],α1,100,[true,true]);\n",
    "BA = BakerAkhiezerFunction(S,200.,[1e-40,false],20,0,true);\n",
    "@everywhere BA = $BA\n",
    "u = (x,t) -> -KdV(BA,x/sqrt(6) - 0*h/(2sqrt(6))*t,t*6^(-3/2),1e-8) - 0*h/2\n",
    "\n",
    "x = 0.1:.1:3|> Array\n",
    "U = pmap(x -> u(x,0) |> real, x);\n",
    "V = map(x -> x > pi ? 1 : 0,x)\n",
    "plot(x,U)\n",
    "plot!(x,V)\n",
    "print(maximum(abs.(U-V)))"
   ]
  },
  {
   "cell_type": "code",
   "execution_count": null,
   "metadata": {
    "scrolled": true
   },
   "outputs": [],
   "source": [
    "g = 480\n",
    "S = HyperellipticSurface(gaps[1:g,:],zs[1:g,:],α1,100,[true,true]);\n",
    "BA = BakerAkhiezerFunction(S,200.,[1e-40,false],20,0,true);\n",
    "@everywhere BA = $BA\n",
    "u = (x,t) -> -KdV(BA,x/sqrt(6) - 0*h/(2sqrt(6))*t,t*6^(-3/2),1e-8) - 0*h/2\n",
    "\n",
    "x = 0.1:.1:3|> Array\n",
    "U = pmap(x -> u(x,0) |> real, x);\n",
    "V = map(x -> x > pi ? 1 : 0,x)\n",
    "plot(x,U)\n",
    "plot!(x,V)\n",
    "print(maximum(abs.(U-V)))"
   ]
  },
  {
   "cell_type": "code",
   "execution_count": null,
   "metadata": {},
   "outputs": [],
   "source": [
    "g = 480\n",
    "S = HyperellipticSurface(gaps[1:g,:],zs[1:g,:],α1,100,[true,true]);\n",
    "BA = BakerAkhiezerFunction(S,200.,[1e-40,false],20,0,true);\n",
    "@everywhere BA = $BA\n",
    "u = (x,t) -> -KdV(BA,x/sqrt(6) - 0*h/(2sqrt(6))*t,t*6^(-3/2),1e-8) - 0*h/2\n",
    "\n",
    "x = 0.1:.1:3|> Array\n",
    "U = pmap(x -> u(x,0) |> real, x);\n",
    "V = map(x -> x > pi ? 1 : 0,x)\n",
    "plot(x,U)\n",
    "plot!(x,V)\n",
    "print(maximum(abs.(U-V)))"
   ]
  },
  {
   "cell_type": "code",
   "execution_count": null,
   "metadata": {},
   "outputs": [],
   "source": [
    "x = 0.1:.1:3 |> Array\n",
    "t = 0.0*pi\n",
    "U = pmap(x -> u(x,0) |> real, x);\n",
    "V = map(x -> x > pi ? 1 : 0,x)\n",
    "plot(x,abs.(U-V))"
   ]
  },
  {
   "cell_type": "code",
   "execution_count": null,
   "metadata": {},
   "outputs": [],
   "source": [
    "S.Ωx*sqrt(6)"
   ]
  },
  {
   "cell_type": "code",
   "execution_count": null,
   "metadata": {},
   "outputs": [],
   "source": [
    "data = zeros(9)\n",
    "i = 1\n",
    "for g = 100:100:600\n",
    "    @everywhere g = $g\n",
    "    some_zs = hcat(zs[1:g] .- α1,sign.(map(tp,zs[1:g]) - map(tm,zs[1:g]) |> real));\n",
    "    @everywhere some_zs = $some_zs\n",
    "    @everywhere gaps = $gaps\n",
    "    @everywhere α1 = $α1\n",
    "    @everywhere S = HyperellipticSurface(gaps[1:g,:],some_zs[1:g,:],α1);\n",
    "    @everywhere BA = BakerAkhiezerFunction(S,100.,1e-9,100,4,false);\n",
    "    #  @everywhere BA = BakerAkhiezerFunction($S,200000.,1e-13,100,10,false);\n",
    "    u = (x,t) -> -KdV(BA,x/sqrt(6) - 0*h/(2sqrt(6))*t,t*6^(-3/2)) - 0*h/2\n",
    "    x = .1:.01:3 |> Array\n",
    "    t = 0.0*pi\n",
    "    U = pmap(x -> u(x,t) |> real, x);\n",
    "    data[i] = maximum(abs.(U - map(x -> x > pi ? 1 : 0,x)))\n",
    "    println((g,data[i]))\n",
    "    i += 1\n",
    "end"
   ]
  },
  {
   "cell_type": "code",
   "execution_count": null,
   "metadata": {},
   "outputs": [],
   "source": [
    "data"
   ]
  },
  {
   "cell_type": "code",
   "execution_count": null,
   "metadata": {},
   "outputs": [],
   "source": [
    "100:100:900 |> Array"
   ]
  },
  {
   "cell_type": "code",
   "execution_count": null,
   "metadata": {},
   "outputs": [],
   "source": [
    "plot(100:100:900,data,yaxis = :log, xaxis = :log)"
   ]
  },
  {
   "cell_type": "code",
   "execution_count": null,
   "metadata": {},
   "outputs": [],
   "source": [
    "@everywhere g = 300"
   ]
  },
  {
   "cell_type": "code",
   "execution_count": null,
   "metadata": {},
   "outputs": [],
   "source": [
    "some_zs = hcat(zs[1:g] .- α1,sign.(map(tp,zs[1:g]) - map(tm,zs[1:g]) |> real));"
   ]
  },
  {
   "cell_type": "code",
   "execution_count": null,
   "metadata": {},
   "outputs": [],
   "source": [
    "@everywhere some_zs = $some_zs\n",
    "@everywhere gaps = $gaps\n",
    "@everywhere α1 = $α1"
   ]
  },
  {
   "cell_type": "code",
   "execution_count": null,
   "metadata": {},
   "outputs": [],
   "source": [
    "@everywhere S = HyperellipticSurface(gaps[1:g,:],some_zs[1:g,:],α1);"
   ]
  },
  {
   "cell_type": "code",
   "execution_count": null,
   "metadata": {},
   "outputs": [],
   "source": [
    "@everywhere BA = BakerAkhiezerFunction(S,10.,1e-6);"
   ]
  },
  {
   "cell_type": "code",
   "execution_count": null,
   "metadata": {},
   "outputs": [],
   "source": [
    "# shft = 0;\n",
    "# u = (x,t) -> -KdV(BA,x/sqrt(6) - shft/(sqrt(6))*t,t*6^(-3/2)) - shft"
   ]
  },
  {
   "cell_type": "code",
   "execution_count": null,
   "metadata": {},
   "outputs": [],
   "source": [
    "u = (x,t) -> -KdV(BA,x/sqrt(6) - 0*h/(2sqrt(6))*t,t*6^(-3/2)) - 0*h/2"
   ]
  },
  {
   "cell_type": "code",
   "execution_count": null,
   "metadata": {},
   "outputs": [],
   "source": [
    "gaps[end-1,:][2] - gaps[end-1,:][1]"
   ]
  },
  {
   "cell_type": "markdown",
   "metadata": {},
   "source": [
    "### g = 500"
   ]
  },
  {
   "cell_type": "code",
   "execution_count": null,
   "metadata": {},
   "outputs": [],
   "source": [
    "x = 0:.01:2*pi |> Array\n",
    "t = 0.1*pi\n",
    "U = pmap(x -> u(x,t) |> real, x);"
   ]
  },
  {
   "cell_type": "code",
   "execution_count": null,
   "metadata": {},
   "outputs": [],
   "source": [
    "p0 = plot(x, U, xaxis = [minimum(x),maximum(x)], yaxis = [-0.4,1.2],lw=3, label = @sprintf(\"q(x,t), t = %1.2f\",t), framestyle = :box, fill = (-2,:lightblue))"
   ]
  },
  {
   "cell_type": "code",
   "execution_count": null,
   "metadata": {},
   "outputs": [],
   "source": [
    "savefig(p0,\"p0.pdf\")"
   ]
  },
  {
   "cell_type": "code",
   "execution_count": null,
   "metadata": {},
   "outputs": [],
   "source": [
    "x = 1:.001:2 |> Array\n",
    "t = 0.1*pi\n",
    "U = pmap(x -> u(x,t) |> real, x);"
   ]
  },
  {
   "cell_type": "code",
   "execution_count": null,
   "metadata": {},
   "outputs": [],
   "source": [
    "p1 = plot(x, U, xaxis = [minimum(x),maximum(x)], yaxis = [-.3,-.1],lw=3,label = @sprintf(\"q(x,t), t = %1.2f\",t), framestyle = :box, fill = (-2,:lightblue))\n"
   ]
  },
  {
   "cell_type": "code",
   "execution_count": null,
   "metadata": {},
   "outputs": [],
   "source": [
    "savefig(p1,\"p1.pdf\")"
   ]
  },
  {
   "cell_type": "code",
   "execution_count": null,
   "metadata": {},
   "outputs": [],
   "source": [
    "x = 0:.01:2*pi |> Array\n",
    "t = 0.0\n",
    "U = pmap(x -> u(x,t) |> real, x);"
   ]
  },
  {
   "cell_type": "code",
   "execution_count": null,
   "metadata": {},
   "outputs": [],
   "source": [
    "p2 = plot(x, U, xaxis = [minimum(x),maximum(x)], yaxis = [-0.4,1.2],lw=3, label = @sprintf(\"q(x,t), t = %1.2f\",t), framestyle = :box, fill = (-2,:lightblue))"
   ]
  },
  {
   "cell_type": "code",
   "execution_count": null,
   "metadata": {},
   "outputs": [],
   "source": [
    "savefig(p2,\"p2.pdf\")"
   ]
  },
  {
   "cell_type": "code",
   "execution_count": null,
   "metadata": {},
   "outputs": [],
   "source": [
    "x = 0:.01:2*pi |> Array\n",
    "t = 50.1*pi\n",
    "U = pmap(x -> u(x,t) |> real, x);"
   ]
  },
  {
   "cell_type": "code",
   "execution_count": null,
   "metadata": {},
   "outputs": [],
   "source": [
    "p3 = plot(x, U, xaxis = [minimum(x),maximum(x)], yaxis = [-1.4,2.2],lw=3,label = @sprintf(\"q(x,t), t = %1.2f\",t), framestyle = :box, fill = (-2,:lightblue))"
   ]
  },
  {
   "cell_type": "code",
   "execution_count": null,
   "metadata": {},
   "outputs": [],
   "source": [
    "savefig(p3,\"p3.pdf\")"
   ]
  },
  {
   "cell_type": "code",
   "execution_count": null,
   "metadata": {},
   "outputs": [],
   "source": [
    "x = 0:.01:2*pi |> Array\n",
    "t = 0.1\n",
    "U = pmap(x -> u(x,t) |> real, x);"
   ]
  },
  {
   "cell_type": "code",
   "execution_count": null,
   "metadata": {},
   "outputs": [],
   "source": [
    "p4 = plot(x, U, xaxis = [minimum(x),maximum(x)], yaxis = [-1.4,2.2],lw=3,label = @sprintf(\"q(x,t), t = %1.2f\",t), framestyle = :box, fill = (-2,:lightblue))"
   ]
  },
  {
   "cell_type": "code",
   "execution_count": null,
   "metadata": {},
   "outputs": [],
   "source": [
    "savefig(p4,\"p4.pdf\")"
   ]
  },
  {
   "cell_type": "markdown",
   "metadata": {},
   "source": [
    "# g = 300"
   ]
  },
  {
   "cell_type": "code",
   "execution_count": null,
   "metadata": {},
   "outputs": [],
   "source": [
    "x = 0:.01:2*pi |> Array\n",
    "t = 0.1*pi\n",
    "U = pmap(x -> u(x,t) |> real, x);"
   ]
  },
  {
   "cell_type": "code",
   "execution_count": null,
   "metadata": {
    "scrolled": true
   },
   "outputs": [],
   "source": [
    "plot(x, U, xaxis = [minimum(x),maximum(x)], yaxis = [-0.4,1.2],lw=3,label = @sprintf(\"q(x,t), t = %1.2f\",t), framestyle = :box, fill = (-2,:lightblue), legend = false)"
   ]
  },
  {
   "cell_type": "code",
   "execution_count": null,
   "metadata": {},
   "outputs": [],
   "source": []
  },
  {
   "cell_type": "code",
   "execution_count": null,
   "metadata": {},
   "outputs": [],
   "source": [
    "x = 1:.001:2 |> Array\n",
    "t = 0.1*pi\n",
    "U = pmap(x -> u(x,t) |> real, x);"
   ]
  },
  {
   "cell_type": "code",
   "execution_count": null,
   "metadata": {},
   "outputs": [],
   "source": [
    "plot(x, U, xaxis = [minimum(x),maximum(x)], yaxis = [-.3,-.1],lw=3,label = @sprintf(\"q(x,t), t = %1.2f\",t), framestyle = :box, fill = (-2,:lightblue))\n"
   ]
  },
  {
   "cell_type": "code",
   "execution_count": null,
   "metadata": {},
   "outputs": [],
   "source": [
    "x = 0:0.01:.5 |> Array\n",
    "t = 0.25*pi\n",
    "U = map(x -> u(x,t) |> real, x);"
   ]
  },
  {
   "cell_type": "code",
   "execution_count": null,
   "metadata": {},
   "outputs": [],
   "source": [
    "plot(x, U, xaxis = [minimum(x),maximum(x)], yaxis = [-.2,.2],lw=3,label = @sprintf(\"q(x,t), t = %1.2f\",t), framestyle = :box, fill = (-2,:lightblue))"
   ]
  },
  {
   "cell_type": "code",
   "execution_count": null,
   "metadata": {},
   "outputs": [],
   "source": []
  }
 ],
 "metadata": {
  "kernelspec": {
   "display_name": "Julia 1.6.3",
   "language": "julia",
   "name": "julia-1.6"
  },
  "language_info": {
   "file_extension": ".jl",
   "mimetype": "application/julia",
   "name": "julia",
   "version": "1.6.3"
  }
 },
 "nbformat": 4,
 "nbformat_minor": 4
}
