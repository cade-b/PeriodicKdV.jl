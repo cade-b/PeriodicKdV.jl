{
 "cells": [
  {
   "cell_type": "markdown",
   "metadata": {},
   "source": [
    "## Cosine initial data\n",
    "\n",
    "Consider solving\n",
    "\n",
    "\\begin{align*}\n",
    "    q_t &+ q q_x + \\delta^2 q_{xxx} = 0,  x \\in (0,2), t > 0,\\\\\n",
    "    q(x,0) &= \\cos(\\pi x).\n",
    "\\end{align*}"
   ]
  },
  {
   "cell_type": "code",
   "execution_count": null,
   "metadata": {},
   "outputs": [],
   "source": [
    "δ = .08\n",
    "b = 1/(δ^(1)*sqrt(6))\n",
    "c = b^3*δ^2\n",
    "a = (6c)/b;"
   ]
  },
  {
   "cell_type": "code",
   "execution_count": null,
   "metadata": {},
   "outputs": [],
   "source": [
    "ss = 0.1\n",
    "q0 = x -> 1/a*cos((x)*pi/b-0.1*pi)\n",
    "L = 2*b\n",
    "tol = 1e-14\n",
    "n = 300;"
   ]
  },
  {
   "cell_type": "markdown",
   "metadata": {},
   "source": [
    "Load solution data computed using a Fourier spectral method"
   ]
  },
  {
   "cell_type": "code",
   "execution_count": null,
   "metadata": {},
   "outputs": [],
   "source": [
    "using FileIO, JLD2"
   ]
  },
  {
   "cell_type": "code",
   "execution_count": null,
   "metadata": {},
   "outputs": [],
   "source": [
    "using PeriodicKdV, Plots"
   ]
  },
  {
   "cell_type": "code",
   "execution_count": null,
   "metadata": {},
   "outputs": [],
   "source": [
    "X,U = load(\"kdv_cosine_1.jld2\", \"X\", \"U\");\n",
    "g = 5\n",
    "gaps,zs,α1 = PeriodicKdV.ScatteringData(q0,L,n,tol,g);\n",
    "S = HyperellipticSurface(gaps,zs,α1,500;cycleflag=false)\n",
    "BA = BakerAkhiezerFunction(S,200000.;tols=[1e-13,false],K=10);\n",
    "u(x,t) = a*PeriodicKdV.KdV(BA,b*(x),c*t,1e-13)"
   ]
  },
  {
   "cell_type": "code",
   "execution_count": null,
   "metadata": {},
   "outputs": [],
   "source": [
    "t = 1.0\n",
    "Urs = map(x -> u(x,t) |> real, X);\n",
    "plot(X,Urs)\n",
    "plot!(X,U |> real)"
   ]
  },
  {
   "cell_type": "code",
   "execution_count": null,
   "metadata": {},
   "outputs": [],
   "source": []
  }
 ],
 "metadata": {
  "kernelspec": {
   "display_name": "Julia 1.6.3",
   "language": "julia",
   "name": "julia-1.6"
  },
  "language_info": {
   "file_extension": ".jl",
   "mimetype": "application/julia",
   "name": "julia",
   "version": "1.6.3"
  }
 },
 "nbformat": 4,
 "nbformat_minor": 4
}
