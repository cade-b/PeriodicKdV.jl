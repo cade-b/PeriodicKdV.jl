{
 "cells": [
  {
   "cell_type": "markdown",
   "id": "c1726d00",
   "metadata": {},
   "source": [
    "## Dressing computation"
   ]
  },
  {
   "cell_type": "code",
   "execution_count": null,
   "id": "cf6b2c95",
   "metadata": {},
   "outputs": [],
   "source": [
    "using PeriodicKdV, Plots"
   ]
  },
  {
   "cell_type": "markdown",
   "id": "2bf3148d",
   "metadata": {},
   "source": [
    "### Small gaps"
   ]
  },
  {
   "cell_type": "code",
   "execution_count": null,
   "id": "20cdb8c7",
   "metadata": {},
   "outputs": [],
   "source": [
    "gap_width = n -> isodd(n) ? exp(-n) : 0.1*n^5*exp(-n)\n",
    "gap_start = n -> 4.0(n-1) + .4\n",
    "g = 12\n",
    "gaps = map(gap_start,1:g)\n",
    "gaps = hcat(gaps, gaps + map(gap_width,1:g))\n",
    "zs = gaps |> copy\n",
    "zs[:,2] = 0*zs[:,2] .+ 1.0;\n",
    "α1 = 0.1;"
   ]
  },
  {
   "cell_type": "code",
   "execution_count": null,
   "id": "9209dffe",
   "metadata": {},
   "outputs": [],
   "source": [
    "S = HyperellipticSurface(gaps,zs,α1,300);\n",
    "BA = BakerAkhiezerFunction(S,200.; tols = [1e-17,1e-10]);\n",
    "u(x,t) = PeriodicKdV.KdV(BA,x,t,1e-8)"
   ]
  },
  {
   "cell_type": "code",
   "execution_count": null,
   "id": "68e675be",
   "metadata": {},
   "outputs": [],
   "source": [
    "x = 0:.01:5\n",
    "plot(x, map( x -> u(x,1.0), x) |> real)"
   ]
  },
  {
   "cell_type": "markdown",
   "id": "3e8e3410",
   "metadata": {},
   "source": [
    "### Large gaps"
   ]
  },
  {
   "cell_type": "code",
   "execution_count": null,
   "id": "d1941bf2",
   "metadata": {},
   "outputs": [],
   "source": [
    "gap_width = n -> isodd(n) ? 1/n : 3/n\n",
    "gap_start = n -> 2.0(n-1)^2 + .4\n",
    "g = 12\n",
    "gaps = map(gap_start,1:g)\n",
    "gaps = hcat(gaps, gaps + map(gap_width,1:g))\n",
    "zs = gaps |> copy\n",
    "zs[:,2] = 0*zs[:,2] .+ 1.0;\n",
    "α1 = 0.1"
   ]
  },
  {
   "cell_type": "code",
   "execution_count": null,
   "id": "671a2d40",
   "metadata": {},
   "outputs": [],
   "source": [
    "S = HyperellipticSurface(gaps,zs,α1,300);\n",
    "BA = BakerAkhiezerFunction(S,200.; tols = [1e-17,1e-10]);\n",
    "u(x,t) = PeriodicKdV.KdV(BA,x,t,1e-8)"
   ]
  },
  {
   "cell_type": "code",
   "execution_count": null,
   "id": "7639cf0d",
   "metadata": {},
   "outputs": [],
   "source": [
    "x = 0:.02:5\n",
    "plot(x, map( x -> u(x,1.0), x) |> real)"
   ]
  },
  {
   "cell_type": "markdown",
   "id": "c8a603c0",
   "metadata": {},
   "source": [
    "### Uniform gaps"
   ]
  },
  {
   "cell_type": "code",
   "execution_count": null,
   "id": "2674c9fe",
   "metadata": {},
   "outputs": [],
   "source": [
    "gap_width = n -> 1.0\n",
    "gap_start = n -> 1.0 + 2*n"
   ]
  },
  {
   "cell_type": "code",
   "execution_count": null,
   "id": "c54650ec",
   "metadata": {},
   "outputs": [],
   "source": [
    "g = 12\n",
    "gaps = map(gap_start,1:g)\n",
    "gaps = hcat(gaps, gaps + map(gap_width,1:g))/g\n",
    "zs = gaps |> copy;\n",
    "zs[:,1] = zs[:,2] |> copy\n",
    "zs[:,2] = 0*zs[:,2] .+ 1.0;\n",
    "α1 = 0.0;"
   ]
  },
  {
   "cell_type": "code",
   "execution_count": null,
   "id": "4441e925",
   "metadata": {},
   "outputs": [],
   "source": [
    "S = HyperellipticSurface(gaps,zs,α1,300);\n",
    "BA = BakerAkhiezerFunction(S,200.; tols = [1e-17,1e-10]);\n",
    "u(x,t) = PeriodicKdV.KdV(BA,x,t,1e-8)"
   ]
  },
  {
   "cell_type": "code",
   "execution_count": null,
   "id": "bbdb3a68",
   "metadata": {},
   "outputs": [],
   "source": [
    "x = -10:.02:10\n",
    "plot(x, map( x -> u(x,1.0), x) |> real)"
   ]
  },
  {
   "cell_type": "code",
   "execution_count": null,
   "id": "51347c64",
   "metadata": {},
   "outputs": [],
   "source": []
  }
 ],
 "metadata": {
  "kernelspec": {
   "display_name": "Julia 1.6.3",
   "language": "julia",
   "name": "julia-1.6"
  },
  "language_info": {
   "file_extension": ".jl",
   "mimetype": "application/julia",
   "name": "julia",
   "version": "1.6.3"
  }
 },
 "nbformat": 4,
 "nbformat_minor": 5
}
