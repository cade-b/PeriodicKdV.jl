{
 "cells": [
  {
   "cell_type": "code",
   "execution_count": null,
   "id": "32e57423",
   "metadata": {},
   "outputs": [],
   "source": [
    "using PeriodicKdV, Elliptic, Plots"
   ]
  },
  {
   "cell_type": "markdown",
   "id": "0f4b1d5c",
   "metadata": {},
   "source": [
    "A particular solution of\n",
    "\n",
    "$$q_t + 6 q q_x + q_{xxx} = 0$$\n",
    "\n",
    "is given by\n",
    "\n",
    "$$\n",
    "q(x,t) = u_0 + 6 \\kappa^2 k^2 \\mathrm{cn}^2(\\kappa (x - x_0 - (8 \\kappa^2 k^2 - 4 \\kappa^2 + 6 q_0) t ).$$"
   ]
  },
  {
   "cell_type": "code",
   "execution_count": null,
   "id": "7712b3fc",
   "metadata": {},
   "outputs": [],
   "source": [
    "k = 0.7\n",
    "κ = 1.0\n",
    "u0 = .5\n",
    "interval = (0.0,2*Elliptic.K(k^2)/κ)\n",
    "q0 = x -> u0 + 2*k^2*κ^2*Elliptic.Jacobi.cn(κ*(x),k^2)^2\n",
    "q = (x,t) -> q0(x+4*κ^2*t-8*κ^2*k^2*t - 6*u0*t)"
   ]
  },
  {
   "cell_type": "code",
   "execution_count": null,
   "id": "8c843d4b",
   "metadata": {},
   "outputs": [],
   "source": [
    "gaps,zs,α1 = PeriodicKdV.ScatteringData(q0,interval[2],200,1e-12,1);"
   ]
  },
  {
   "cell_type": "code",
   "execution_count": null,
   "id": "3e2f9c4a",
   "metadata": {},
   "outputs": [],
   "source": [
    "S = HyperellipticSurface(gaps,zs,α1,300);"
   ]
  },
  {
   "cell_type": "code",
   "execution_count": null,
   "id": "7d1d6d52",
   "metadata": {},
   "outputs": [],
   "source": [
    "BA = BakerAkhiezerFunction(S,200.; tols = [1e-17,1e-10]);"
   ]
  },
  {
   "cell_type": "code",
   "execution_count": null,
   "id": "ae5342d3",
   "metadata": {},
   "outputs": [],
   "source": [
    "x = 0:.01:interval[2]\n",
    "qtrue =  map( X -> q(X,0.0),x)\n",
    "g = (t) -> x -> KdV(BA,x,t,1e-14,directsolve = true)[1] |> real\n",
    "qapprox =  map(g(0.0),x)\n",
    "plot(x,abs.(qtrue-qapprox), yaxis = :log)"
   ]
  },
  {
   "cell_type": "code",
   "execution_count": null,
   "id": "155786a2",
   "metadata": {},
   "outputs": [],
   "source": []
  }
 ],
 "metadata": {
  "kernelspec": {
   "display_name": "Julia 1.6.3",
   "language": "julia",
   "name": "julia-1.6"
  },
  "language_info": {
   "file_extension": ".jl",
   "mimetype": "application/julia",
   "name": "julia",
   "version": "1.6.3"
  }
 },
 "nbformat": 4,
 "nbformat_minor": 5
}
