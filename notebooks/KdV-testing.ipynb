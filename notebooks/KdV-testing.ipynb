{
 "cells": [
  {
   "cell_type": "code",
   "execution_count": 1,
   "metadata": {
    "scrolled": false
   },
   "outputs": [],
   "source": [
    "include(\"./PeriodicKdV.jl\")\n",
    "using .PeriodicKdV\n",
    "using LinearAlgebra, Plots, SparseArrays, Printf"
   ]
  },
  {
   "cell_type": "markdown",
   "metadata": {},
   "source": [
    "# Genus thirty"
   ]
  },
  {
   "cell_type": "code",
   "execution_count": 2,
   "metadata": {
    "scrolled": false,
    "slideshow": {
     "slide_type": "fragment"
    }
   },
   "outputs": [
    {
     "data": {
      "text/plain": [
       "100×2 Array{Float64,2}:\n",
       "  0.1   1.0901\n",
       "  1.1   1.55249\n",
       "  2.1   2.28484\n",
       "  3.1   3.19425\n",
       "  4.1   4.15615\n",
       "  5.1   5.13702\n",
       "  6.1   6.12617\n",
       "  7.1   7.11945\n",
       "  8.1   8.11501\n",
       "  9.1   9.11193\n",
       " 10.1  10.1097\n",
       " 11.1  11.1081\n",
       " 12.1  12.1068\n",
       "  ⋮    \n",
       " 88.1  88.1001\n",
       " 89.1  89.1001\n",
       " 90.1  90.1001\n",
       " 91.1  91.1001\n",
       " 92.1  92.1001\n",
       " 93.1  93.1001\n",
       " 94.1  94.1001\n",
       " 95.1  95.1001\n",
       " 96.1  96.1001\n",
       " 97.1  97.1001\n",
       " 98.1  98.1001\n",
       " 99.1  99.1001"
      ]
     },
     "metadata": {},
     "output_type": "display_data"
    },
    {
     "data": {
      "text/plain": [
       "100×2 Array{Float64,2}:\n",
       "  0.518962  1.0\n",
       "  1.28264   1.0\n",
       "  2.17598   1.0\n",
       "  3.14037   1.0\n",
       "  4.12574   1.0\n",
       "  5.11762   1.0\n",
       "  6.11264   1.0\n",
       "  7.10896   1.0\n",
       "  8.1075    1.0\n",
       "  9.10482   1.0\n",
       " 10.1045    1.0\n",
       " 11.104     1.0\n",
       " 12.1029    1.0\n",
       "  ⋮         \n",
       " 88.1001    1.0\n",
       " 89.1001    1.0\n",
       " 90.1001    1.0\n",
       " 91.1001    1.0\n",
       " 92.1001    1.0\n",
       " 93.1001    1.0\n",
       " 94.1001    1.0\n",
       " 95.1       1.0\n",
       " 96.1       1.0\n",
       " 97.1001    1.0\n",
       " 98.1       1.0\n",
       " 99.1001    1.0"
      ]
     },
     "metadata": {},
     "output_type": "display_data"
    }
   ],
   "source": [
    "left_edge = 0.1\n",
    "max_left_edge = 100\n",
    "dx = 1.0\n",
    "left = left_edge:dx:max_left_edge |> Array\n",
    "gapfun = x -> dx./(1 .+ x.^2)\n",
    "len = dx*gapfun(left)\n",
    "right = left + len\n",
    "gaps = hcat(left,right)\n",
    "σ = .5 .+ rand(size(gaps)[1])/10\n",
    "zs = σ.*gaps[:,1] + (1.0 .- σ).*gaps[:,2]\n",
    "o = fill(1.0,size(gaps)[1])\n",
    "zs = hcat(zs,o)\n",
    "\n",
    "gaps |> display\n",
    "zs |> display"
   ]
  },
  {
   "cell_type": "code",
   "execution_count": 3,
   "metadata": {
    "scrolled": false
   },
   "outputs": [],
   "source": [
    "S = HyperellipticSurface(gaps,zs);"
   ]
  },
  {
   "cell_type": "code",
   "execution_count": 4,
   "metadata": {
    "scrolled": false
   },
   "outputs": [],
   "source": [
    "BA = BakerAkhiezerFunction(S,10,1e-10);"
   ]
  },
  {
   "cell_type": "code",
   "execution_count": 6,
   "metadata": {
    "scrolled": false
   },
   "outputs": [
    {
     "name": "stdout",
     "output_type": "stream",
     "text": [
      "  9.220956 seconds (38.97 M allocations: 5.694 GiB, 15.96% gc time)\n"
     ]
    }
   ],
   "source": [
    "@time out = BA(0.0,0.0);"
   ]
  },
  {
   "cell_type": "code",
   "execution_count": null,
   "metadata": {},
   "outputs": [],
   "source": [
    "v = rand(10) |> sparse\n",
    "A = rand(10,10) |> sparse\n",
    "sparse(Array(A)\\Array(v))"
   ]
  },
  {
   "cell_type": "code",
   "execution_count": null,
   "metadata": {},
   "outputs": [],
   "source": [
    "v = BA.Cp[100,1].Vt"
   ]
  },
  {
   "cell_type": "code",
   "execution_count": null,
   "metadata": {
    "scrolled": false
   },
   "outputs": [],
   "source": [
    "x = -5:.1:5\n",
    "y = map(x -> KdV(BA,x,0.), x);"
   ]
  },
  {
   "cell_type": "code",
   "execution_count": null,
   "metadata": {
    "scrolled": false
   },
   "outputs": [],
   "source": [
    "plot(x,real(y))"
   ]
  },
  {
   "cell_type": "code",
   "execution_count": null,
   "metadata": {
    "scrolled": false
   },
   "outputs": [],
   "source": [
    "T = 5\n",
    "k = 0.01\n",
    "n = convert(Int64,ceil(T/k))\n",
    "plot()\n",
    "anim = Animation()\n",
    "t = 0.0\n",
    "x = -5:0.05:5 |> Array\n",
    "q = map(x -> KdV(BA,x,t) |> real, x);\n",
    "p = plot(x, q, xaxis = [minimum(x),maximum(x)], yaxis = [-2,2],lw=3,label = @sprintf(\"q(x,t), t = %1.2f\",t))\n",
    "frame(anim)\n",
    "p |> IJulia.display\n",
    "for i = 2:n+1\n",
    "    t += k\n",
    "    IJulia.clear_output(true)\n",
    "    q = map(x -> KdV(BA,x,t) |> real, x);\n",
    "    p = plot(x, q, xaxis = [minimum(x),maximum(x)], yaxis = [-2,2],lw=3,label = @sprintf(\"q(x,t), t = %1.2f\",t))\n",
    "    frame(anim)\n",
    "    p |> IJulia.display\n",
    "end\n",
    "gif(anim,\"genus_thirty.gif\")"
   ]
  },
  {
   "cell_type": "code",
   "execution_count": null,
   "metadata": {},
   "outputs": [],
   "source": [
    "gif(anim,\"genus_thirty.gif\")"
   ]
  },
  {
   "cell_type": "code",
   "execution_count": null,
   "metadata": {},
   "outputs": [],
   "source": []
  }
 ],
 "metadata": {
  "kernelspec": {
   "display_name": "Julia 1.4.2",
   "language": "julia",
   "name": "julia-1.4"
  },
  "language_info": {
   "file_extension": ".jl",
   "mimetype": "application/julia",
   "name": "julia",
   "version": "1.4.2"
  }
 },
 "nbformat": 4,
 "nbformat_minor": 2
}
