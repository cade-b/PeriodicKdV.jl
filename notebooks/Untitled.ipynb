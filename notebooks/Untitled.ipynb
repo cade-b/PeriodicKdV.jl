{
 "cells": [
  {
   "cell_type": "code",
   "execution_count": 1,
   "metadata": {},
   "outputs": [],
   "source": [
    "include(\"./PeriodicKdV.jl\")\n",
    "using .PeriodicKdV\n",
    "using LinearAlgebra, Plots, SparseArrays, Printf, FFTW"
   ]
  },
  {
   "cell_type": "code",
   "execution_count": 29,
   "metadata": {},
   "outputs": [
    {
     "data": {
      "text/plain": [
       "498-element Array{Complex{Float64},1}:\n",
       "                1.1 + 0.0im\n",
       " 1.0999124496312522 + 0.013878153557953932im\n",
       " 1.0996498124614944 + 0.027754097956886888im\n",
       " 1.0992121302979647 + 0.04162562438943732im\n",
       " 1.0985994728119992 + 0.05549052475150656im\n",
       " 1.0978119375279414 + 0.06934659199375033im\n",
       " 1.0968496498076172 + 0.08319162047290238im\n",
       " 1.0957127628303813 + 0.09702340630287418im\n",
       " 1.0944014575687318 + 0.11083974770557509im\n",
       " 1.0929159427595034 + 0.12463844536139683im\n",
       " 1.0912564548706407 + 0.13841730275930667im\n",
       " 1.0894232580635554 + 0.15217412654649354im\n",
       " 1.0874166441510775 + 0.16590672687751123im\n",
       "                    ⋮\n",
       " 1.0874166441510775 - 0.16590672687751157im\n",
       " 1.0894232580635554 - 0.152174126546494im\n",
       " 1.0912564548706407 - 0.13841730275930733im\n",
       " 1.0929159427595034 - 0.12463844536139668im\n",
       " 1.0944014575687318 - 0.11083974770557507im\n",
       " 1.0957127628303813 - 0.09702340630287432im\n",
       " 1.0968496498076172 - 0.08319162047290268im\n",
       " 1.0978119375279414 - 0.0693465919937508im\n",
       " 1.0985994728119992 - 0.055490524751507175im\n",
       " 1.0992121302979647 - 0.041625624389437114im\n",
       " 1.0996498124614944 - 0.027754097956887817im\n",
       " 1.0999124496312522 - 0.013878153557954045im"
      ]
     },
     "execution_count": 29,
     "metadata": {},
     "output_type": "execute_result"
    }
   ],
   "source": [
    "n = 100\n",
    "f = x -> sin(x)\n",
    "cs = transformV(map(f,Ugrid(n)));\n",
    "cs = fill(0im,n)\n",
    "cs[end] = 1.0\n",
    "W = WeightedInterval(-1.0,1.0,chebW)\n",
    "F = PeriodicKdV.WeightFun(cs,W)\n",
    "\n",
    "r = 0.1\n",
    "R = 1 + r\n",
    "eps = 1e-16\n",
    "m = convert(Integer,ceil(100*log(n) - log(eps)))\n",
    "θ = 2im*pi*Array(0:1/m:1-1/m)\n",
    "z = R*exp.(θ)"
   ]
  },
  {
   "cell_type": "code",
   "execution_count": 32,
   "metadata": {},
   "outputs": [
    {
     "data": {
      "text/plain": [
       "498-element Array{Float64,1}:\n",
       " 0.0\n",
       " 0.0\n",
       " 0.0\n",
       " 0.0\n",
       " 0.0\n",
       " 0.0\n",
       " 0.0\n",
       " 0.0\n",
       " 0.0\n",
       " 0.0\n",
       " 0.0\n",
       " 0.0\n",
       " 0.0\n",
       " ⋮\n",
       " 0.0\n",
       " 0.0\n",
       " 0.0\n",
       " 0.0\n",
       " 0.0\n",
       " 0.0\n",
       " 0.0\n",
       " 0.0\n",
       " 0.0\n",
       " 0.0\n",
       " 0.0\n",
       " 0.0"
      ]
     },
     "execution_count": 32,
     "metadata": {},
     "output_type": "execute_result"
    }
   ],
   "source": [
    "abs.(map(x -> Cauchy(F,x,1),z) |> fft)"
   ]
  },
  {
   "cell_type": "code",
   "execution_count": 30,
   "metadata": {},
   "outputs": [
    {
     "name": "stderr",
     "output_type": "stream",
     "text": [
      "┌ Warning: No strict ticks found\n",
      "└ @ PlotUtils /Users/thomastrogdon/.julia/packages/PlotUtils/3Ttrk/src/ticks.jl:283\n"
     ]
    },
    {
     "ename": "ArgumentError",
     "evalue": "ArgumentError: At least one finite value must be provided to formatter.",
     "output_type": "error",
     "traceback": [
      "ArgumentError: At least one finite value must be provided to formatter.",
      "",
      "Stacktrace:",
      " [1] showoff(::Array{Float64,1}, ::Symbol) at /Users/thomastrogdon/.julia/packages/Showoff/C1Bj4/src/Showoff.jl:111",
      " [2] optimal_ticks_and_labels(::Plots.Subplot{Plots.GRBackend}, ::Plots.Axis, ::Nothing) at /Users/thomastrogdon/.julia/packages/Plots/5ItHH/src/axes.jl:193",
      " [3] optimal_ticks_and_labels at /Users/thomastrogdon/.julia/packages/Plots/5ItHH/src/axes.jl:135 [inlined]",
      " [4] get_ticks(::Plots.Subplot{Plots.GRBackend}, ::Plots.Axis; update::Bool) at /Users/thomastrogdon/.julia/packages/Plots/5ItHH/src/axes.jl:241",
      " [5] get_ticks at /Users/thomastrogdon/.julia/packages/Plots/5ItHH/src/axes.jl:217 [inlined]",
      " [6] _update_min_padding!(::Plots.Subplot{Plots.GRBackend}) at /Users/thomastrogdon/.julia/packages/Plots/5ItHH/src/backends/gr.jl:797",
      " [7] iterate at ./generator.jl:47 [inlined]",
      " [8] _collect(::Array{AbstractLayout,2}, ::Base.Generator{Array{AbstractLayout,2},typeof(Plots._update_min_padding!)}, ::Base.EltypeUnknown, ::Base.HasShape{2}) at ./array.jl:699",
      " [9] collect_similar(::Array{AbstractLayout,2}, ::Base.Generator{Array{AbstractLayout,2},typeof(Plots._update_min_padding!)}) at ./array.jl:628",
      " [10] map(::Function, ::Array{AbstractLayout,2}) at ./abstractarray.jl:2162",
      " [11] _update_min_padding!(::Plots.GridLayout) at /Users/thomastrogdon/.julia/packages/Plots/5ItHH/src/layouts.jl:282",
      " [12] prepare_output(::Plots.Plot{Plots.GRBackend}) at /Users/thomastrogdon/.julia/packages/Plots/5ItHH/src/plot.jl:184",
      " [13] show(::Base.GenericIOBuffer{Array{UInt8,1}}, ::MIME{Symbol(\"image/svg+xml\")}, ::Plots.Plot{Plots.GRBackend}) at /Users/thomastrogdon/.julia/packages/Plots/5ItHH/src/output.jl:214",
      " [14] sprint(::Function, ::MIME{Symbol(\"image/svg+xml\")}, ::Vararg{Any,N} where N; context::Nothing, sizehint::Int64) at ./strings/io.jl:105",
      " [15] sprint at ./strings/io.jl:101 [inlined]",
      " [16] _ijulia_display_dict(::Plots.Plot{Plots.GRBackend}) at /Users/thomastrogdon/.julia/packages/Plots/5ItHH/src/ijulia.jl:53",
      " [17] display_dict(::Plots.Plot{Plots.GRBackend}) at /Users/thomastrogdon/.julia/packages/Plots/5ItHH/src/init.jl:77",
      " [18] #invokelatest#1 at ./essentials.jl:710 [inlined]",
      " [19] invokelatest at ./essentials.jl:709 [inlined]",
      " [20] execute_request(::ZMQ.Socket, ::IJulia.Msg) at /Users/thomastrogdon/.julia/packages/IJulia/rWZ9e/src/execute_request.jl:130",
      " [21] #invokelatest#1 at ./essentials.jl:710 [inlined]",
      " [22] invokelatest at ./essentials.jl:709 [inlined]",
      " [23] eventloop(::ZMQ.Socket) at /Users/thomastrogdon/.julia/packages/IJulia/rWZ9e/src/eventloop.jl:8",
      " [24] (::IJulia.var\"#15#18\")() at ./task.jl:356"
     ]
    }
   ],
   "source": [
    "plot(abs.(map(x -> Cauchy(F,x,1),z) |> fft), yaxis = :log, size = (200,100), legend = false)"
   ]
  },
  {
   "cell_type": "code",
   "execution_count": null,
   "metadata": {},
   "outputs": [],
   "source": []
  }
 ],
 "metadata": {
  "kernelspec": {
   "display_name": "Julia 1.5.2",
   "language": "julia",
   "name": "julia-1.5"
  },
  "language_info": {
   "file_extension": ".jl",
   "mimetype": "application/julia",
   "name": "julia",
   "version": "1.5.2"
  }
 },
 "nbformat": 4,
 "nbformat_minor": 2
}
