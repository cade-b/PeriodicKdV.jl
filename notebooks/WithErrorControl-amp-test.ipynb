{
 "cells": [
  {
   "cell_type": "code",
   "execution_count": 151,
   "metadata": {},
   "outputs": [
    {
     "name": "stderr",
     "output_type": "stream",
     "text": [
      "WARNING: replacing module PeriodicKdV.\n",
      "WARNING: using PeriodicKdV.WeightedInterval in module Main conflicts with an existing identifier.\n",
      "WARNING: using PeriodicKdV.KdV in module Main conflicts with an existing identifier.\n",
      "WARNING: using PeriodicKdV.HyperellipticSurface in module Main conflicts with an existing identifier.\n",
      "WARNING: using PeriodicKdV.BakerAkhiezerFunction in module Main conflicts with an existing identifier.\n",
      "WARNING: using PeriodicKdV.BlockVector in module Main conflicts with an existing identifier.\n",
      "WARNING: using PeriodicKdV.Cut in module Main conflicts with an existing identifier.\n"
     ]
    }
   ],
   "source": [
    "include(\"./PeriodicKdV.jl\")\n",
    "using .PeriodicKdV\n",
    "using LinearAlgebra, Plots, Printf\n",
    "using ApproxFun"
   ]
  },
  {
   "cell_type": "markdown",
   "metadata": {},
   "source": [
    "# Compute scattering data"
   ]
  },
  {
   "cell_type": "code",
   "execution_count": 101,
   "metadata": {},
   "outputs": [
    {
     "data": {
      "text/plain": [
       "1.0000000000000002"
      ]
     },
     "execution_count": 101,
     "metadata": {},
     "output_type": "execute_result"
    }
   ],
   "source": [
    "δ = 0.022\n",
    "b = 1/(δ^(1)*sqrt(6))\n",
    "c = b^3*δ^2\n",
    "a = (6c)/b"
   ]
  },
  {
   "cell_type": "code",
   "execution_count": 102,
   "metadata": {},
   "outputs": [],
   "source": [
    "q0 = x -> 1/a*cos((x)*pi/b+0.1)\n",
    "L = 2*b\n",
    "tol = 1e-14\n",
    "n = 500;"
   ]
  },
  {
   "cell_type": "code",
   "execution_count": 106,
   "metadata": {},
   "outputs": [],
   "source": [
    "gaps,zs,α1 = PeriodicKdV.ScatteringData(q0,L,n,tol,15);"
   ]
  },
  {
   "cell_type": "code",
   "execution_count": 107,
   "metadata": {},
   "outputs": [
    {
     "data": {
      "text/plain": [
       "15×2 Array{Float64,2}:\n",
       " 4.10783e-15  0.232023\n",
       " 0.232023     0.456319\n",
       " 0.456319     0.672433\n",
       " 0.672433     0.879805\n",
       " 0.879805     1.07773\n",
       " 1.07773      1.26525\n",
       " 1.26528      1.44096\n",
       " 1.44124      1.60194\n",
       " 1.60432      1.74048\n",
       " 1.75475      1.84655\n",
       " 1.8977       1.93813\n",
       " 2.04384      2.05406\n",
       " 2.2032       2.20486\n",
       " 2.38012      2.38033\n",
       " 2.57486      2.57488"
      ]
     },
     "execution_count": 107,
     "metadata": {},
     "output_type": "execute_result"
    }
   ],
   "source": [
    "gaps"
   ]
  },
  {
   "cell_type": "code",
   "execution_count": 108,
   "metadata": {},
   "outputs": [
    {
     "data": {
      "text/plain": [
       "15-element Array{Float64,1}:\n",
       " 0.23202278830215362\n",
       " 0.22429635405209758\n",
       " 0.21611366740338694\n",
       " 0.2073719269205988\n",
       " 0.19792227842065313\n",
       " 0.1875259866142014\n",
       " 0.1756799360345993\n",
       " 0.1606955476760894\n",
       " 0.1361512223263146\n",
       " 0.09179169197996373\n",
       " 0.04042901349751027\n",
       " 0.010220892139749527\n",
       " 0.0016604497912671157\n",
       " 0.0002045297499697618\n",
       " 2.0517837926892213e-5"
      ]
     },
     "execution_count": 108,
     "metadata": {},
     "output_type": "execute_result"
    }
   ],
   "source": [
    "gaps[:,2] - gaps[:,1]"
   ]
  },
  {
   "cell_type": "code",
   "execution_count": 109,
   "metadata": {},
   "outputs": [
    {
     "data": {
      "text/plain": [
       "15×2 Array{Float64,2}:\n",
       " 0.183352   1.0\n",
       " 0.287368  -1.0\n",
       " 0.603936   1.0\n",
       " 0.746217  -1.0\n",
       " 1.00006    1.0\n",
       " 1.15887   -1.0\n",
       " 1.36214    1.0\n",
       " 1.52107   -1.0\n",
       " 1.67716    1.0\n",
       " 1.8122    -1.0\n",
       " 1.91969    1.0\n",
       " 2.05011   -1.0\n",
       " 2.20385    1.0\n",
       " 2.38025   -1.0\n",
       " 2.57487    1.0"
      ]
     },
     "execution_count": 109,
     "metadata": {},
     "output_type": "execute_result"
    }
   ],
   "source": [
    "zs"
   ]
  },
  {
   "cell_type": "markdown",
   "metadata": {},
   "source": [
    "# Constructing the objects"
   ]
  },
  {
   "cell_type": "code",
   "execution_count": 120,
   "metadata": {},
   "outputs": [
    {
     "data": {
      "text/plain": [
       "0.0001620877392230593"
      ]
     },
     "metadata": {},
     "output_type": "display_data"
    },
    {
     "data": {
      "text/plain": [
       "1.9979038266473113e-5"
      ]
     },
     "metadata": {},
     "output_type": "display_data"
    },
    {
     "data": {
      "text/plain": [
       "1.7206624609867544e-14"
      ]
     },
     "metadata": {},
     "output_type": "display_data"
    },
    {
     "data": {
      "text/plain": [
       "6.266405824930681e-15"
      ]
     },
     "metadata": {},
     "output_type": "display_data"
    },
    {
     "data": {
      "text/plain": [
       "3.4156930276556753e-15"
      ]
     },
     "metadata": {},
     "output_type": "display_data"
    },
    {
     "data": {
      "text/plain": [
       "2.231010290827759e-15"
      ]
     },
     "metadata": {},
     "output_type": "display_data"
    },
    {
     "data": {
      "text/plain": [
       "1.6182417971987797e-15"
      ]
     },
     "metadata": {},
     "output_type": "display_data"
    },
    {
     "data": {
      "text/plain": [
       "1.2582161388459354e-15"
      ]
     },
     "metadata": {},
     "output_type": "display_data"
    },
    {
     "data": {
      "text/plain": [
       "1.0284103304438601e-15"
      ]
     },
     "metadata": {},
     "output_type": "display_data"
    },
    {
     "data": {
      "text/plain": [
       "8.720408589200609e-16"
      ]
     },
     "metadata": {},
     "output_type": "display_data"
    },
    {
     "data": {
      "text/plain": [
       "7.569472398506226e-16"
      ]
     },
     "metadata": {},
     "output_type": "display_data"
    },
    {
     "data": {
      "text/plain": [
       "6.634693397198845e-16"
      ]
     },
     "metadata": {},
     "output_type": "display_data"
    },
    {
     "data": {
      "text/plain": [
       "5.818041850646887e-16"
      ]
     },
     "metadata": {},
     "output_type": "display_data"
    },
    {
     "data": {
      "text/plain": [
       "5.093858668507191e-16"
      ]
     },
     "metadata": {},
     "output_type": "display_data"
    },
    {
     "data": {
      "text/plain": [
       "4.458424847597587e-16"
      ]
     },
     "metadata": {},
     "output_type": "display_data"
    },
    {
     "data": {
      "text/plain": [
       "1.5143602973078204e-14"
      ]
     },
     "metadata": {},
     "output_type": "display_data"
    },
    {
     "data": {
      "text/plain": [
       "0.00017218367420956748"
      ]
     },
     "metadata": {},
     "output_type": "display_data"
    },
    {
     "data": {
      "text/plain": [
       "1.657403872725789e-5"
      ]
     },
     "metadata": {},
     "output_type": "display_data"
    },
    {
     "data": {
      "text/plain": [
       "1.4043334677999201e-14"
      ]
     },
     "metadata": {},
     "output_type": "display_data"
    },
    {
     "data": {
      "text/plain": [
       "4.572554814754041e-15"
      ]
     },
     "metadata": {},
     "output_type": "display_data"
    },
    {
     "data": {
      "text/plain": [
       "2.2375460920127795e-15"
      ]
     },
     "metadata": {},
     "output_type": "display_data"
    },
    {
     "data": {
      "text/plain": [
       "1.3178417875949938e-15"
      ]
     },
     "metadata": {},
     "output_type": "display_data"
    },
    {
     "data": {
      "text/plain": [
       "8.661984666833342e-16"
      ]
     },
     "metadata": {},
     "output_type": "display_data"
    },
    {
     "data": {
      "text/plain": [
       "6.137998327798431e-16"
      ]
     },
     "metadata": {},
     "output_type": "display_data"
    },
    {
     "data": {
      "text/plain": [
       "4.588983210402424e-16"
      ]
     },
     "metadata": {},
     "output_type": "display_data"
    },
    {
     "data": {
      "text/plain": [
       "3.543124844188087e-16"
      ]
     },
     "metadata": {},
     "output_type": "display_data"
    },
    {
     "data": {
      "text/plain": [
       "2.755644894870568e-16"
      ]
     },
     "metadata": {},
     "output_type": "display_data"
    },
    {
     "data": {
      "text/plain": [
       "2.1187338990833324e-16"
      ]
     },
     "metadata": {},
     "output_type": "display_data"
    },
    {
     "data": {
      "text/plain": [
       "1.5953511677835085e-16"
      ]
     },
     "metadata": {},
     "output_type": "display_data"
    },
    {
     "data": {
      "text/plain": [
       "1.1725956851601292e-16"
      ]
     },
     "metadata": {},
     "output_type": "display_data"
    },
    {
     "data": {
      "text/plain": [
       "1.5467853775767724e-14"
      ]
     },
     "metadata": {},
     "output_type": "display_data"
    },
    {
     "data": {
      "text/plain": [
       "3.181885726692225e-14"
      ]
     },
     "metadata": {},
     "output_type": "display_data"
    },
    {
     "data": {
      "text/plain": [
       "0.00014659828197877248"
      ]
     },
     "metadata": {},
     "output_type": "display_data"
    },
    {
     "data": {
      "text/plain": [
       "5.15748132580111e-7"
      ]
     },
     "metadata": {},
     "output_type": "display_data"
    },
    {
     "data": {
      "text/plain": [
       "1.517349961877059e-14"
      ]
     },
     "metadata": {},
     "output_type": "display_data"
    },
    {
     "data": {
      "text/plain": [
       "1.0720379284079157e-14"
      ]
     },
     "metadata": {},
     "output_type": "display_data"
    },
    {
     "data": {
      "text/plain": [
       "8.33170854233602e-15"
      ]
     },
     "metadata": {},
     "output_type": "display_data"
    },
    {
     "data": {
      "text/plain": [
       "6.8825788892608674e-15"
      ]
     },
     "metadata": {},
     "output_type": "display_data"
    },
    {
     "data": {
      "text/plain": [
       "5.924718455505442e-15"
      ]
     },
     "metadata": {},
     "output_type": "display_data"
    },
    {
     "data": {
      "text/plain": [
       "5.249847009286405e-15"
      ]
     },
     "metadata": {},
     "output_type": "display_data"
    },
    {
     "data": {
      "text/plain": [
       "4.736640823057779e-15"
      ]
     },
     "metadata": {},
     "output_type": "display_data"
    },
    {
     "data": {
      "text/plain": [
       "4.306128623700477e-15"
      ]
     },
     "metadata": {},
     "output_type": "display_data"
    },
    {
     "data": {
      "text/plain": [
       "3.9176788639867614e-15"
      ]
     },
     "metadata": {},
     "output_type": "display_data"
    },
    {
     "data": {
      "text/plain": [
       "3.5609218575402015e-15"
      ]
     },
     "metadata": {},
     "output_type": "display_data"
    },
    {
     "data": {
      "text/plain": [
       "3.2364080873632545e-15"
      ]
     },
     "metadata": {},
     "output_type": "display_data"
    },
    {
     "data": {
      "text/plain": [
       "2.9283373251209527e-15"
      ]
     },
     "metadata": {},
     "output_type": "display_data"
    },
    {
     "data": {
      "text/plain": [
       "4.471078481848707e-15"
      ]
     },
     "metadata": {},
     "output_type": "display_data"
    },
    {
     "data": {
      "text/plain": [
       "9.111430655615421e-15"
      ]
     },
     "metadata": {},
     "output_type": "display_data"
    },
    {
     "data": {
      "text/plain": [
       "4.330590120463745e-6"
      ]
     },
     "metadata": {},
     "output_type": "display_data"
    },
    {
     "data": {
      "text/plain": [
       "1.269240762305542e-14"
      ]
     },
     "metadata": {},
     "output_type": "display_data"
    },
    {
     "data": {
      "text/plain": [
       "4.858019151182322e-15"
      ]
     },
     "metadata": {},
     "output_type": "display_data"
    },
    {
     "data": {
      "text/plain": [
       "3.321311028728257e-15"
      ]
     },
     "metadata": {},
     "output_type": "display_data"
    },
    {
     "data": {
      "text/plain": [
       "2.5612802974843486e-15"
      ]
     },
     "metadata": {},
     "output_type": "display_data"
    },
    {
     "data": {
      "text/plain": [
       "2.1129461610904433e-15"
      ]
     },
     "metadata": {},
     "output_type": "display_data"
    },
    {
     "data": {
      "text/plain": [
       "1.8192825841152513e-15"
      ]
     },
     "metadata": {},
     "output_type": "display_data"
    },
    {
     "data": {
      "text/plain": [
       "1.6070701140342854e-15"
      ]
     },
     "metadata": {},
     "output_type": "display_data"
    },
    {
     "data": {
      "text/plain": [
       "1.435812033776406e-15"
      ]
     },
     "metadata": {},
     "output_type": "display_data"
    },
    {
     "data": {
      "text/plain": [
       "1.2863767360666827e-15"
      ]
     },
     "metadata": {},
     "output_type": "display_data"
    },
    {
     "data": {
      "text/plain": [
       "1.1531031329484447e-15"
      ]
     },
     "metadata": {},
     "output_type": "display_data"
    },
    {
     "data": {
      "text/plain": [
       "1.0350609983051912e-15"
      ]
     },
     "metadata": {},
     "output_type": "display_data"
    },
    {
     "data": {
      "text/plain": [
       "8.490612294884185e-20"
      ]
     },
     "metadata": {},
     "output_type": "display_data"
    },
    {
     "data": {
      "text/plain": [
       "1.1634630445793442e-19"
      ]
     },
     "metadata": {},
     "output_type": "display_data"
    },
    {
     "data": {
      "text/plain": [
       "7.718599059584105e-20"
      ]
     },
     "metadata": {},
     "output_type": "display_data"
    },
    {
     "data": {
      "text/plain": [
       "4.1190394345782163e-19"
      ]
     },
     "metadata": {},
     "output_type": "display_data"
    },
    {
     "data": {
      "text/plain": [
       "1.4537046449064642e-14"
      ]
     },
     "metadata": {},
     "output_type": "display_data"
    },
    {
     "data": {
      "text/plain": [
       "7.367030825390141e-16"
      ]
     },
     "metadata": {},
     "output_type": "display_data"
    },
    {
     "data": {
      "text/plain": [
       "2.2815406040248607e-20"
      ]
     },
     "metadata": {},
     "output_type": "display_data"
    },
    {
     "data": {
      "text/plain": [
       "1.6498237163513105e-20"
      ]
     },
     "metadata": {},
     "output_type": "display_data"
    },
    {
     "data": {
      "text/plain": [
       "3.152451264701017e-20"
      ]
     },
     "metadata": {},
     "output_type": "display_data"
    },
    {
     "data": {
      "text/plain": [
       "1.2940996436807677e-20"
      ]
     },
     "metadata": {},
     "output_type": "display_data"
    },
    {
     "data": {
      "text/plain": [
       "3.357912582536589e-21"
      ]
     },
     "metadata": {},
     "output_type": "display_data"
    },
    {
     "data": {
      "text/plain": [
       "3.7857014457912506e-20"
      ]
     },
     "metadata": {},
     "output_type": "display_data"
    },
    {
     "data": {
      "text/plain": [
       "5.857180851730489e-20"
      ]
     },
     "metadata": {},
     "output_type": "display_data"
    },
    {
     "data": {
      "text/plain": [
       "6.735757979490063e-20"
      ]
     },
     "metadata": {},
     "output_type": "display_data"
    },
    {
     "data": {
      "text/plain": [
       "1.5716257521004583e-21"
      ]
     },
     "metadata": {},
     "output_type": "display_data"
    },
    {
     "data": {
      "text/plain": [
       "6.30049431082907e-20"
      ]
     },
     "metadata": {},
     "output_type": "display_data"
    },
    {
     "data": {
      "text/plain": [
       "1.988643229102919e-19"
      ]
     },
     "metadata": {},
     "output_type": "display_data"
    },
    {
     "data": {
      "text/plain": [
       "1.6766563511432697e-19"
      ]
     },
     "metadata": {},
     "output_type": "display_data"
    },
    {
     "data": {
      "text/plain": [
       "4.2778886325466133e-19"
      ]
     },
     "metadata": {},
     "output_type": "display_data"
    },
    {
     "data": {
      "text/plain": [
       "5.083174334988722e-19"
      ]
     },
     "metadata": {},
     "output_type": "display_data"
    },
    {
     "data": {
      "text/plain": [
       "7.989384074163216e-15"
      ]
     },
     "metadata": {},
     "output_type": "display_data"
    },
    {
     "data": {
      "text/plain": [
       "1.4842084011937726e-16"
      ]
     },
     "metadata": {},
     "output_type": "display_data"
    },
    {
     "data": {
      "text/plain": [
       "3.554787457238734e-19"
      ]
     },
     "metadata": {},
     "output_type": "display_data"
    },
    {
     "data": {
      "text/plain": [
       "1.3799640750150366e-19"
      ]
     },
     "metadata": {},
     "output_type": "display_data"
    },
    {
     "data": {
      "text/plain": [
       "3.7412359367074326e-21"
      ]
     },
     "metadata": {},
     "output_type": "display_data"
    },
    {
     "data": {
      "text/plain": [
       "3.373245516703423e-21"
      ]
     },
     "metadata": {},
     "output_type": "display_data"
    },
    {
     "data": {
      "text/plain": [
       "3.281247911702421e-20"
      ]
     },
     "metadata": {},
     "output_type": "display_data"
    },
    {
     "data": {
      "text/plain": [
       "2.672530425279121e-20"
      ]
     },
     "metadata": {},
     "output_type": "display_data"
    },
    {
     "data": {
      "text/plain": [
       "7.776864209418073e-20"
      ]
     },
     "metadata": {},
     "output_type": "display_data"
    },
    {
     "data": {
      "text/plain": [
       "3.7841681523745674e-20"
      ]
     },
     "metadata": {},
     "output_type": "display_data"
    },
    {
     "data": {
      "text/plain": [
       "1.2688003023054922e-21"
      ]
     },
     "metadata": {},
     "output_type": "display_data"
    },
    {
     "data": {
      "text/plain": [
       "9.632915890313298e-21"
      ]
     },
     "metadata": {},
     "output_type": "display_data"
    },
    {
     "data": {
      "text/plain": [
       "2.539708883058924e-20"
      ]
     },
     "metadata": {},
     "output_type": "display_data"
    },
    {
     "data": {
      "text/plain": [
       "6.743424446573479e-20"
      ]
     },
     "metadata": {},
     "output_type": "display_data"
    },
    {
     "data": {
      "text/plain": [
       "1.469201751866009e-19"
      ]
     },
     "metadata": {},
     "output_type": "display_data"
    },
    {
     "data": {
      "text/plain": [
       "2.735395455363139e-20"
      ]
     },
     "metadata": {},
     "output_type": "display_data"
    },
    {
     "data": {
      "text/plain": [
       "3.1504847238965155e-15"
      ]
     },
     "metadata": {},
     "output_type": "display_data"
    },
    {
     "data": {
      "text/plain": [
       "3.845156431316565e-17"
      ]
     },
     "metadata": {},
     "output_type": "display_data"
    },
    {
     "data": {
      "text/plain": [
       "1.2818332963473009e-18"
      ]
     },
     "metadata": {},
     "output_type": "display_data"
    },
    {
     "data": {
      "text/plain": [
       "4.896725855520023e-19"
      ]
     },
     "metadata": {},
     "output_type": "display_data"
    },
    {
     "data": {
      "text/plain": [
       "3.093572797500376e-19"
      ]
     },
     "metadata": {},
     "output_type": "display_data"
    },
    {
     "data": {
      "text/plain": [
       "2.2668209872247e-19"
      ]
     },
     "metadata": {},
     "output_type": "display_data"
    },
    {
     "data": {
      "text/plain": [
       "1.7976332017195878e-19"
      ]
     },
     "metadata": {},
     "output_type": "display_data"
    },
    {
     "data": {
      "text/plain": [
       "1.1309572241456568e-19"
      ]
     },
     "metadata": {},
     "output_type": "display_data"
    },
    {
     "data": {
      "text/plain": [
       "9.983273436025449e-20"
      ]
     },
     "metadata": {},
     "output_type": "display_data"
    },
    {
     "data": {
      "text/plain": [
       "1.2553073202386784e-19"
      ]
     },
     "metadata": {},
     "output_type": "display_data"
    },
    {
     "data": {
      "text/plain": [
       "2.4190770235013594e-19"
      ]
     },
     "metadata": {},
     "output_type": "display_data"
    },
    {
     "data": {
      "text/plain": [
       "1.3295187216061538e-19"
      ]
     },
     "metadata": {},
     "output_type": "display_data"
    },
    {
     "data": {
      "text/plain": [
       "2.4498962211766953e-19"
      ]
     },
     "metadata": {},
     "output_type": "display_data"
    },
    {
     "data": {
      "text/plain": [
       "3.53761457097188e-19"
      ]
     },
     "metadata": {},
     "output_type": "display_data"
    },
    {
     "data": {
      "text/plain": [
       "2.0415801843139125e-19"
      ]
     },
     "metadata": {},
     "output_type": "display_data"
    },
    {
     "data": {
      "text/plain": [
       "2.1895429990238583e-20"
      ]
     },
     "metadata": {},
     "output_type": "display_data"
    },
    {
     "data": {
      "text/plain": [
       "2.1114603384379405e-16"
      ]
     },
     "metadata": {},
     "output_type": "display_data"
    },
    {
     "data": {
      "text/plain": [
       "4.5140158187158535e-18"
      ]
     },
     "metadata": {},
     "output_type": "display_data"
    },
    {
     "data": {
      "text/plain": [
       "2.075956622715954e-18"
      ]
     },
     "metadata": {},
     "output_type": "display_data"
    },
    {
     "data": {
      "text/plain": [
       "9.952914226375118e-19"
      ]
     },
     "metadata": {},
     "output_type": "display_data"
    },
    {
     "data": {
      "text/plain": [
       "7.082588950343841e-19"
      ]
     },
     "metadata": {},
     "output_type": "display_data"
    },
    {
     "data": {
      "text/plain": [
       "4.99117672998772e-19"
      ]
     },
     "metadata": {},
     "output_type": "display_data"
    },
    {
     "data": {
      "text/plain": [
       "3.9884028354767923e-19"
      ]
     },
     "metadata": {},
     "output_type": "display_data"
    },
    {
     "data": {
      "text/plain": [
       "2.523800963860834e-19"
      ]
     },
     "metadata": {},
     "output_type": "display_data"
    },
    {
     "data": {
      "text/plain": [
       "5.887846720064156e-20"
      ]
     },
     "metadata": {},
     "output_type": "display_data"
    },
    {
     "data": {
      "text/plain": [
       "5.1334663590559367e-20"
      ]
     },
     "metadata": {},
     "output_type": "display_data"
    },
    {
     "data": {
      "text/plain": [
       "2.0300804836887875e-20"
      ]
     },
     "metadata": {},
     "output_type": "display_data"
    },
    {
     "data": {
      "text/plain": [
       "5.949178456731491e-20"
      ]
     },
     "metadata": {},
     "output_type": "display_data"
    },
    {
     "data": {
      "text/plain": [
       "1.8497651778868225e-19"
      ]
     },
     "metadata": {},
     "output_type": "display_data"
    },
    {
     "data": {
      "text/plain": [
       "2.288900412424941e-19"
      ]
     },
     "metadata": {},
     "output_type": "display_data"
    },
    {
     "data": {
      "text/plain": [
       "3.76454199664102e-19"
      ]
     },
     "metadata": {},
     "output_type": "display_data"
    },
    {
     "data": {
      "text/plain": [
       "2.38212465215929e-19"
      ]
     },
     "metadata": {},
     "output_type": "display_data"
    },
    {
     "data": {
      "text/plain": [
       "1.5851653462871393e-16"
      ]
     },
     "metadata": {},
     "output_type": "display_data"
    },
    {
     "data": {
      "text/plain": [
       "3.721119127080547e-18"
      ]
     },
     "metadata": {},
     "output_type": "display_data"
    },
    {
     "data": {
      "text/plain": [
       "5.097893951788882e-19"
      ]
     },
     "metadata": {},
     "output_type": "display_data"
    },
    {
     "data": {
      "text/plain": [
       "2.8973112401649037e-19"
      ]
     },
     "metadata": {},
     "output_type": "display_data"
    },
    {
     "data": {
      "text/plain": [
       "2.51950774229412e-19"
      ]
     },
     "metadata": {},
     "output_type": "display_data"
    },
    {
     "data": {
      "text/plain": [
       "1.7749404591526738e-19"
      ]
     },
     "metadata": {},
     "output_type": "display_data"
    },
    {
     "data": {
      "text/plain": [
       "1.2106884818131922e-19"
      ]
     },
     "metadata": {},
     "output_type": "display_data"
    },
    {
     "data": {
      "text/plain": [
       "9.635215830438323e-20"
      ]
     },
     "metadata": {},
     "output_type": "display_data"
    },
    {
     "data": {
      "text/plain": [
       "8.850169601096435e-20"
      ]
     },
     "metadata": {},
     "output_type": "display_data"
    },
    {
     "data": {
      "text/plain": [
       "1.4345493206489648e-19"
      ]
     },
     "metadata": {},
     "output_type": "display_data"
    },
    {
     "data": {
      "text/plain": [
       "1.3100458952142748e-19"
      ]
     },
     "metadata": {},
     "output_type": "display_data"
    },
    {
     "data": {
      "text/plain": [
       "1.8129661358864216e-19"
      ]
     },
     "metadata": {},
     "output_type": "display_data"
    },
    {
     "data": {
      "text/plain": [
       "2.101225298222896e-19"
      ]
     },
     "metadata": {},
     "output_type": "display_data"
    },
    {
     "data": {
      "text/plain": [
       "2.0656528909558416e-19"
      ]
     },
     "metadata": {},
     "output_type": "display_data"
    },
    {
     "data": {
      "text/plain": [
       "4.0061890391103197e-19"
      ]
     },
     "metadata": {},
     "output_type": "display_data"
    },
    {
     "data": {
      "text/plain": [
       "5.034108945654854e-19"
      ]
     },
     "metadata": {},
     "output_type": "display_data"
    },
    {
     "data": {
      "text/plain": [
       "1.0789675376074902e-16"
      ]
     },
     "metadata": {},
     "output_type": "display_data"
    },
    {
     "data": {
      "text/plain": [
       "2.54943762978778e-18"
      ]
     },
     "metadata": {},
     "output_type": "display_data"
    },
    {
     "data": {
      "text/plain": [
       "8.164480785155631e-19"
      ]
     },
     "metadata": {},
     "output_type": "display_data"
    },
    {
     "data": {
      "text/plain": [
       "4.1018665483113626e-19"
      ]
     },
     "metadata": {},
     "output_type": "display_data"
    },
    {
     "data": {
      "text/plain": [
       "2.2398350230910727e-19"
      ]
     },
     "metadata": {},
     "output_type": "display_data"
    },
    {
     "data": {
      "text/plain": [
       "1.3627911887481827e-19"
      ]
     },
     "metadata": {},
     "output_type": "display_data"
    },
    {
     "data": {
      "text/plain": [
       "7.654200736083403e-20"
      ]
     },
     "metadata": {},
     "output_type": "display_data"
    },
    {
     "data": {
      "text/plain": [
       "8.58030995976016e-20"
      ]
     },
     "metadata": {},
     "output_type": "display_data"
    },
    {
     "data": {
      "text/plain": [
       "9.803878106273494e-20"
      ]
     },
     "metadata": {},
     "output_type": "display_data"
    },
    {
     "data": {
      "text/plain": [
       "1.138317032545737e-19"
      ]
     },
     "metadata": {},
     "output_type": "display_data"
    },
    {
     "data": {
      "text/plain": [
       "1.6001450096507691e-19"
      ]
     },
     "metadata": {},
     "output_type": "display_data"
    },
    {
     "data": {
      "text/plain": [
       "1.8233925311198683e-19"
      ]
     },
     "metadata": {},
     "output_type": "display_data"
    },
    {
     "data": {
      "text/plain": [
       "2.0914122203561223e-19"
      ]
     },
     "metadata": {},
     "output_type": "display_data"
    },
    {
     "data": {
      "text/plain": [
       "3.429057397070698e-19"
      ]
     },
     "metadata": {},
     "output_type": "display_data"
    },
    {
     "data": {
      "text/plain": [
       "4.807181519985715e-19"
      ]
     },
     "metadata": {},
     "output_type": "display_data"
    },
    {
     "data": {
      "text/plain": [
       "8.274877911156832e-19"
      ]
     },
     "metadata": {},
     "output_type": "display_data"
    },
    {
     "data": {
      "text/plain": [
       "1.3408589597159438e-17"
      ]
     },
     "metadata": {},
     "output_type": "display_data"
    },
    {
     "data": {
      "text/plain": [
       "1.6267629833643925e-18"
      ]
     },
     "metadata": {},
     "output_type": "display_data"
    },
    {
     "data": {
      "text/plain": [
       "6.120907319400029e-19"
      ]
     },
     "metadata": {},
     "output_type": "display_data"
    },
    {
     "data": {
      "text/plain": [
       "3.6339053975395963e-19"
      ]
     },
     "metadata": {},
     "output_type": "display_data"
    },
    {
     "data": {
      "text/plain": [
       "2.552626880094481e-19"
      ]
     },
     "metadata": {},
     "output_type": "display_data"
    },
    {
     "data": {
      "text/plain": [
       "2.701279676841934e-20"
      ]
     },
     "metadata": {},
     "output_type": "display_data"
    },
    {
     "data": {
      "text/plain": [
       "3.007842529340066e-20"
      ]
     },
     "metadata": {},
     "output_type": "display_data"
    },
    {
     "data": {
      "text/plain": [
       "3.5370204197729156e-20"
      ]
     },
     "metadata": {},
     "output_type": "display_data"
    },
    {
     "data": {
      "text/plain": [
       "4.022116124476118e-20"
      ]
     },
     "metadata": {},
     "output_type": "display_data"
    },
    {
     "data": {
      "text/plain": [
       "4.752251283333033e-20"
      ]
     },
     "metadata": {},
     "output_type": "display_data"
    },
    {
     "data": {
      "text/plain": [
       "5.617603755373712e-20"
      ]
     },
     "metadata": {},
     "output_type": "display_data"
    },
    {
     "data": {
      "text/plain": [
       "6.885829072647948e-20"
      ]
     },
     "metadata": {},
     "output_type": "display_data"
    },
    {
     "data": {
      "text/plain": [
       "8.981266188222863e-20"
      ]
     },
     "metadata": {},
     "output_type": "display_data"
    },
    {
     "data": {
      "text/plain": [
       "1.2318862632988399e-19"
      ]
     },
     "metadata": {},
     "output_type": "display_data"
    },
    {
     "data": {
      "text/plain": [
       "1.841792052120069e-19"
      ]
     },
     "metadata": {},
     "output_type": "display_data"
    },
    {
     "data": {
      "text/plain": [
       "3.5471209901553175e-19"
      ]
     },
     "metadata": {},
     "output_type": "display_data"
    },
    {
     "data": {
      "text/plain": [
       "7.564312942823757e-17"
      ]
     },
     "metadata": {},
     "output_type": "display_data"
    },
    {
     "data": {
      "text/plain": [
       "3.7470624516908293e-19"
      ]
     },
     "metadata": {},
     "output_type": "display_data"
    },
    {
     "data": {
      "text/plain": [
       "1.691030976924676e-19"
      ]
     },
     "metadata": {},
     "output_type": "display_data"
    },
    {
     "data": {
      "text/plain": [
       "1.0638756371657592e-19"
      ]
     },
     "metadata": {},
     "output_type": "display_data"
    },
    {
     "data": {
      "text/plain": [
       "1.3904305994121232e-21"
      ]
     },
     "metadata": {},
     "output_type": "display_data"
    },
    {
     "data": {
      "text/plain": [
       "1.5542564126145921e-21"
      ]
     },
     "metadata": {},
     "output_type": "display_data"
    },
    {
     "data": {
      "text/plain": [
       "1.7568338211527694e-21"
      ]
     },
     "metadata": {},
     "output_type": "display_data"
    },
    {
     "data": {
      "text/plain": [
       "1.993161653140208e-21"
      ]
     },
     "metadata": {},
     "output_type": "display_data"
    },
    {
     "data": {
      "text/plain": [
       "2.3148537992732703e-21"
      ]
     },
     "metadata": {},
     "output_type": "display_data"
    },
    {
     "data": {
      "text/plain": [
       "2.7223744401761483e-21"
      ]
     },
     "metadata": {},
     "output_type": "display_data"
    },
    {
     "data": {
      "text/plain": [
       "3.260165127223024e-21"
      ]
     },
     "metadata": {},
     "output_type": "display_data"
    },
    {
     "data": {
      "text/plain": [
       "4.014293932280069e-21"
      ]
     },
     "metadata": {},
     "output_type": "display_data"
    },
    {
     "data": {
      "text/plain": [
       "5.115510055683996e-21"
      ]
     },
     "metadata": {},
     "output_type": "display_data"
    },
    {
     "data": {
      "text/plain": [
       "6.821538558840606e-21"
      ]
     },
     "metadata": {},
     "output_type": "display_data"
    },
    {
     "data": {
      "text/plain": [
       "9.999588636287344e-21"
      ]
     },
     "metadata": {},
     "output_type": "display_data"
    },
    {
     "data": {
      "text/plain": [
       "1.9020504833957256e-20"
      ]
     },
     "metadata": {},
     "output_type": "display_data"
    },
    {
     "data": {
      "text/plain": [
       "1.7392699211069516e-17"
      ]
     },
     "metadata": {},
     "output_type": "display_data"
    },
    {
     "data": {
      "text/plain": [
       "1.7521950096245615e-20"
      ]
     },
     "metadata": {},
     "output_type": "display_data"
    },
    {
     "data": {
      "text/plain": [
       "8.298112097961513e-21"
      ]
     },
     "metadata": {},
     "output_type": "display_data"
    },
    {
     "data": {
      "text/plain": [
       "1.4317141316001496e-22"
      ]
     },
     "metadata": {},
     "output_type": "display_data"
    },
    {
     "data": {
      "text/plain": [
       "1.5869245278141006e-22"
      ]
     },
     "metadata": {},
     "output_type": "display_data"
    },
    {
     "data": {
      "text/plain": [
       "1.7718013066628557e-22"
      ]
     },
     "metadata": {},
     "output_type": "display_data"
    },
    {
     "data": {
      "text/plain": [
       "1.9952747979979175e-22"
      ]
     },
     "metadata": {},
     "output_type": "display_data"
    },
    {
     "data": {
      "text/plain": [
       "2.2712189489032272e-22"
      ]
     },
     "metadata": {},
     "output_type": "display_data"
    },
    {
     "data": {
      "text/plain": [
       "2.614829591808837e-22"
      ]
     },
     "metadata": {},
     "output_type": "display_data"
    },
    {
     "data": {
      "text/plain": [
       "3.056390769051095e-22"
      ]
     },
     "metadata": {},
     "output_type": "display_data"
    },
    {
     "data": {
      "text/plain": [
       "3.6283155772406157e-22"
      ]
     },
     "metadata": {},
     "output_type": "display_data"
    },
    {
     "data": {
      "text/plain": [
       "4.390722893994428e-22"
      ]
     },
     "metadata": {},
     "output_type": "display_data"
    },
    {
     "data": {
      "text/plain": [
       "5.44771645446381e-22"
      ]
     },
     "metadata": {},
     "output_type": "display_data"
    },
    {
     "data": {
      "text/plain": [
       "7.061057632619359e-22"
      ]
     },
     "metadata": {},
     "output_type": "display_data"
    },
    {
     "data": {
      "text/plain": [
       "1.012887042690887e-21"
      ]
     },
     "metadata": {},
     "output_type": "display_data"
    },
    {
     "data": {
      "text/plain": [
       "1.9238452610583573e-21"
      ]
     },
     "metadata": {},
     "output_type": "display_data"
    },
    {
     "data": {
      "text/plain": [
       "1.6770580740184406e-17"
      ]
     },
     "metadata": {},
     "output_type": "display_data"
    },
    {
     "data": {
      "text/plain": [
       "1.7516941437574906e-21"
      ]
     },
     "metadata": {},
     "output_type": "display_data"
    },
    {
     "data": {
      "text/plain": [
       "1.2516272861897238e-23"
      ]
     },
     "metadata": {},
     "output_type": "display_data"
    },
    {
     "data": {
      "text/plain": [
       "1.3756085066674834e-23"
      ]
     },
     "metadata": {},
     "output_type": "display_data"
    },
    {
     "data": {
      "text/plain": [
       "1.5211833238015824e-23"
      ]
     },
     "metadata": {},
     "output_type": "display_data"
    },
    {
     "data": {
      "text/plain": [
       "1.69400466183139e-23"
      ]
     },
     "metadata": {},
     "output_type": "display_data"
    },
    {
     "data": {
      "text/plain": [
       "1.9012684975532238e-23"
      ]
     },
     "metadata": {},
     "output_type": "display_data"
    },
    {
     "data": {
      "text/plain": [
       "2.15266670715515e-23"
      ]
     },
     "metadata": {},
     "output_type": "display_data"
    },
    {
     "data": {
      "text/plain": [
       "2.4608343357747716e-23"
      ]
     },
     "metadata": {},
     "output_type": "display_data"
    },
    {
     "data": {
      "text/plain": [
       "2.842876016819659e-23"
      ]
     },
     "metadata": {},
     "output_type": "display_data"
    },
    {
     "data": {
      "text/plain": [
       "3.320542722953202e-23"
      ]
     },
     "metadata": {},
     "output_type": "display_data"
    },
    {
     "data": {
      "text/plain": [
       "3.9295560660339216e-23"
      ]
     },
     "metadata": {},
     "output_type": "display_data"
    },
    {
     "data": {
      "text/plain": [
       "4.759119545157732e-23"
      ]
     },
     "metadata": {},
     "output_type": "display_data"
    },
    {
     "data": {
      "text/plain": [
       "6.068702510859654e-23"
      ]
     },
     "metadata": {},
     "output_type": "display_data"
    },
    {
     "data": {
      "text/plain": [
       "8.67105461632076e-23"
      ]
     },
     "metadata": {},
     "output_type": "display_data"
    },
    {
     "data": {
      "text/plain": [
       "1.65480085449047e-22"
      ]
     },
     "metadata": {},
     "output_type": "display_data"
    },
    {
     "data": {
      "text/plain": [
       "1.9388207282291445e-17"
      ]
     },
     "metadata": {},
     "output_type": "display_data"
    },
    {
     "data": {
      "text/plain": [
       "HyperellipticSurface([4.107825191113079e-15 0.23202278830215772; 0.232022788304307 0.4563191423564046; … ; 2.3801223560645677 2.3803268858145374; 2.5748605589653706 2.5748810768032975], 15, [0.18335220045533296 1.0; 0.2873679519983058 -1.0; … ; 2.380254650408768 -1.0; 2.5748671271248127 1.0], Complex{Float64}[0.0 + 0.13343777429629747im, -0.0 - 2.8911642907454467im, 0.0 + 0.34823911805087787im, 0.0 - 2.6970461329211948im, 0.0 + 0.5414007597847323im, 0.0 - 2.502964383338855im, 0.0 + 0.7361365393181142im, 0.0 - 2.307724252584879im, 0.0 + 0.93178530161668im, 0.0 - 2.111732618792304im, 0.0 + 1.1280764107376722im, 0.0 - 1.9151570508737619im, 0.0 + 1.3249388629892866im, 0.0 - 1.7180159404769648im, 0.0 + 1.5223375606862646im], Complex{Float64}[-0.0 + 0.2264185795039954im, -0.0 + 0.4185429582057298im, -0.0 + 0.5858911378837405im, -0.0 + 0.7492153458337418im, -0.0 + 0.9134314710506265im, -0.0 + 1.078251143447785im, -0.0 + 1.2435240143216058im, -0.0 + 1.4091575901709845im, -0.0 + 1.5750896055435377im, -0.0 + 1.741276155764774im, -0.0 + 1.9076911172813797im, -0.0 + 2.074336358779584im, -0.0 + 2.2412138281587524im, -0.0 + 2.4083079852134923im, -0.0 + 2.5755986963601285im], Complex{Float64}[-0.0 + 0.5257020614048753im, -0.0 + 1.2052892290714081im, -0.0 + 2.0080099018369455im, -0.0 + 3.003036025089886im, -0.0 + 4.216006551103793im, -0.0 + 5.649703262585565im, -0.0 + 7.306941003532654im, -0.0 + 9.1903848234636im, -0.0 + 11.302548450434799im, -0.0 + 13.646237911252353im, -0.0 + 16.231297300306778im, -0.0 + 19.097395311098143im, -0.0 + 22.29583041091254im, -0.0 + 25.864056618360667im, -0.0 + 29.834378174698205im], Complex{Float64}[0.0 + 0.4152936478470223im, 0.0 + 0.4152936478470224im, 0.0 + 0.4152936478470218im, 0.0 + 0.41529364784702094im, 0.0 + 0.4152936478470224im, 0.0 + 0.4152936478470193im, 0.0 + 0.41529364784702294im, 0.0 + 0.4152936478470246im, 0.0 + 0.41529364784701617im, 0.0 + 0.4152936478470224im, 0.0 + 0.4152936478470255im, 0.0 + 0.4152936478470249im, 0.0 + 0.4152936478470238im, 0.0 + 0.4152936478470221im, 0.0 + 0.4152936478470215im], -0.8821086706696825)"
      ]
     },
     "execution_count": 120,
     "metadata": {},
     "output_type": "execute_result"
    }
   ],
   "source": [
    "S = HyperellipticSurface(gaps,zs,α1,20000)"
   ]
  },
  {
   "cell_type": "code",
   "execution_count": 145,
   "metadata": {},
   "outputs": [],
   "source": [
    "ns = 2*vcat(fill(400,3),fill(300,3),fill(80,6),fill(10,9))\n",
    "ns = ns[1:size(S.gaps)[1]]\n",
    "BA = BakerAkhiezerFunction(S,ns,1e-8);"
   ]
  },
  {
   "cell_type": "code",
   "execution_count": 146,
   "metadata": {},
   "outputs": [
    {
     "data": {
      "text/plain": [
       "u (generic function with 1 method)"
      ]
     },
     "execution_count": 146,
     "metadata": {},
     "output_type": "execute_result"
    }
   ],
   "source": [
    "u(x,t) = a*KdV(BA,b*x/pi,c*t)"
   ]
  },
  {
   "cell_type": "code",
   "execution_count": 147,
   "metadata": {},
   "outputs": [
    {
     "data": {
      "text/plain": [
       "0.05810460846492366 + 6.693908209515505e-12im"
      ]
     },
     "execution_count": 147,
     "metadata": {},
     "output_type": "execute_result"
    }
   ],
   "source": [
    "u(1.0,0.0) - cos(1.0+0.1)"
   ]
  },
  {
   "cell_type": "code",
   "execution_count": 148,
   "metadata": {},
   "outputs": [],
   "source": [
    "out = BA(4.0,0.0);"
   ]
  },
  {
   "cell_type": "code",
   "execution_count": 149,
   "metadata": {},
   "outputs": [
    {
     "data": {
      "image/svg+xml": [
       "<?xml version=\"1.0\" encoding=\"utf-8\"?>\n",
       "<svg xmlns=\"http://www.w3.org/2000/svg\" xmlns:xlink=\"http://www.w3.org/1999/xlink\" width=\"600\" height=\"400\" viewBox=\"0 0 2400 1600\">\n",
       "<defs>\n",
       "  <clipPath id=\"clip090\">\n",
       "    <rect x=\"0\" y=\"0\" width=\"2400\" height=\"1600\"/>\n",
       "  </clipPath>\n",
       "</defs>\n",
       "<path clip-path=\"url(#clip090)\" d=\"\n",
       "M0 1600 L2400 1600 L2400 0 L0 0  Z\n",
       "  \" fill=\"#ffffff\" fill-rule=\"evenodd\" fill-opacity=\"1\"/>\n",
       "<defs>\n",
       "  <clipPath id=\"clip091\">\n",
       "    <rect x=\"480\" y=\"0\" width=\"1681\" height=\"1600\"/>\n",
       "  </clipPath>\n",
       "</defs>\n",
       "<path clip-path=\"url(#clip090)\" d=\"\n",
       "M201.597 1486.45 L2352.76 1486.45 L2352.76 47.2441 L201.597 47.2441  Z\n",
       "  \" fill=\"#ffffff\" fill-rule=\"evenodd\" fill-opacity=\"1\"/>\n",
       "<defs>\n",
       "  <clipPath id=\"clip092\">\n",
       "    <rect x=\"201\" y=\"47\" width=\"2152\" height=\"1440\"/>\n",
       "  </clipPath>\n",
       "</defs>\n",
       "<polyline clip-path=\"url(#clip092)\" style=\"stroke:#000000; stroke-width:2; stroke-opacity:0.1; fill:none\" points=\"\n",
       "  259.938,1486.45 259.938,47.2441 \n",
       "  \"/>\n",
       "<polyline clip-path=\"url(#clip092)\" style=\"stroke:#000000; stroke-width:2; stroke-opacity:0.1; fill:none\" points=\"\n",
       "  767.922,1486.45 767.922,47.2441 \n",
       "  \"/>\n",
       "<polyline clip-path=\"url(#clip092)\" style=\"stroke:#000000; stroke-width:2; stroke-opacity:0.1; fill:none\" points=\"\n",
       "  1275.91,1486.45 1275.91,47.2441 \n",
       "  \"/>\n",
       "<polyline clip-path=\"url(#clip092)\" style=\"stroke:#000000; stroke-width:2; stroke-opacity:0.1; fill:none\" points=\"\n",
       "  1783.89,1486.45 1783.89,47.2441 \n",
       "  \"/>\n",
       "<polyline clip-path=\"url(#clip092)\" style=\"stroke:#000000; stroke-width:2; stroke-opacity:0.1; fill:none\" points=\"\n",
       "  2291.87,1486.45 2291.87,47.2441 \n",
       "  \"/>\n",
       "<polyline clip-path=\"url(#clip090)\" style=\"stroke:#000000; stroke-width:4; stroke-opacity:1; fill:none\" points=\"\n",
       "  201.597,1486.45 2352.76,1486.45 \n",
       "  \"/>\n",
       "<polyline clip-path=\"url(#clip090)\" style=\"stroke:#000000; stroke-width:4; stroke-opacity:1; fill:none\" points=\"\n",
       "  259.938,1486.45 259.938,1469.18 \n",
       "  \"/>\n",
       "<polyline clip-path=\"url(#clip090)\" style=\"stroke:#000000; stroke-width:4; stroke-opacity:1; fill:none\" points=\"\n",
       "  767.922,1486.45 767.922,1469.18 \n",
       "  \"/>\n",
       "<polyline clip-path=\"url(#clip090)\" style=\"stroke:#000000; stroke-width:4; stroke-opacity:1; fill:none\" points=\"\n",
       "  1275.91,1486.45 1275.91,1469.18 \n",
       "  \"/>\n",
       "<polyline clip-path=\"url(#clip090)\" style=\"stroke:#000000; stroke-width:4; stroke-opacity:1; fill:none\" points=\"\n",
       "  1783.89,1486.45 1783.89,1469.18 \n",
       "  \"/>\n",
       "<polyline clip-path=\"url(#clip090)\" style=\"stroke:#000000; stroke-width:4; stroke-opacity:1; fill:none\" points=\"\n",
       "  2291.87,1486.45 2291.87,1469.18 \n",
       "  \"/>\n",
       "<path clip-path=\"url(#clip090)\" d=\"M 0 0 M259.938 1515.64 Q256.327 1515.64 254.499 1519.2 Q252.693 1522.75 252.693 1529.87 Q252.693 1536.98 254.499 1540.55 Q256.327 1544.09 259.938 1544.09 Q263.573 1544.09 265.378 1540.55 Q267.207 1536.98 267.207 1529.87 Q267.207 1522.75 265.378 1519.2 Q263.573 1515.64 259.938 1515.64 M259.938 1511.93 Q265.749 1511.93 268.804 1516.54 Q271.883 1521.12 271.883 1529.87 Q271.883 1538.6 268.804 1543.21 Q265.749 1547.79 259.938 1547.79 Q254.128 1547.79 251.05 1543.21 Q247.994 1538.6 247.994 1529.87 Q247.994 1521.12 251.05 1516.54 Q254.128 1511.93 259.938 1511.93 Z\" fill=\"#000000\" fill-rule=\"evenodd\" fill-opacity=\"1\" /><path clip-path=\"url(#clip090)\" d=\"M 0 0 M735.561 1543.18 L751.881 1543.18 L751.881 1547.12 L729.936 1547.12 L729.936 1543.18 Q732.598 1540.43 737.182 1535.8 Q741.788 1531.15 742.969 1529.81 Q745.214 1527.28 746.094 1525.55 Q746.997 1523.79 746.997 1522.1 Q746.997 1519.34 745.052 1517.61 Q743.131 1515.87 740.029 1515.87 Q737.83 1515.87 735.376 1516.63 Q732.946 1517.4 730.168 1518.95 L730.168 1514.23 Q732.992 1513.09 735.446 1512.51 Q737.899 1511.93 739.936 1511.93 Q745.307 1511.93 748.501 1514.62 Q751.696 1517.31 751.696 1521.8 Q751.696 1523.93 750.885 1525.85 Q750.098 1527.74 747.992 1530.34 Q747.413 1531.01 744.311 1534.23 Q741.21 1537.42 735.561 1543.18 Z\" fill=\"#000000\" fill-rule=\"evenodd\" fill-opacity=\"1\" /><path clip-path=\"url(#clip090)\" d=\"M 0 0 M766.95 1515.64 Q763.339 1515.64 761.51 1519.2 Q759.705 1522.75 759.705 1529.87 Q759.705 1536.98 761.51 1540.55 Q763.339 1544.09 766.95 1544.09 Q770.584 1544.09 772.39 1540.55 Q774.219 1536.98 774.219 1529.87 Q774.219 1522.75 772.39 1519.2 Q770.584 1515.64 766.95 1515.64 M766.95 1511.93 Q772.76 1511.93 775.816 1516.54 Q778.895 1521.12 778.895 1529.87 Q778.895 1538.6 775.816 1543.21 Q772.76 1547.79 766.95 1547.79 Q761.14 1547.79 758.061 1543.21 Q755.006 1538.6 755.006 1529.87 Q755.006 1521.12 758.061 1516.54 Q761.14 1511.93 766.95 1511.93 Z\" fill=\"#000000\" fill-rule=\"evenodd\" fill-opacity=\"1\" /><path clip-path=\"url(#clip090)\" d=\"M 0 0 M793.964 1515.64 Q790.353 1515.64 788.524 1519.2 Q786.719 1522.75 786.719 1529.87 Q786.719 1536.98 788.524 1540.55 Q790.353 1544.09 793.964 1544.09 Q797.598 1544.09 799.404 1540.55 Q801.232 1536.98 801.232 1529.87 Q801.232 1522.75 799.404 1519.2 Q797.598 1515.64 793.964 1515.64 M793.964 1511.93 Q799.774 1511.93 802.83 1516.54 Q805.908 1521.12 805.908 1529.87 Q805.908 1538.6 802.83 1543.21 Q799.774 1547.79 793.964 1547.79 Q788.154 1547.79 785.075 1543.21 Q782.02 1538.6 782.02 1529.87 Q782.02 1521.12 785.075 1516.54 Q788.154 1511.93 793.964 1511.93 Z\" fill=\"#000000\" fill-rule=\"evenodd\" fill-opacity=\"1\" /><path clip-path=\"url(#clip090)\" d=\"M 0 0 M1251.9 1516.63 L1240.1 1535.08 L1251.9 1535.08 L1251.9 1516.63 M1250.67 1512.56 L1256.55 1512.56 L1256.55 1535.08 L1261.49 1535.08 L1261.49 1538.97 L1256.55 1538.97 L1256.55 1547.12 L1251.9 1547.12 L1251.9 1538.97 L1236.3 1538.97 L1236.3 1534.46 L1250.67 1512.56 Z\" fill=\"#000000\" fill-rule=\"evenodd\" fill-opacity=\"1\" /><path clip-path=\"url(#clip090)\" d=\"M 0 0 M1276.55 1515.64 Q1272.94 1515.64 1271.11 1519.2 Q1269.31 1522.75 1269.31 1529.87 Q1269.31 1536.98 1271.11 1540.55 Q1272.94 1544.09 1276.55 1544.09 Q1280.19 1544.09 1281.99 1540.55 Q1283.82 1536.98 1283.82 1529.87 Q1283.82 1522.75 1281.99 1519.2 Q1280.19 1515.64 1276.55 1515.64 M1276.55 1511.93 Q1282.36 1511.93 1285.42 1516.54 Q1288.5 1521.12 1288.5 1529.87 Q1288.5 1538.6 1285.42 1543.21 Q1282.36 1547.79 1276.55 1547.79 Q1270.74 1547.79 1267.67 1543.21 Q1264.61 1538.6 1264.61 1529.87 Q1264.61 1521.12 1267.67 1516.54 Q1270.74 1511.93 1276.55 1511.93 Z\" fill=\"#000000\" fill-rule=\"evenodd\" fill-opacity=\"1\" /><path clip-path=\"url(#clip090)\" d=\"M 0 0 M1303.57 1515.64 Q1299.96 1515.64 1298.13 1519.2 Q1296.32 1522.75 1296.32 1529.87 Q1296.32 1536.98 1298.13 1540.55 Q1299.96 1544.09 1303.57 1544.09 Q1307.2 1544.09 1309.01 1540.55 Q1310.84 1536.98 1310.84 1529.87 Q1310.84 1522.75 1309.01 1519.2 Q1307.2 1515.64 1303.57 1515.64 M1303.57 1511.93 Q1309.38 1511.93 1312.43 1516.54 Q1315.51 1521.12 1315.51 1529.87 Q1315.51 1538.6 1312.43 1543.21 Q1309.38 1547.79 1303.57 1547.79 Q1297.76 1547.79 1294.68 1543.21 Q1291.62 1538.6 1291.62 1529.87 Q1291.62 1521.12 1294.68 1516.54 Q1297.76 1511.93 1303.57 1511.93 Z\" fill=\"#000000\" fill-rule=\"evenodd\" fill-opacity=\"1\" /><path clip-path=\"url(#clip090)\" d=\"M 0 0 M1757.28 1527.98 Q1754.13 1527.98 1752.28 1530.13 Q1750.45 1532.28 1750.45 1536.03 Q1750.45 1539.76 1752.28 1541.93 Q1754.13 1544.09 1757.28 1544.09 Q1760.43 1544.09 1762.26 1541.93 Q1764.11 1539.76 1764.11 1536.03 Q1764.11 1532.28 1762.26 1530.13 Q1760.43 1527.98 1757.28 1527.98 M1766.56 1513.32 L1766.56 1517.58 Q1764.8 1516.75 1763 1516.31 Q1761.22 1515.87 1759.46 1515.87 Q1754.83 1515.87 1752.37 1519 Q1749.94 1522.12 1749.6 1528.44 Q1750.96 1526.43 1753.02 1525.36 Q1755.08 1524.27 1757.56 1524.27 Q1762.77 1524.27 1765.78 1527.44 Q1768.81 1530.59 1768.81 1536.03 Q1768.81 1541.36 1765.66 1544.57 Q1762.51 1547.79 1757.28 1547.79 Q1751.29 1547.79 1748.11 1543.21 Q1744.94 1538.6 1744.94 1529.87 Q1744.94 1521.68 1748.83 1516.82 Q1752.72 1511.93 1759.27 1511.93 Q1761.03 1511.93 1762.81 1512.28 Q1764.62 1512.63 1766.56 1513.32 Z\" fill=\"#000000\" fill-rule=\"evenodd\" fill-opacity=\"1\" /><path clip-path=\"url(#clip090)\" d=\"M 0 0 M1783.88 1515.64 Q1780.27 1515.64 1778.44 1519.2 Q1776.63 1522.75 1776.63 1529.87 Q1776.63 1536.98 1778.44 1540.55 Q1780.27 1544.09 1783.88 1544.09 Q1787.51 1544.09 1789.32 1540.55 Q1791.15 1536.98 1791.15 1529.87 Q1791.15 1522.75 1789.32 1519.2 Q1787.51 1515.64 1783.88 1515.64 M1783.88 1511.93 Q1789.69 1511.93 1792.74 1516.54 Q1795.82 1521.12 1795.82 1529.87 Q1795.82 1538.6 1792.74 1543.21 Q1789.69 1547.79 1783.88 1547.79 Q1778.07 1547.79 1774.99 1543.21 Q1771.93 1538.6 1771.93 1529.87 Q1771.93 1521.12 1774.99 1516.54 Q1778.07 1511.93 1783.88 1511.93 Z\" fill=\"#000000\" fill-rule=\"evenodd\" fill-opacity=\"1\" /><path clip-path=\"url(#clip090)\" d=\"M 0 0 M1810.89 1515.64 Q1807.28 1515.64 1805.45 1519.2 Q1803.65 1522.75 1803.65 1529.87 Q1803.65 1536.98 1805.45 1540.55 Q1807.28 1544.09 1810.89 1544.09 Q1814.53 1544.09 1816.33 1540.55 Q1818.16 1536.98 1818.16 1529.87 Q1818.16 1522.75 1816.33 1519.2 Q1814.53 1515.64 1810.89 1515.64 M1810.89 1511.93 Q1816.7 1511.93 1819.76 1516.54 Q1822.84 1521.12 1822.84 1529.87 Q1822.84 1538.6 1819.76 1543.21 Q1816.7 1547.79 1810.89 1547.79 Q1805.08 1547.79 1802 1543.21 Q1798.95 1538.6 1798.95 1529.87 Q1798.95 1521.12 1802 1516.54 Q1805.08 1511.93 1810.89 1511.93 Z\" fill=\"#000000\" fill-rule=\"evenodd\" fill-opacity=\"1\" /><path clip-path=\"url(#clip090)\" d=\"M 0 0 M2264.86 1530.71 Q2261.53 1530.71 2259.61 1532.49 Q2257.71 1534.27 2257.71 1537.4 Q2257.71 1540.52 2259.61 1542.31 Q2261.53 1544.09 2264.86 1544.09 Q2268.19 1544.09 2270.11 1542.31 Q2272.04 1540.5 2272.04 1537.4 Q2272.04 1534.27 2270.11 1532.49 Q2268.22 1530.71 2264.86 1530.71 M2260.18 1528.72 Q2257.18 1527.98 2255.49 1525.92 Q2253.82 1523.86 2253.82 1520.89 Q2253.82 1516.75 2256.76 1514.34 Q2259.72 1511.93 2264.86 1511.93 Q2270.02 1511.93 2272.96 1514.34 Q2275.9 1516.75 2275.9 1520.89 Q2275.9 1523.86 2274.21 1525.92 Q2272.55 1527.98 2269.56 1528.72 Q2272.94 1529.5 2274.81 1531.8 Q2276.71 1534.09 2276.71 1537.4 Q2276.71 1542.42 2273.63 1545.11 Q2270.58 1547.79 2264.86 1547.79 Q2259.14 1547.79 2256.06 1545.11 Q2253.01 1542.42 2253.01 1537.4 Q2253.01 1534.09 2254.91 1531.8 Q2256.8 1529.5 2260.18 1528.72 M2258.47 1521.33 Q2258.47 1524.02 2260.14 1525.52 Q2261.83 1527.03 2264.86 1527.03 Q2267.87 1527.03 2269.56 1525.52 Q2271.27 1524.02 2271.27 1521.33 Q2271.27 1518.65 2269.56 1517.14 Q2267.87 1515.64 2264.86 1515.64 Q2261.83 1515.64 2260.14 1517.14 Q2258.47 1518.65 2258.47 1521.33 Z\" fill=\"#000000\" fill-rule=\"evenodd\" fill-opacity=\"1\" /><path clip-path=\"url(#clip090)\" d=\"M 0 0 M2291.78 1515.64 Q2288.17 1515.64 2286.34 1519.2 Q2284.54 1522.75 2284.54 1529.87 Q2284.54 1536.98 2286.34 1540.55 Q2288.17 1544.09 2291.78 1544.09 Q2295.42 1544.09 2297.22 1540.55 Q2299.05 1536.98 2299.05 1529.87 Q2299.05 1522.75 2297.22 1519.2 Q2295.42 1515.64 2291.78 1515.64 M2291.78 1511.93 Q2297.59 1511.93 2300.65 1516.54 Q2303.73 1521.12 2303.73 1529.87 Q2303.73 1538.6 2300.65 1543.21 Q2297.59 1547.79 2291.78 1547.79 Q2285.97 1547.79 2282.89 1543.21 Q2279.84 1538.6 2279.84 1529.87 Q2279.84 1521.12 2282.89 1516.54 Q2285.97 1511.93 2291.78 1511.93 Z\" fill=\"#000000\" fill-rule=\"evenodd\" fill-opacity=\"1\" /><path clip-path=\"url(#clip090)\" d=\"M 0 0 M2318.8 1515.64 Q2315.18 1515.64 2313.36 1519.2 Q2311.55 1522.75 2311.55 1529.87 Q2311.55 1536.98 2313.36 1540.55 Q2315.18 1544.09 2318.8 1544.09 Q2322.43 1544.09 2324.23 1540.55 Q2326.06 1536.98 2326.06 1529.87 Q2326.06 1522.75 2324.23 1519.2 Q2322.43 1515.64 2318.8 1515.64 M2318.8 1511.93 Q2324.61 1511.93 2327.66 1516.54 Q2330.74 1521.12 2330.74 1529.87 Q2330.74 1538.6 2327.66 1543.21 Q2324.61 1547.79 2318.8 1547.79 Q2312.99 1547.79 2309.91 1543.21 Q2306.85 1538.6 2306.85 1529.87 Q2306.85 1521.12 2309.91 1516.54 Q2312.99 1511.93 2318.8 1511.93 Z\" fill=\"#000000\" fill-rule=\"evenodd\" fill-opacity=\"1\" /><polyline clip-path=\"url(#clip092)\" style=\"stroke:#000000; stroke-width:2; stroke-opacity:0.1; fill:none\" points=\"\n",
       "  201.597,1399.12 2352.76,1399.12 \n",
       "  \"/>\n",
       "<polyline clip-path=\"url(#clip092)\" style=\"stroke:#000000; stroke-width:2; stroke-opacity:0.1; fill:none\" points=\"\n",
       "  201.597,1200.46 2352.76,1200.46 \n",
       "  \"/>\n",
       "<polyline clip-path=\"url(#clip092)\" style=\"stroke:#000000; stroke-width:2; stroke-opacity:0.1; fill:none\" points=\"\n",
       "  201.597,1001.81 2352.76,1001.81 \n",
       "  \"/>\n",
       "<polyline clip-path=\"url(#clip092)\" style=\"stroke:#000000; stroke-width:2; stroke-opacity:0.1; fill:none\" points=\"\n",
       "  201.597,803.155 2352.76,803.155 \n",
       "  \"/>\n",
       "<polyline clip-path=\"url(#clip092)\" style=\"stroke:#000000; stroke-width:2; stroke-opacity:0.1; fill:none\" points=\"\n",
       "  201.597,604.501 2352.76,604.501 \n",
       "  \"/>\n",
       "<polyline clip-path=\"url(#clip092)\" style=\"stroke:#000000; stroke-width:2; stroke-opacity:0.1; fill:none\" points=\"\n",
       "  201.597,405.847 2352.76,405.847 \n",
       "  \"/>\n",
       "<polyline clip-path=\"url(#clip092)\" style=\"stroke:#000000; stroke-width:2; stroke-opacity:0.1; fill:none\" points=\"\n",
       "  201.597,207.193 2352.76,207.193 \n",
       "  \"/>\n",
       "<polyline clip-path=\"url(#clip090)\" style=\"stroke:#000000; stroke-width:4; stroke-opacity:1; fill:none\" points=\"\n",
       "  201.597,1486.45 201.597,47.2441 \n",
       "  \"/>\n",
       "<polyline clip-path=\"url(#clip090)\" style=\"stroke:#000000; stroke-width:4; stroke-opacity:1; fill:none\" points=\"\n",
       "  201.597,1399.12 227.41,1399.12 \n",
       "  \"/>\n",
       "<polyline clip-path=\"url(#clip090)\" style=\"stroke:#000000; stroke-width:4; stroke-opacity:1; fill:none\" points=\"\n",
       "  201.597,1200.46 227.41,1200.46 \n",
       "  \"/>\n",
       "<polyline clip-path=\"url(#clip090)\" style=\"stroke:#000000; stroke-width:4; stroke-opacity:1; fill:none\" points=\"\n",
       "  201.597,1001.81 227.41,1001.81 \n",
       "  \"/>\n",
       "<polyline clip-path=\"url(#clip090)\" style=\"stroke:#000000; stroke-width:4; stroke-opacity:1; fill:none\" points=\"\n",
       "  201.597,803.155 227.41,803.155 \n",
       "  \"/>\n",
       "<polyline clip-path=\"url(#clip090)\" style=\"stroke:#000000; stroke-width:4; stroke-opacity:1; fill:none\" points=\"\n",
       "  201.597,604.501 227.41,604.501 \n",
       "  \"/>\n",
       "<polyline clip-path=\"url(#clip090)\" style=\"stroke:#000000; stroke-width:4; stroke-opacity:1; fill:none\" points=\"\n",
       "  201.597,405.847 227.41,405.847 \n",
       "  \"/>\n",
       "<polyline clip-path=\"url(#clip090)\" style=\"stroke:#000000; stroke-width:4; stroke-opacity:1; fill:none\" points=\"\n",
       "  201.597,207.193 227.41,207.193 \n",
       "  \"/>\n",
       "<path clip-path=\"url(#clip090)\" d=\"M 0 0 M52.9612 1418.91 L60.6 1418.91 L60.6 1392.54 L52.2899 1394.21 L52.2899 1389.95 L60.5537 1388.28 L65.2296 1388.28 L65.2296 1418.91 L72.8685 1418.91 L72.8685 1422.84 L52.9612 1422.84 L52.9612 1418.91 Z\" fill=\"#000000\" fill-rule=\"evenodd\" fill-opacity=\"1\" /><path clip-path=\"url(#clip090)\" d=\"M 0 0 M87.9378 1391.36 Q84.3267 1391.36 82.498 1394.93 Q80.6925 1398.47 80.6925 1405.6 Q80.6925 1412.71 82.498 1416.27 Q84.3267 1419.81 87.9378 1419.81 Q91.5721 1419.81 93.3776 1416.27 Q95.2063 1412.71 95.2063 1405.6 Q95.2063 1398.47 93.3776 1394.93 Q91.5721 1391.36 87.9378 1391.36 M87.9378 1387.66 Q93.748 1387.66 96.8035 1392.27 Q99.8822 1396.85 99.8822 1405.6 Q99.8822 1414.33 96.8035 1418.93 Q93.748 1423.52 87.9378 1423.52 Q82.1277 1423.52 79.049 1418.93 Q75.9934 1414.33 75.9934 1405.6 Q75.9934 1396.85 79.049 1392.27 Q82.1277 1387.66 87.9378 1387.66 Z\" fill=\"#000000\" fill-rule=\"evenodd\" fill-opacity=\"1\" /><path clip-path=\"url(#clip090)\" d=\"M 0 0 M99.8822 1381.76 L123.994 1381.76 L123.994 1384.96 L99.8822 1384.96 L99.8822 1381.76 Z\" fill=\"#000000\" fill-rule=\"evenodd\" fill-opacity=\"1\" /><path clip-path=\"url(#clip090)\" d=\"M 0 0 M128.771 1392.24 L134.977 1392.24 L134.977 1370.81 L128.226 1372.17 L128.226 1368.71 L134.94 1367.35 L138.739 1367.35 L138.739 1392.24 L144.946 1392.24 L144.946 1395.43 L128.771 1395.43 L128.771 1392.24 Z\" fill=\"#000000\" fill-rule=\"evenodd\" fill-opacity=\"1\" /><path clip-path=\"url(#clip090)\" d=\"M 0 0 M152.337 1392.24 L165.597 1392.24 L165.597 1395.43 L147.767 1395.43 L147.767 1392.24 Q149.93 1390 153.654 1386.24 Q157.396 1382.46 158.356 1381.37 Q160.18 1379.32 160.895 1377.9 Q161.628 1376.48 161.628 1375.1 Q161.628 1372.86 160.048 1371.45 Q158.487 1370.04 155.967 1370.04 Q154.18 1370.04 152.187 1370.66 Q150.212 1371.28 147.955 1372.54 L147.955 1368.71 Q150.249 1367.79 152.243 1367.32 Q154.237 1366.85 155.892 1366.85 Q160.255 1366.85 162.851 1369.03 Q165.446 1371.21 165.446 1374.86 Q165.446 1376.59 164.788 1378.15 Q164.148 1379.69 162.437 1381.8 Q161.967 1382.34 159.446 1384.96 Q156.926 1387.55 152.337 1392.24 Z\" fill=\"#000000\" fill-rule=\"evenodd\" fill-opacity=\"1\" /><path clip-path=\"url(#clip090)\" d=\"M 0 0 M51.6634 1220.25 L59.3023 1220.25 L59.3023 1193.89 L50.9921 1195.56 L50.9921 1191.3 L59.256 1189.63 L63.9319 1189.63 L63.9319 1220.25 L71.5707 1220.25 L71.5707 1224.19 L51.6634 1224.19 L51.6634 1220.25 Z\" fill=\"#000000\" fill-rule=\"evenodd\" fill-opacity=\"1\" /><path clip-path=\"url(#clip090)\" d=\"M 0 0 M86.6401 1192.71 Q83.029 1192.71 81.2003 1196.27 Q79.3948 1199.82 79.3948 1206.94 Q79.3948 1214.05 81.2003 1217.62 Q83.029 1221.16 86.6401 1221.16 Q90.2743 1221.16 92.0799 1217.62 Q93.9086 1214.05 93.9086 1206.94 Q93.9086 1199.82 92.0799 1196.27 Q90.2743 1192.71 86.6401 1192.71 M86.6401 1189.01 Q92.4502 1189.01 95.5058 1193.61 Q98.5845 1198.19 98.5845 1206.94 Q98.5845 1215.67 95.5058 1220.28 Q92.4502 1224.86 86.6401 1224.86 Q80.8299 1224.86 77.7512 1220.28 Q74.6957 1215.67 74.6957 1206.94 Q74.6957 1198.19 77.7512 1193.61 Q80.8299 1189.01 86.6401 1189.01 Z\" fill=\"#000000\" fill-rule=\"evenodd\" fill-opacity=\"1\" /><path clip-path=\"url(#clip090)\" d=\"M 0 0 M98.5845 1183.11 L122.696 1183.11 L122.696 1186.3 L98.5845 1186.3 L98.5845 1183.11 Z\" fill=\"#000000\" fill-rule=\"evenodd\" fill-opacity=\"1\" /><path clip-path=\"url(#clip090)\" d=\"M 0 0 M127.473 1193.58 L133.68 1193.58 L133.68 1172.16 L126.928 1173.51 L126.928 1170.05 L133.642 1168.7 L137.441 1168.7 L137.441 1193.58 L143.648 1193.58 L143.648 1196.78 L127.473 1196.78 L127.473 1193.58 Z\" fill=\"#000000\" fill-rule=\"evenodd\" fill-opacity=\"1\" /><path clip-path=\"url(#clip090)\" d=\"M 0 0 M155.892 1171.2 Q152.958 1171.2 151.472 1174.1 Q150.005 1176.98 150.005 1182.77 Q150.005 1188.54 151.472 1191.44 Q152.958 1194.32 155.892 1194.32 Q158.845 1194.32 160.312 1191.44 Q161.797 1188.54 161.797 1182.77 Q161.797 1176.98 160.312 1174.1 Q158.845 1171.2 155.892 1171.2 M155.892 1168.19 Q160.612 1168.19 163.095 1171.93 Q165.597 1175.66 165.597 1182.77 Q165.597 1189.86 163.095 1193.6 Q160.612 1197.33 155.892 1197.33 Q151.171 1197.33 148.67 1193.6 Q146.187 1189.86 146.187 1182.77 Q146.187 1175.66 148.67 1171.93 Q151.171 1168.19 155.892 1168.19 Z\" fill=\"#000000\" fill-rule=\"evenodd\" fill-opacity=\"1\" /><path clip-path=\"url(#clip090)\" d=\"M 0 0 M72.6905 1021.6 L80.3294 1021.6 L80.3294 995.235 L72.0192 996.902 L72.0192 992.643 L80.2831 990.976 L84.959 990.976 L84.959 1021.6 L92.5978 1021.6 L92.5978 1025.54 L72.6905 1025.54 L72.6905 1021.6 Z\" fill=\"#000000\" fill-rule=\"evenodd\" fill-opacity=\"1\" /><path clip-path=\"url(#clip090)\" d=\"M 0 0 M107.667 994.055 Q104.056 994.055 102.227 997.62 Q100.422 1001.16 100.422 1008.29 Q100.422 1015.4 102.227 1018.96 Q104.056 1022.5 107.667 1022.5 Q111.301 1022.5 113.107 1018.96 Q114.936 1015.4 114.936 1008.29 Q114.936 1001.16 113.107 997.62 Q111.301 994.055 107.667 994.055 M107.667 990.351 Q113.477 990.351 116.533 994.958 Q119.612 999.541 119.612 1008.29 Q119.612 1017.02 116.533 1021.62 Q113.477 1026.21 107.667 1026.21 Q101.857 1026.21 98.7783 1021.62 Q95.7228 1017.02 95.7228 1008.29 Q95.7228 999.541 98.7783 994.958 Q101.857 990.351 107.667 990.351 Z\" fill=\"#000000\" fill-rule=\"evenodd\" fill-opacity=\"1\" /><path clip-path=\"url(#clip090)\" d=\"M 0 0 M119.612 984.452 L143.723 984.452 L143.723 987.65 L119.612 987.65 L119.612 984.452 Z\" fill=\"#000000\" fill-rule=\"evenodd\" fill-opacity=\"1\" /><path clip-path=\"url(#clip090)\" d=\"M 0 0 M155.967 984.791 Q153.259 984.791 151.698 986.239 Q150.155 987.687 150.155 990.226 Q150.155 992.765 151.698 994.214 Q153.259 995.662 155.967 995.662 Q158.675 995.662 160.236 994.214 Q161.797 992.747 161.797 990.226 Q161.797 987.687 160.236 986.239 Q158.694 984.791 155.967 984.791 M152.168 983.173 Q149.723 982.572 148.35 980.898 Q146.996 979.224 146.996 976.816 Q146.996 973.45 149.384 971.494 Q151.792 969.538 155.967 969.538 Q160.161 969.538 162.55 971.494 Q164.938 973.45 164.938 976.816 Q164.938 979.224 163.565 980.898 Q162.211 982.572 159.785 983.173 Q162.531 983.813 164.054 985.675 Q165.597 987.537 165.597 990.226 Q165.597 994.308 163.095 996.489 Q160.612 998.671 155.967 998.671 Q151.321 998.671 148.82 996.489 Q146.337 994.308 146.337 990.226 Q146.337 987.537 147.88 985.675 Q149.422 983.813 152.168 983.173 M150.776 977.174 Q150.776 979.356 152.13 980.578 Q153.503 981.801 155.967 981.801 Q158.412 981.801 159.785 980.578 Q161.177 979.356 161.177 977.174 Q161.177 974.992 159.785 973.77 Q158.412 972.547 155.967 972.547 Q153.503 972.547 152.13 973.77 Q150.776 974.992 150.776 977.174 Z\" fill=\"#000000\" fill-rule=\"evenodd\" fill-opacity=\"1\" /><path clip-path=\"url(#clip090)\" d=\"M 0 0 M72.4836 822.947 L80.1225 822.947 L80.1225 796.581 L71.8123 798.248 L71.8123 793.989 L80.0762 792.322 L84.7521 792.322 L84.7521 822.947 L92.3909 822.947 L92.3909 826.882 L72.4836 826.882 L72.4836 822.947 Z\" fill=\"#000000\" fill-rule=\"evenodd\" fill-opacity=\"1\" /><path clip-path=\"url(#clip090)\" d=\"M 0 0 M107.46 795.401 Q103.849 795.401 102.02 798.966 Q100.215 802.507 100.215 809.637 Q100.215 816.743 102.02 820.308 Q103.849 823.85 107.46 823.85 Q111.095 823.85 112.9 820.308 Q114.729 816.743 114.729 809.637 Q114.729 802.507 112.9 798.966 Q111.095 795.401 107.46 795.401 M107.46 791.697 Q113.27 791.697 116.326 796.304 Q119.405 800.887 119.405 809.637 Q119.405 818.364 116.326 822.97 Q113.27 827.553 107.46 827.553 Q101.65 827.553 98.5714 822.97 Q95.5159 818.364 95.5159 809.637 Q95.5159 800.887 98.5714 796.304 Q101.65 791.697 107.46 791.697 Z\" fill=\"#000000\" fill-rule=\"evenodd\" fill-opacity=\"1\" /><path clip-path=\"url(#clip090)\" d=\"M 0 0 M119.405 785.798 L143.516 785.798 L143.516 788.996 L119.405 788.996 L119.405 785.798 Z\" fill=\"#000000\" fill-rule=\"evenodd\" fill-opacity=\"1\" /><path clip-path=\"url(#clip090)\" d=\"M 0 0 M156.23 783.918 Q153.672 783.918 152.168 785.667 Q150.682 787.416 150.682 790.463 Q150.682 793.491 152.168 795.259 Q153.672 797.008 156.23 797.008 Q158.788 797.008 160.274 795.259 Q161.779 793.491 161.779 790.463 Q161.779 787.416 160.274 785.667 Q158.788 783.918 156.23 783.918 M163.772 772.012 L163.772 775.473 Q162.343 774.796 160.876 774.439 Q159.428 774.081 157.998 774.081 Q154.237 774.081 152.243 776.62 Q150.268 779.159 149.986 784.294 Q151.096 782.658 152.77 781.792 Q154.444 780.908 156.456 780.908 Q160.688 780.908 163.133 783.485 Q165.597 786.043 165.597 790.463 Q165.597 794.789 163.039 797.403 Q160.481 800.017 156.23 800.017 Q151.359 800.017 148.782 796.293 Q146.206 792.55 146.206 785.46 Q146.206 778.802 149.365 774.852 Q152.525 770.884 157.848 770.884 Q159.277 770.884 160.725 771.166 Q162.192 771.448 163.772 772.012 Z\" fill=\"#000000\" fill-rule=\"evenodd\" fill-opacity=\"1\" /><path clip-path=\"url(#clip090)\" d=\"M 0 0 M72.2203 624.293 L79.8592 624.293 L79.8592 597.927 L71.549 599.594 L71.549 595.335 L79.8129 593.668 L84.4888 593.668 L84.4888 624.293 L92.1276 624.293 L92.1276 628.228 L72.2203 628.228 L72.2203 624.293 Z\" fill=\"#000000\" fill-rule=\"evenodd\" fill-opacity=\"1\" /><path clip-path=\"url(#clip090)\" d=\"M 0 0 M107.197 596.747 Q103.586 596.747 101.757 600.312 Q99.9516 603.853 99.9516 610.983 Q99.9516 618.089 101.757 621.654 Q103.586 625.196 107.197 625.196 Q110.831 625.196 112.637 621.654 Q114.465 618.089 114.465 610.983 Q114.465 603.853 112.637 600.312 Q110.831 596.747 107.197 596.747 M107.197 593.043 Q113.007 593.043 116.063 597.65 Q119.141 602.233 119.141 610.983 Q119.141 619.71 116.063 624.316 Q113.007 628.899 107.197 628.899 Q101.387 628.899 98.3081 624.316 Q95.2526 619.71 95.2526 610.983 Q95.2526 602.233 98.3081 597.65 Q101.387 593.043 107.197 593.043 Z\" fill=\"#000000\" fill-rule=\"evenodd\" fill-opacity=\"1\" /><path clip-path=\"url(#clip090)\" d=\"M 0 0 M119.141 587.145 L143.253 587.145 L143.253 590.342 L119.141 590.342 L119.141 587.145 Z\" fill=\"#000000\" fill-rule=\"evenodd\" fill-opacity=\"1\" /><path clip-path=\"url(#clip090)\" d=\"M 0 0 M157.81 576.048 L148.218 591.038 L157.81 591.038 L157.81 576.048 M156.813 572.738 L161.59 572.738 L161.59 591.038 L165.597 591.038 L165.597 594.197 L161.59 594.197 L161.59 600.818 L157.81 600.818 L157.81 594.197 L145.134 594.197 L145.134 590.53 L156.813 572.738 Z\" fill=\"#000000\" fill-rule=\"evenodd\" fill-opacity=\"1\" /><path clip-path=\"url(#clip090)\" d=\"M 0 0 M73.913 425.639 L81.5519 425.639 L81.5519 399.273 L73.2417 400.94 L73.2417 396.681 L81.5056 395.014 L86.1815 395.014 L86.1815 425.639 L93.8203 425.639 L93.8203 429.574 L73.913 429.574 L73.913 425.639 Z\" fill=\"#000000\" fill-rule=\"evenodd\" fill-opacity=\"1\" /><path clip-path=\"url(#clip090)\" d=\"M 0 0 M108.89 398.093 Q105.279 398.093 103.45 401.658 Q101.644 405.199 101.644 412.329 Q101.644 419.435 103.45 423 Q105.279 426.542 108.89 426.542 Q112.524 426.542 114.329 423 Q116.158 419.435 116.158 412.329 Q116.158 405.199 114.329 401.658 Q112.524 398.093 108.89 398.093 M108.89 394.389 Q114.7 394.389 117.755 398.996 Q120.834 403.579 120.834 412.329 Q120.834 421.056 117.755 425.662 Q114.7 430.246 108.89 430.246 Q103.08 430.246 100.001 425.662 Q96.9453 421.056 96.9453 412.329 Q96.9453 403.579 100.001 398.996 Q103.08 394.389 108.89 394.389 Z\" fill=\"#000000\" fill-rule=\"evenodd\" fill-opacity=\"1\" /><path clip-path=\"url(#clip090)\" d=\"M 0 0 M120.834 388.491 L144.946 388.491 L144.946 391.688 L120.834 391.688 L120.834 388.491 Z\" fill=\"#000000\" fill-rule=\"evenodd\" fill-opacity=\"1\" /><path clip-path=\"url(#clip090)\" d=\"M 0 0 M152.337 398.967 L165.597 398.967 L165.597 402.164 L147.767 402.164 L147.767 398.967 Q149.93 396.728 153.654 392.967 Q157.396 389.186 158.356 388.096 Q160.18 386.046 160.895 384.635 Q161.628 383.206 161.628 381.833 Q161.628 379.595 160.048 378.184 Q158.487 376.773 155.967 376.773 Q154.18 376.773 152.187 377.394 Q150.212 378.015 147.955 379.275 L147.955 375.438 Q150.249 374.516 152.243 374.046 Q154.237 373.576 155.892 373.576 Q160.255 373.576 162.851 375.758 Q165.446 377.939 165.446 381.588 Q165.446 383.318 164.788 384.879 Q164.148 386.422 162.437 388.528 Q161.967 389.074 159.446 391.688 Q156.926 394.283 152.337 398.967 Z\" fill=\"#000000\" fill-rule=\"evenodd\" fill-opacity=\"1\" /><path clip-path=\"url(#clip090)\" d=\"M 0 0 M99.2659 226.985 L106.905 226.985 L106.905 200.62 L98.5946 202.286 L98.5946 198.027 L106.858 196.36 L111.534 196.36 L111.534 226.985 L119.173 226.985 L119.173 230.92 L99.2659 230.92 L99.2659 226.985 Z\" fill=\"#000000\" fill-rule=\"evenodd\" fill-opacity=\"1\" /><path clip-path=\"url(#clip090)\" d=\"M 0 0 M134.243 199.439 Q130.631 199.439 128.803 203.004 Q126.997 206.545 126.997 213.675 Q126.997 220.781 128.803 224.346 Q130.631 227.888 134.243 227.888 Q137.877 227.888 139.682 224.346 Q141.511 220.781 141.511 213.675 Q141.511 206.545 139.682 203.004 Q137.877 199.439 134.243 199.439 M134.243 195.735 Q140.053 195.735 143.108 200.342 Q146.187 204.925 146.187 213.675 Q146.187 222.402 143.108 227.008 Q140.053 231.592 134.243 231.592 Q128.432 231.592 125.354 227.008 Q122.298 222.402 122.298 213.675 Q122.298 204.925 125.354 200.342 Q128.432 195.735 134.243 195.735 Z\" fill=\"#000000\" fill-rule=\"evenodd\" fill-opacity=\"1\" /><path clip-path=\"url(#clip090)\" d=\"M 0 0 M155.892 177.931 Q152.958 177.931 151.472 180.828 Q150.005 183.705 150.005 189.498 Q150.005 195.272 151.472 198.168 Q152.958 201.046 155.892 201.046 Q158.845 201.046 160.312 198.168 Q161.797 195.272 161.797 189.498 Q161.797 183.705 160.312 180.828 Q158.845 177.931 155.892 177.931 M155.892 174.922 Q160.612 174.922 163.095 178.665 Q165.597 182.389 165.597 189.498 Q165.597 196.589 163.095 200.331 Q160.612 204.055 155.892 204.055 Q151.171 204.055 148.67 200.331 Q146.187 196.589 146.187 189.498 Q146.187 182.389 148.67 178.665 Q151.171 174.922 155.892 174.922 Z\" fill=\"#000000\" fill-rule=\"evenodd\" fill-opacity=\"1\" /><polyline clip-path=\"url(#clip092)\" style=\"stroke:#009af9; stroke-width:4; stroke-opacity:1; fill:none\" points=\"\n",
       "  262.478,98.8683 265.018,658.174 267.558,1185.15 270.098,1219.03 272.638,1240.46 275.178,1240.3 277.718,1253.94 280.258,1253.68 282.798,1263.38 285.338,1263.01 \n",
       "  287.878,1270.24 290.418,1269.76 292.957,1275.21 295.497,1274.64 298.037,1278.72 300.577,1278.05 303.117,1280.94 305.657,1280.27 308.197,1282.06 310.737,1281.31 \n",
       "  \n",
       "  \"/>\n",
       "<polyline clip-path=\"url(#clip092)\" style=\"stroke:#e26f46; stroke-width:4; stroke-opacity:1; fill:none\" points=\"\n",
       "  262.478,99.6025 265.018,535.357 267.558,954.726 270.098,1248.64 272.638,1273.29 275.178,1273.65 277.718,1286.7 280.258,1287.13 282.798,1295.9 285.338,1296.59 \n",
       "  287.878,1302.64 290.418,1303.51 292.957,1307.49 295.497,1308.53 298.037,1310.96 300.577,1312.09 303.117,1313.01 305.657,1314.29 308.197,1314.02 310.737,1315.33 \n",
       "  \n",
       "  \"/>\n",
       "<polyline clip-path=\"url(#clip092)\" style=\"stroke:#3da44d; stroke-width:4; stroke-opacity:1; fill:none\" points=\"\n",
       "  262.478,92.8746 265.018,429.783 267.558,735.027 270.098,1020.4 272.638,1244.88 275.178,1239.68 277.718,1253.38 280.258,1253 282.798,1262.81 285.338,1262.26 \n",
       "  287.878,1269.73 290.418,1269.03 292.957,1274.76 295.497,1273.89 298.037,1278.27 300.577,1277.24 303.117,1280.53 305.657,1279.47 308.197,1281.65 310.737,1280.5 \n",
       "  \n",
       "  \"/>\n",
       "<polyline clip-path=\"url(#clip092)\" style=\"stroke:#c271d2; stroke-width:4; stroke-opacity:1; fill:none\" points=\"\n",
       "  262.478,99.2912 265.018,326.493 267.558,522.27 270.098,700.931 272.638,869.875 275.178,1037.37 277.718,1200.14 280.258,1311.35 282.798,1334.8 285.338,1335.64 \n",
       "  287.878,1343.58 290.418,1343.58 292.957,1349.68 295.497,1350.49 298.037,1355.88 300.577,1356.58 303.117,1361.59 305.657,1362.36 308.197,1365.7 310.737,1366.54 \n",
       "  313.277,1369.17 315.817,1369.47 318.357,1372.55 320.897,1374.33 323.436,1375.5 325.976,1376.78 328.516,1377.9 331.056,1378.63 333.596,1379.54 336.136,1380.99 \n",
       "  338.676,1381.62 341.216,1382.14 343.756,1383.44 346.296,1384.52 348.836,1385.24 351.376,1385.68 353.916,1386.07 356.455,1387.03 358.995,1386.79 361.535,1388.17 \n",
       "  364.075,1387.89 366.615,1389.37 369.155,1388.17 371.695,1389.04 374.235,1388.71 376.775,1390.62 379.315,1389.09 381.855,1390.82 384.395,1388.87 386.934,1390.77 \n",
       "  389.474,1388.48 392.014,1390.66 394.554,1389.55 397.094,1390.63 399.634,1389.03 402.174,1391.44 404.714,1389.15 407.254,1391.13 409.794,1388.79 412.334,1390.04 \n",
       "  414.874,1388.56 417.414,1391.01 419.953,1388.4 422.493,1390.91 425.033,1388.16 427.573,1389.7 430.113,1388.4 432.653,1389.3 435.193,1388.26 437.733,1389.4 \n",
       "  440.273,1388.2 442.813,1389.49 445.353,1388.15 447.893,1388.48 450.432,1387.89 452.972,1388.3 455.512,1387.45 458.052,1388.55 460.592,1387.54 463.132,1388.51 \n",
       "  465.672,1386.34 468.212,1388.52 470.752,1386.08 473.292,1387.47 475.832,1386.19 478.372,1387.69 480.911,1385.76 483.451,1387.4 485.991,1385.28 488.531,1386.53 \n",
       "  491.071,1386.01 493.611,1386.12 496.151,1385.46 498.691,1386.25 501.231,1385.05 503.771,1386.09 506.311,1385.59 508.851,1385.73 511.391,1384.57 513.93,1385.66 \n",
       "  516.47,1384.41 519.01,1385.9 521.55,1383.55 524.09,1385.88 526.63,1384.12 529.17,1385.03 531.71,1384.53 534.25,1384.64 536.79,1383.36 539.33,1385.78 \n",
       "  541.87,1383.1 544.409,1384.69 546.949,1382.19 549.489,1385.09 552.029,1382.7 554.569,1384.8 557.109,1382.73 559.649,1384.07 562.189,1382.83 564.729,1384.31 \n",
       "  567.269,1381.89 569.809,1383.66 572.349,1382.04 574.889,1383.83 577.428,1382.03 579.968,1383.73 582.508,1382.28 585.048,1382.97 587.588,1381.98 590.128,1383.55 \n",
       "  592.668,1381.74 595.208,1384 597.748,1380.89 600.288,1382.12 602.828,1382.17 605.368,1382.74 607.907,1381.87 610.447,1383.79 612.987,1381.1 615.527,1382.72 \n",
       "  618.067,1381.21 620.607,1382.56 623.147,1381.79 625.687,1382.77 628.227,1381.37 630.767,1382.93 633.307,1380.3 635.847,1383.61 638.386,1380.76 640.926,1382.67 \n",
       "  643.466,1380.43 646.006,1382.66 648.546,1381.25 651.086,1382.23 653.626,1381.97 656.166,1381.7 658.706,1381.02 661.246,1382.47 663.786,1381.05 666.326,1382.44 \n",
       "  \n",
       "  \"/>\n",
       "<polyline clip-path=\"url(#clip092)\" style=\"stroke:#ac8d18; stroke-width:4; stroke-opacity:1; fill:none\" points=\"\n",
       "  262.478,88.4343 265.018,233.608 267.558,340.034 270.098,434.48 272.638,523.029 275.178,611.516 277.718,698.461 280.258,785.411 282.798,871.725 285.338,957.91 \n",
       "  287.878,1043.69 290.418,1128.71 292.957,1209.24 295.497,1264.4 298.037,1281.06 300.577,1286.52 303.117,1288.24 305.657,1292.61 308.197,1292.57 310.737,1297.64 \n",
       "  313.277,1296.56 315.817,1302.49 318.357,1299.91 320.897,1306.89 323.436,1303.06 325.976,1310.74 328.516,1305.69 331.056,1314.42 333.596,1308.24 336.136,1318.3 \n",
       "  338.676,1310.57 341.216,1321.59 343.756,1312.86 346.296,1324.82 348.836,1314.44 351.376,1327.91 353.916,1316.54 356.455,1331.17 358.995,1317.85 361.535,1333.58 \n",
       "  364.075,1319.4 366.615,1336.36 369.155,1320.7 371.695,1339.12 374.235,1322.41 376.775,1342.37 379.315,1323.18 381.855,1344.41 384.395,1324.53 386.934,1347.06 \n",
       "  389.474,1325.57 392.014,1349.63 394.554,1326.49 397.094,1352.06 399.634,1327.25 402.174,1353.92 404.714,1328.3 407.254,1357.07 409.794,1329.15 412.334,1359.53 \n",
       "  414.874,1330.11 417.414,1361.89 419.953,1330.63 422.493,1363.86 425.033,1331.18 427.573,1366.29 430.113,1331.75 432.653,1368.27 435.193,1332.56 437.733,1370.78 \n",
       "  440.273,1332.75 442.813,1372.32 445.353,1333.27 447.893,1375.2 450.432,1334.05 452.972,1377.06 455.512,1334.13 458.052,1378.83 460.592,1334.62 463.132,1381.7 \n",
       "  465.672,1335.33 468.212,1384.1 470.752,1335.7 473.292,1386.93 475.832,1336.09 478.372,1388.65 480.911,1336.29 483.451,1389.56 485.991,1336.45 488.531,1392.05 \n",
       "  491.071,1336.73 493.611,1394.63 496.151,1337.34 498.691,1397.63 501.231,1337.36 503.771,1398.44 506.311,1337.59 508.851,1401.69 511.391,1337.86 513.93,1402.54 \n",
       "  516.47,1338.12 519.01,1406.17 521.55,1338.33 524.09,1406.64 526.63,1338.3 529.17,1408.1 531.71,1338.69 534.25,1413.03 536.79,1339.05 539.33,1414.44 \n",
       "  541.87,1339.11 544.409,1417.18 546.949,1339.37 549.489,1419.01 552.029,1338.98 554.569,1420.47 557.109,1339.76 559.649,1421.02 562.189,1339.37 564.729,1423.47 \n",
       "  567.269,1340.06 569.809,1429.7 572.349,1339.76 574.889,1423.27 577.428,1339.99 579.968,1430.86 582.508,1339.67 585.048,1429.58 587.588,1340.64 590.128,1433.31 \n",
       "  592.668,1339.62 595.208,1430.09 597.748,1340.21 600.288,1434.95 602.828,1340.71 605.368,1439.9 607.907,1340.74 610.447,1439.94 612.987,1340.15 615.527,1434.44 \n",
       "  618.067,1340.59 620.607,1439.15 623.147,1340.25 625.687,1439.05 628.227,1340.53 630.767,1442.01 633.307,1340.27 635.847,1438.25 638.386,1340.23 640.926,1439.1 \n",
       "  643.466,1340.52 646.006,1445.72 648.546,1340.7 651.086,1442.58 653.626,1340.54 656.166,1444.59 658.706,1340.48 661.246,1443.37 663.786,1340.79 666.326,1445.45 \n",
       "  \n",
       "  \"/>\n",
       "<polyline clip-path=\"url(#clip092)\" style=\"stroke:#00a9ad; stroke-width:4; stroke-opacity:1; fill:none\" points=\"\n",
       "  262.478,105.145 265.018,178.642 267.558,219.154 270.098,261.862 272.638,299.298 275.178,337.548 277.718,374.235 280.258,410.846 282.798,446.877 285.338,482.713 \n",
       "  287.878,518.266 290.418,553.65 292.957,588.862 295.497,623.944 298.037,658.907 300.577,693.769 303.117,728.543 305.657,763.239 308.197,797.865 310.737,832.429 \n",
       "  313.277,866.937 315.817,901.395 318.357,935.805 320.897,970.174 323.436,1004.5 325.976,1038.79 328.516,1073.02 331.056,1107.22 333.596,1141.27 336.136,1175.31 \n",
       "  338.676,1208.78 341.216,1242.29 343.756,1273.51 346.296,1304.45 348.836,1328.52 351.376,1349.81 353.916,1361.69 356.455,1368.96 358.995,1379.06 361.535,1374.85 \n",
       "  364.075,1382.01 366.615,1376.25 369.155,1385.52 371.695,1377.18 374.235,1386.82 376.775,1376.98 379.315,1390.35 381.855,1379.46 384.395,1390.42 386.934,1379.14 \n",
       "  389.474,1392.36 392.014,1379.15 394.554,1394.31 397.094,1380.44 399.634,1395.09 402.174,1380.4 404.714,1395.59 407.254,1380.41 409.794,1397.63 412.334,1381.39 \n",
       "  414.874,1399.59 417.414,1381.76 419.953,1398.06 422.493,1381.74 425.033,1399.76 427.573,1382.14 430.113,1399.23 432.653,1382.17 435.193,1399.05 437.733,1382.04 \n",
       "  440.273,1400.51 442.813,1382.37 445.353,1399.14 447.893,1381.53 450.432,1400.63 452.972,1382.34 455.512,1400.89 458.052,1381.95 460.592,1400.31 463.132,1382.42 \n",
       "  465.672,1400.23 468.212,1381.88 470.752,1400.45 473.292,1382.93 475.832,1399.49 478.372,1382.43 480.911,1398.86 483.451,1381.31 485.991,1400.61 488.531,1381.77 \n",
       "  491.071,1398.84 493.611,1382.44 496.151,1399.35 498.691,1381.28 501.231,1400.61 503.771,1382.56 506.311,1400.29 508.851,1381.85 511.391,1399.3 513.93,1382.16 \n",
       "  516.47,1398.17 519.01,1380.97 521.55,1400.33 524.09,1381.1 526.63,1400.03 529.17,1380.87 531.71,1399.3 534.25,1382.61 536.79,1397.82 539.33,1381.33 \n",
       "  541.87,1398.78 544.409,1381.14 546.949,1398.34 549.489,1381.15 552.029,1399.38 554.569,1381.47 557.109,1397.65 559.649,1382.78 562.189,1395.68 564.729,1381.17 \n",
       "  567.269,1398.58 569.809,1380.62 572.349,1396.41 574.889,1381.98 577.428,1395.67 579.968,1381.41 582.508,1396.88 585.048,1380.38 587.588,1397.9 590.128,1380.73 \n",
       "  592.668,1396.74 595.208,1381.43 597.748,1395.55 600.288,1380.64 602.828,1396.31 605.368,1380.51 607.907,1397.02 610.447,1379.86 612.987,1396.56 615.527,1382.47 \n",
       "  618.067,1395.44 620.607,1379.67 623.147,1396.01 625.687,1379.7 628.227,1398.02 630.767,1380.87 633.307,1395 635.847,1379.18 638.386,1397.69 640.926,1380.61 \n",
       "  643.466,1395.55 646.006,1381.04 648.546,1396.39 651.086,1380.28 653.626,1395.58 656.166,1380.29 658.706,1395.82 661.246,1380.24 663.786,1396.37 666.326,1380.58 \n",
       "  \n",
       "  \"/>\n",
       "<polyline clip-path=\"url(#clip092)\" style=\"stroke:#ed5d92; stroke-width:4; stroke-opacity:1; fill:none\" points=\"\n",
       "  262.478,95.6592 265.018,132.585 267.558,154.439 270.098,173.749 272.638,189.773 275.178,205.536 277.718,220.303 280.258,234.779 282.798,248.814 285.338,262.623 \n",
       "  287.878,276.184 290.418,289.579 292.957,302.813 295.497,315.923 298.037,328.919 300.577,341.82 303.117,354.636 305.657,367.377 308.197,380.051 310.737,392.665 \n",
       "  313.277,405.225 315.817,417.736 318.357,430.203 320.897,442.629 323.436,455.017 325.976,467.371 328.516,479.693 331.056,491.986 333.596,504.251 336.136,516.49 \n",
       "  338.676,528.706 341.216,540.899 343.756,553.071 346.296,565.223 348.836,577.357 351.376,589.473 353.916,601.572 356.455,613.656 358.995,625.725 361.535,637.78 \n",
       "  364.075,649.821 366.615,661.85 369.155,673.866 371.695,685.871 374.235,697.864 376.775,709.847 379.315,721.82 381.855,733.783 384.395,745.737 386.934,757.682 \n",
       "  389.474,769.618 392.014,781.546 394.554,793.467 397.094,805.379 399.634,817.285 402.174,829.183 404.714,841.074 407.254,852.96 409.794,864.839 412.334,876.712 \n",
       "  414.874,888.579 417.414,900.442 419.953,912.298 422.493,924.151 425.033,935.999 427.573,947.844 430.113,959.683 432.653,971.523 435.193,983.356 437.733,995.195 \n",
       "  440.273,1007.02 442.813,1018.87 445.353,1030.7 447.893,1042.55 450.432,1054.39 452.972,1066.28 455.512,1078.13 458.052,1090.07 460.592,1101.97 463.132,1114.01 \n",
       "  465.672,1125.96 468.212,1138.19 470.752,1150.26 473.292,1162.8 475.832,1175.08 478.372,1188.19 480.911,1200.84 483.451,1214.92 485.991,1228.25 488.531,1244.01 \n",
       "  491.071,1258.62 493.611,1276.38 496.151,1292.82 498.691,1302.92 501.231,1314.25 503.771,1301.27 506.311,1306.56 508.851,1292.99 511.391,1298.06 513.93,1287.7 \n",
       "  516.47,1293.26 519.01,1284.79 521.55,1290.83 524.09,1283.39 526.63,1289.79 529.17,1282.85 531.71,1289.34 534.25,1282.63 536.79,1289.24 539.33,1282.52 \n",
       "  541.87,1289.38 544.409,1282.85 546.949,1289.75 549.489,1283.06 552.029,1290.15 554.569,1283.39 557.109,1290.56 559.649,1283.79 562.189,1291.02 564.729,1284.12 \n",
       "  567.269,1291.43 569.809,1284.38 572.349,1291.83 574.889,1284.66 577.428,1292.18 579.968,1284.9 582.508,1292.54 585.048,1285.2 587.588,1292.81 590.128,1285.39 \n",
       "  592.668,1293.11 595.208,1285.49 597.748,1293.3 600.288,1285.79 602.828,1293.48 605.368,1285.91 607.907,1293.77 610.447,1286.17 612.987,1294.15 615.527,1286.27 \n",
       "  618.067,1294.2 620.607,1286.42 623.147,1294.38 625.687,1286.49 628.227,1294.55 630.767,1286.63 633.307,1294.65 635.847,1286.69 638.386,1294.77 640.926,1286.69 \n",
       "  643.466,1294.71 646.006,1286.86 648.546,1295.13 651.086,1287.09 653.626,1295.19 656.166,1287.01 658.706,1295.16 661.246,1287.11 663.786,1295.21 666.326,1286.96 \n",
       "  \n",
       "  \"/>\n",
       "<polyline clip-path=\"url(#clip092)\" style=\"stroke:#c68125; stroke-width:4; stroke-opacity:1; fill:none\" points=\"\n",
       "  262.478,108.263 265.018,132.528 267.558,144.101 270.098,154.397 272.638,162.055 275.178,169.524 277.718,176.09 280.258,182.457 282.798,188.393 285.338,194.174 \n",
       "  287.878,199.702 290.418,205.113 292.957,210.36 295.497,215.514 298.037,220.553 300.577,225.518 303.117,230.398 305.657,235.217 308.197,239.971 310.737,244.675 \n",
       "  313.277,249.326 315.817,253.935 318.357,258.502 320.897,263.033 323.436,267.528 325.976,271.993 328.516,276.428 331.056,280.836 333.596,285.218 336.136,289.577 \n",
       "  338.676,293.913 341.216,298.229 343.756,302.525 346.296,306.803 348.836,311.063 351.376,315.307 353.916,319.535 356.455,323.749 358.995,327.948 361.535,332.135 \n",
       "  364.075,336.308 366.615,340.47 369.155,344.62 371.695,348.76 374.235,352.888 376.775,357.007 379.315,361.116 381.855,365.216 384.395,369.307 386.934,373.39 \n",
       "  389.474,377.464 392.014,381.531 394.554,385.59 397.094,389.641 399.634,393.686 402.174,397.724 404.714,401.755 407.254,405.78 409.794,409.799 412.334,413.812 \n",
       "  414.874,417.82 417.414,421.821 419.953,425.818 422.493,429.809 425.033,433.795 427.573,437.777 430.113,441.753 432.653,445.725 435.193,449.693 437.733,453.656 \n",
       "  440.273,457.615 442.813,461.57 445.353,465.521 447.893,469.468 450.432,473.411 452.972,477.351 455.512,481.287 458.052,485.219 460.592,489.148 463.132,493.074 \n",
       "  465.672,496.997 468.212,500.916 470.752,504.832 473.292,508.746 475.832,512.656 478.372,516.563 480.911,520.468 483.451,524.37 485.991,528.269 488.531,532.166 \n",
       "  491.071,536.06 493.611,539.951 496.151,543.84 498.691,547.727 501.231,551.611 503.771,555.493 506.311,559.373 508.851,563.25 511.391,567.126 513.93,570.999 \n",
       "  516.47,574.87 519.01,578.739 521.55,582.607 524.09,586.472 526.63,590.335 529.17,594.197 531.71,598.057 534.25,601.915 536.79,605.772 539.33,609.626 \n",
       "  541.87,613.48 544.409,617.332 546.949,621.182 549.489,625.031 552.029,628.879 554.569,632.726 557.109,636.572 559.649,640.416 562.189,644.261 564.729,648.104 \n",
       "  567.269,651.947 569.809,655.79 572.349,659.633 574.889,663.477 577.428,667.321 579.968,671.167 582.508,675.014 585.048,678.864 587.588,682.717 590.128,686.574 \n",
       "  592.668,690.436 595.208,694.304 597.748,698.181 600.288,702.067 602.828,705.964 605.368,709.876 607.907,713.805 610.447,717.755 612.987,721.731 615.527,725.738 \n",
       "  618.067,729.782 620.607,733.871 623.147,738.015 625.687,742.226 628.227,746.518 630.767,750.91 633.307,755.424 635.847,760.088 638.386,764.94 640.926,770.027 \n",
       "  643.466,775.411 646.006,781.178 648.546,787.445 651.086,794.383 653.626,802.249 656.166,811.459 658.706,822.744 661.246,837.593 663.786,859.852 666.326,907.356 \n",
       "  \n",
       "  \"/>\n",
       "<polyline clip-path=\"url(#clip092)\" style=\"stroke:#00a98d; stroke-width:4; stroke-opacity:1; fill:none\" points=\"\n",
       "  262.478,104.588 265.018,99.8281 267.558,107.664 270.098,114.391 272.638,119.2 275.178,123.587 277.718,127.295 280.258,130.736 282.798,133.854 285.338,136.789 \n",
       "  287.878,139.537 290.418,142.153 292.957,144.646 295.497,147.04 298.037,149.347 300.577,151.576 303.117,153.741 305.657,155.843 308.197,157.896 310.737,159.897 \n",
       "  313.277,161.859 315.817,163.777 318.357,165.663 320.897,167.512 323.436,169.335 325.976,171.126 328.516,172.894 331.056,174.635 333.596,176.356 336.136,178.053 \n",
       "  338.676,179.733 341.216,181.393 343.756,183.037 346.296,184.662 348.836,186.274 351.376,187.87 353.916,189.453 356.455,191.022 358.995,192.58 361.535,194.125 \n",
       "  364.075,195.659 366.615,197.182 369.155,198.696 371.695,200.199 374.235,201.694 376.775,203.178 379.315,204.656 381.855,206.124 384.395,207.585 386.934,209.038 \n",
       "  389.474,210.485 392.014,211.924 394.554,213.357 397.094,214.784 399.634,216.205 402.174,217.619 404.714,219.029 407.254,220.432 409.794,221.831 412.334,223.225 \n",
       "  414.874,224.614 417.414,225.999 419.953,227.379 422.493,228.755 425.033,230.128 427.573,231.496 430.113,232.861 432.653,234.222 435.193,235.58 437.733,236.935 \n",
       "  440.273,238.287 442.813,239.636 445.353,240.983 447.893,242.327 450.432,243.669 452.972,245.008 455.512,246.345 458.052,247.681 460.592,249.015 463.132,250.347 \n",
       "  465.672,251.678 468.212,253.008 470.752,254.337 473.292,255.664 475.832,256.991 478.372,258.318 480.911,259.644 483.451,260.97 485.991,262.296 488.531,263.623 \n",
       "  491.071,264.949 493.611,266.277 496.151,267.605 498.691,268.935 501.231,270.266 503.771,271.598 506.311,272.933 508.851,274.27 511.391,275.609 513.93,276.951 \n",
       "  516.47,278.296 519.01,279.645 521.55,280.997 524.09,282.354 526.63,283.715 529.17,285.082 531.71,286.454 534.25,287.832 536.79,289.217 539.33,290.609 \n",
       "  541.87,292.008 544.409,293.416 546.949,294.833 549.489,296.259 552.029,297.696 554.569,299.144 557.109,300.605 559.649,302.078 562.189,303.566 564.729,305.069 \n",
       "  567.269,306.588 569.809,308.125 572.349,309.681 574.889,311.257 577.428,312.856 579.968,314.479 582.508,316.128 585.048,317.805 587.588,319.512 590.128,321.253 \n",
       "  592.668,323.029 595.208,324.844 597.748,326.702 600.288,328.606 602.828,330.561 605.368,332.571 607.907,334.642 610.447,336.78 612.987,338.993 615.527,341.288 \n",
       "  618.067,343.675 620.607,346.164 623.147,348.768 625.687,351.502 628.227,354.384 630.767,357.434 633.307,360.678 635.847,364.149 638.386,367.884 640.926,371.936 \n",
       "  643.466,376.37 646.006,381.272 648.546,386.764 651.086,393.018 653.626,400.294 656.166,409.009 658.706,419.896 661.246,434.446 663.786,456.505 666.326,503.907 \n",
       "  \n",
       "  \"/>\n",
       "<polyline clip-path=\"url(#clip092)\" style=\"stroke:#8e971d; stroke-width:4; stroke-opacity:1; fill:none\" points=\"\n",
       "  262.478,87.9763 265.018,90.8198 267.558,102.324 270.098,105.376 272.638,110.894 275.178,112.879 277.718,116.675 280.258,118.233 282.798,121.157 285.338,122.481 \n",
       "  287.878,124.879 290.418,126.052 292.957,128.095 295.497,129.162 298.037,130.951 300.577,131.937 303.117,133.535 305.657,134.458 308.197,135.907 310.737,136.78 \n",
       "  313.277,138.108 315.817,138.939 318.357,140.17 320.897,140.964 323.436,142.113 325.976,142.877 328.516,143.957 331.056,144.694 333.596,145.714 336.136,146.428 \n",
       "  338.676,147.397 341.216,148.09 343.756,149.013 346.296,149.688 348.836,150.571 351.376,151.229 353.916,152.077 356.455,152.719 358.995,153.536 361.535,154.164 \n",
       "  364.075,154.952 366.615,155.568 369.155,156.33 371.695,156.934 374.235,157.673 376.775,158.265 379.315,158.983 381.855,159.565 384.395,160.264 386.934,160.837 \n",
       "  389.474,161.517 392.014,162.081 394.554,162.745 397.094,163.301 399.634,163.949 402.174,164.497 404.714,165.132 407.254,165.672 409.794,166.293 412.334,166.827 \n",
       "  414.874,167.436 417.414,167.963 419.953,168.561 422.493,169.082 425.033,169.668 427.573,170.183 430.113,170.76 432.653,171.27 435.193,171.837 437.733,172.341 \n",
       "  440.273,172.899 442.813,173.398 445.353,173.948 447.893,174.442 450.432,174.984 452.972,175.474 455.512,176.008 458.052,176.493 460.592,177.02 463.132,177.501 \n",
       "  465.672,178.022 468.212,178.499 470.752,179.013 473.292,179.486 475.832,179.994 478.372,180.463 480.911,180.965 483.451,181.431 485.991,181.927 488.531,182.389 \n",
       "  491.071,182.881 493.611,183.339 496.151,183.826 498.691,184.281 501.231,184.763 503.771,185.215 506.311,185.692 508.851,186.141 511.391,186.614 513.93,187.06 \n",
       "  516.47,187.529 519.01,187.972 521.55,188.437 524.09,188.877 526.63,189.338 529.17,189.776 531.71,190.233 534.25,190.668 536.79,191.122 539.33,191.555 \n",
       "  541.87,192.005 544.409,192.435 546.949,192.882 549.489,193.31 552.029,193.753 554.569,194.179 557.109,194.619 559.649,195.043 562.189,195.48 564.729,195.902 \n",
       "  567.269,196.336 569.809,196.756 572.349,197.188 574.889,197.605 577.428,198.034 579.968,198.45 582.508,198.876 585.048,199.29 587.588,199.714 590.128,200.125 \n",
       "  592.668,200.547 595.208,200.957 597.748,201.376 600.288,201.784 602.828,202.201 605.368,202.607 607.907,203.022 610.447,203.427 612.987,203.839 615.527,204.242 \n",
       "  618.067,204.653 620.607,205.054 623.147,205.463 625.687,205.863 628.227,206.27 630.767,206.668 633.307,207.073 635.847,207.469 638.386,207.873 640.926,208.268 \n",
       "  643.466,208.669 646.006,209.063 648.546,209.463 651.086,209.855 653.626,210.253 656.166,210.644 658.706,211.04 661.246,211.43 663.786,211.825 666.326,212.213 \n",
       "  668.866,212.606 671.405,212.994 673.945,213.385 676.485,213.771 679.025,214.162 681.565,214.546 684.105,214.935 686.645,215.319 689.185,215.706 691.725,216.089 \n",
       "  694.265,216.475 696.805,216.856 699.345,217.241 701.884,217.621 704.424,218.004 706.964,218.383 709.504,218.766 712.044,219.144 714.584,219.525 717.124,219.902 \n",
       "  719.664,220.282 722.204,220.658 724.744,221.036 727.284,221.411 729.824,221.789 732.364,222.163 734.903,222.539 737.443,222.912 739.983,223.288 742.523,223.66 \n",
       "  745.063,224.034 747.603,224.406 750.143,224.779 752.683,225.149 755.223,225.522 757.763,225.891 760.303,226.262 762.843,226.631 765.382,227.001 767.922,227.369 \n",
       "  770.462,227.739 773.002,228.106 775.542,228.474 778.082,228.84 780.622,229.208 783.162,229.573 785.702,229.94 788.242,230.305 790.782,230.671 793.322,231.034 \n",
       "  795.861,231.4 798.401,231.763 800.941,232.127 803.481,232.489 806.021,232.853 808.561,233.215 811.101,233.577 813.641,233.938 816.181,234.3 818.721,234.661 \n",
       "  821.261,235.022 823.801,235.382 826.341,235.742 828.88,236.101 831.42,236.461 833.96,236.819 836.5,237.179 839.04,237.536 841.58,237.895 844.12,238.252 \n",
       "  846.66,238.61 849.2,238.967 851.74,239.324 854.28,239.68 856.82,240.036 859.359,240.392 861.899,240.748 864.439,241.103 866.979,241.458 869.519,241.812 \n",
       "  872.059,242.167 874.599,242.521 877.139,242.875 879.679,243.229 882.219,243.582 884.759,243.935 887.299,244.288 889.839,244.641 892.378,244.993 894.918,245.345 \n",
       "  897.458,245.697 899.998,246.049 902.538,246.401 905.078,246.751 907.618,247.103 910.158,247.453 912.698,247.804 915.238,248.154 917.778,248.504 920.318,248.854 \n",
       "  922.857,249.204 925.397,249.553 927.937,249.902 930.477,250.251 933.017,250.6 935.557,250.949 938.097,251.297 940.637,251.645 943.177,251.994 945.717,252.341 \n",
       "  948.257,252.689 950.797,253.037 953.336,253.384 955.876,253.731 958.416,254.079 960.956,254.425 963.496,254.772 966.036,255.119 968.576,255.465 971.116,255.811 \n",
       "  973.656,256.158 976.196,256.503 978.736,256.849 981.276,257.195 983.816,257.541 986.355,257.886 988.895,258.231 991.435,258.576 993.975,258.922 996.515,259.266 \n",
       "  999.055,259.611 1001.59,259.956 1004.13,260.301 1006.67,260.645 1009.21,260.989 1011.75,261.334 1014.29,261.678 1016.83,262.022 1019.37,262.366 1021.91,262.71 \n",
       "  1024.45,263.054 1026.99,263.397 1029.53,263.741 1032.07,264.085 1034.61,264.428 1037.15,264.772 1039.69,265.115 1042.23,265.458 1044.77,265.802 1047.31,266.145 \n",
       "  1049.85,266.488 1052.39,266.831 1054.93,267.174 1057.47,267.517 1060.01,267.86 1062.55,268.203 1065.09,268.546 1067.63,268.889 1070.17,269.232 1072.71,269.575 \n",
       "  1075.25,269.918 1077.79,270.26 1080.33,270.603 1082.87,270.946 1085.41,271.289 1087.95,271.632 1090.49,271.975 1093.03,272.317 1095.57,272.66 1098.11,273.003 \n",
       "  1100.65,273.346 1103.19,273.689 1105.73,274.032 1108.27,274.375 1110.81,274.718 1113.35,275.061 1115.89,275.404 1118.43,275.747 1120.97,276.091 1123.51,276.434 \n",
       "  1126.05,276.777 1128.59,277.121 1131.13,277.464 1133.67,277.808 1136.21,278.151 1138.75,278.495 1141.29,278.839 1143.83,279.183 1146.37,279.527 1148.91,279.871 \n",
       "  1151.45,280.215 1153.99,280.56 1156.53,280.904 1159.07,281.249 1161.61,281.593 1164.15,281.938 1166.69,282.283 1169.23,282.628 1171.77,282.974 1174.31,283.319 \n",
       "  1176.85,283.665 1179.39,284.011 1181.93,284.357 1184.47,284.703 1187.01,285.049 1189.55,285.396 1192.09,285.743 1194.63,286.09 1197.17,286.437 1199.71,286.784 \n",
       "  1202.25,287.132 1204.79,287.479 1207.33,287.828 1209.87,288.176 1212.41,288.524 1214.95,288.873 1217.49,289.222 1220.03,289.572 1222.57,289.921 1225.11,290.271 \n",
       "  1227.65,290.621 1230.19,290.972 1232.73,291.323 1235.27,291.674 1237.81,292.025 1240.35,292.377 1242.89,292.729 1245.43,293.081 1247.97,293.434 1250.51,293.787 \n",
       "  1253.05,294.141 1255.59,294.494 1258.13,294.849 1260.67,295.203 1263.21,295.558 1265.75,295.914 1268.29,296.27 1270.83,296.626 1273.37,296.983 1275.91,297.34 \n",
       "  1278.45,297.698 1280.99,298.056 1283.53,298.414 1286.07,298.773 1288.61,299.133 1291.15,299.493 1293.69,299.854 1296.23,300.215 1298.77,300.576 1301.31,300.939 \n",
       "  1303.85,301.301 1306.39,301.665 1308.93,302.029 1311.47,302.393 1314.01,302.758 1316.54,303.124 1319.08,303.491 1321.62,303.858 1324.16,304.225 1326.7,304.594 \n",
       "  1329.24,304.963 1331.78,305.333 1334.32,305.703 1336.86,306.074 1339.4,306.446 1341.94,306.819 1344.48,307.193 1347.02,307.567 1349.56,307.942 1352.1,308.318 \n",
       "  1354.64,308.695 1357.18,309.072 1359.72,309.451 1362.26,309.83 1364.8,310.21 1367.34,310.592 1369.88,310.974 1372.42,311.357 1374.96,311.741 1377.5,312.126 \n",
       "  1380.04,312.512 1382.58,312.899 1385.12,313.287 1387.66,313.677 1390.2,314.067 1392.74,314.459 1395.28,314.851 1397.82,315.245 1400.36,315.64 1402.9,316.036 \n",
       "  1405.44,316.434 1407.98,316.832 1410.52,317.232 1413.06,317.634 1415.6,318.036 1418.14,318.44 1420.68,318.846 1423.22,319.253 1425.76,319.661 1428.3,320.071 \n",
       "  1430.84,320.482 1433.38,320.895 1435.92,321.309 1438.46,321.725 1441,322.143 1443.54,322.562 1446.08,322.983 1448.62,323.406 1451.16,323.83 1453.7,324.256 \n",
       "  1456.24,324.684 1458.78,325.114 1461.32,325.546 1463.86,325.98 1466.4,326.416 1468.94,326.854 1471.48,327.294 1474.02,327.736 1476.56,328.18 1479.1,328.627 \n",
       "  1481.64,329.076 1484.18,329.527 1486.72,329.981 1489.26,330.436 1491.8,330.895 1494.34,331.356 1496.88,331.819 1499.42,332.286 1501.96,332.754 1504.5,333.226 \n",
       "  1507.04,333.7 1509.58,334.178 1512.12,334.658 1514.66,335.141 1517.2,335.628 1519.74,336.117 1522.28,336.61 1524.82,337.106 1527.36,337.606 1529.9,338.109 \n",
       "  1532.44,338.615 1534.98,339.126 1537.52,339.64 1540.06,340.157 1542.6,340.679 1545.14,341.204 1547.68,341.734 1550.22,342.268 1552.76,342.806 1555.3,343.349 \n",
       "  1557.84,343.896 1560.38,344.448 1562.92,345.005 1565.46,345.567 1568,346.133 1570.54,346.705 1573.08,347.282 1575.62,347.865 1578.16,348.453 1580.7,349.047 \n",
       "  1583.24,349.646 1585.78,350.252 1588.32,350.865 1590.86,351.483 1593.4,352.108 1595.94,352.741 1598.48,353.38 1601.02,354.026 1603.56,354.68 1606.1,355.341 \n",
       "  1608.64,356.011 1611.18,356.689 1613.72,357.375 1616.26,358.07 1618.8,358.773 1621.34,359.487 1623.88,360.209 1626.42,360.942 1628.96,361.685 1631.49,362.439 \n",
       "  1634.03,363.203 1636.57,363.98 1639.11,364.768 1641.65,365.568 1644.19,366.381 1646.73,367.207 1649.27,368.047 1651.81,368.902 1654.35,369.771 1656.89,370.656 \n",
       "  1659.43,371.557 1661.97,372.475 1664.51,373.41 1667.05,374.364 1669.59,375.337 1672.13,376.33 1674.67,377.344 1677.21,378.38 1679.75,379.44 1682.29,380.523 \n",
       "  1684.83,381.633 1687.37,382.769 1689.91,383.933 1692.45,385.127 1694.99,386.353 1697.53,387.613 1700.07,388.907 1702.61,390.24 1705.15,391.613 1707.69,393.028 \n",
       "  1710.23,394.489 1712.77,395.999 1715.31,397.561 1717.85,399.18 1720.39,400.859 1722.93,402.604 1725.47,404.42 1728.01,406.314 1730.55,408.292 1733.09,410.362 \n",
       "  1735.63,412.535 1738.17,414.821 1740.71,417.232 1743.25,419.783 1745.79,422.492 1748.33,425.381 1750.87,428.474 1753.41,431.804 1755.95,435.41 1758.49,439.342 \n",
       "  1761.03,443.667 1763.57,448.472 1766.11,453.878 1768.65,460.056 1771.19,467.267 1773.73,475.927 1776.27,486.771 1778.81,501.288 1781.35,523.325 1783.89,570.717 \n",
       "  \n",
       "  \"/>\n",
       "<polyline clip-path=\"url(#clip092)\" style=\"stroke:#00a8cb; stroke-width:4; stroke-opacity:1; fill:none\" points=\"\n",
       "  262.478,105.121 265.018,112.993 267.558,122.649 270.098,125.07 272.638,129.171 275.178,130.771 277.718,133.502 280.258,134.737 282.798,136.796 285.338,137.825 \n",
       "  287.878,139.486 290.418,140.379 292.957,141.776 295.497,142.573 298.037,143.783 300.577,144.505 303.117,145.575 305.657,146.239 308.197,147.202 310.737,147.818 \n",
       "  313.277,148.695 315.817,149.272 318.357,150.078 320.897,150.621 323.436,151.369 325.976,151.884 328.516,152.582 331.056,153.072 333.596,153.728 336.136,154.196 \n",
       "  338.676,154.815 341.216,155.265 343.756,155.851 346.296,156.284 348.836,156.842 351.376,157.259 353.916,157.792 356.455,158.195 358.995,158.705 361.535,159.095 \n",
       "  364.075,159.586 366.615,159.964 369.155,160.437 371.695,160.804 374.235,161.26 376.775,161.618 379.315,162.058 381.855,162.407 384.395,162.834 386.934,163.174 \n",
       "  389.474,163.588 392.014,163.921 394.554,164.323 397.094,164.648 399.634,165.039 402.174,165.358 404.714,165.739 407.254,166.051 409.794,166.423 412.334,166.729 \n",
       "  414.874,167.092 417.414,167.393 419.953,167.747 422.493,168.042 425.033,168.389 427.573,168.68 430.113,169.019 432.653,169.305 435.193,169.637 437.733,169.919 \n",
       "  440.273,170.245 442.813,170.522 445.353,170.842 447.893,171.115 450.432,171.429 452.972,171.699 455.512,172.008 458.052,172.274 460.592,172.577 463.132,172.84 \n",
       "  465.672,173.139 468.212,173.398 470.752,173.692 473.292,173.948 475.832,174.238 478.372,174.491 480.911,174.776 483.451,175.027 485.991,175.308 488.531,175.556 \n",
       "  491.071,175.833 493.611,176.078 496.151,176.352 498.691,176.595 501.231,176.865 503.771,177.105 506.311,177.373 508.851,177.61 511.391,177.874 513.93,178.11 \n",
       "  516.47,178.371 519.01,178.604 521.55,178.862 524.09,179.094 526.63,179.349 529.17,179.578 531.71,179.831 534.25,180.059 536.79,180.309 539.33,180.534 \n",
       "  541.87,180.782 544.409,181.006 546.949,181.251 549.489,181.473 552.029,181.716 554.569,181.937 557.109,182.178 559.649,182.397 562.189,182.635 564.729,182.853 \n",
       "  567.269,183.09 569.809,183.306 572.349,183.54 574.889,183.755 577.428,183.988 579.968,184.201 582.508,184.432 585.048,184.645 587.588,184.874 590.128,185.085 \n",
       "  592.668,185.312 595.208,185.522 597.748,185.748 600.288,185.956 602.828,186.18 605.368,186.388 607.907,186.611 610.447,186.817 612.987,187.038 615.527,187.244 \n",
       "  618.067,187.464 620.607,187.668 623.147,187.886 625.687,188.09 628.227,188.307 630.767,188.509 633.307,188.725 635.847,188.927 638.386,189.142 640.926,189.342 \n",
       "  643.466,189.556 646.006,189.756 648.546,189.968 651.086,190.167 653.626,190.378 656.166,190.577 658.706,190.787 661.246,190.984 663.786,191.194 666.326,191.39 \n",
       "  668.866,191.599 671.405,191.795 673.945,192.002 676.485,192.197 679.025,192.404 681.565,192.598 684.105,192.804 686.645,192.998 689.185,193.203 691.725,193.396 \n",
       "  694.265,193.6 696.805,193.793 699.345,193.996 701.884,194.189 704.424,194.391 706.964,194.583 709.504,194.785 712.044,194.976 714.584,195.177 717.124,195.368 \n",
       "  719.664,195.568 722.204,195.758 724.744,195.958 727.284,196.148 729.824,196.347 732.364,196.536 734.903,196.735 737.443,196.924 739.983,197.122 742.523,197.311 \n",
       "  745.063,197.508 747.603,197.696 750.143,197.893 752.683,198.081 755.223,198.277 757.763,198.465 760.303,198.661 762.843,198.848 765.382,199.044 767.922,199.231 \n",
       "  770.462,199.426 773.002,199.613 775.542,199.807 778.082,199.994 780.622,200.188 783.162,200.374 785.702,200.568 788.242,200.754 790.782,200.948 793.322,201.134 \n",
       "  795.861,201.327 798.401,201.512 800.941,201.705 803.481,201.891 806.021,202.083 808.561,202.269 811.101,202.461 813.641,202.646 816.181,202.838 818.721,203.023 \n",
       "  821.261,203.215 823.801,203.4 826.341,203.592 828.88,203.777 831.42,203.968 833.96,204.153 836.5,204.344 839.04,204.529 841.58,204.72 844.12,204.905 \n",
       "  846.66,205.096 849.2,205.28 851.74,205.471 854.28,205.656 856.82,205.847 859.359,206.031 861.899,206.222 864.439,206.407 866.979,206.597 869.519,206.782 \n",
       "  872.059,206.972 874.599,207.157 877.139,207.348 879.679,207.532 882.219,207.723 884.759,207.908 887.299,208.098 889.839,208.283 892.378,208.473 894.918,208.659 \n",
       "  897.458,208.849 899.998,209.034 902.538,209.225 905.078,209.41 907.618,209.601 910.158,209.786 912.698,209.977 915.238,210.162 917.778,210.353 920.318,210.539 \n",
       "  922.857,210.73 925.397,210.916 927.937,211.107 930.477,211.293 933.017,211.484 935.557,211.67 938.097,211.862 940.637,212.048 943.177,212.24 945.717,212.427 \n",
       "  948.257,212.618 950.797,212.805 953.336,212.997 955.876,213.185 958.416,213.377 960.956,213.564 963.496,213.757 966.036,213.945 968.576,214.137 971.116,214.326 \n",
       "  973.656,214.518 976.196,214.707 978.736,214.9 981.276,215.089 983.816,215.283 986.355,215.472 988.895,215.666 991.435,215.856 993.975,216.05 996.515,216.24 \n",
       "  999.055,216.434 1001.59,216.625 1004.13,216.819 1006.67,217.011 1009.21,217.206 1011.75,217.397 1014.29,217.593 1016.83,217.785 1019.37,217.981 1021.91,218.173 \n",
       "  1024.45,218.369 1026.99,218.562 1029.53,218.759 1032.07,218.953 1034.61,219.15 1037.15,219.344 1039.69,219.542 1042.23,219.736 1044.77,219.935 1047.31,220.13 \n",
       "  1049.85,220.329 1052.39,220.524 1054.93,220.724 1057.47,220.92 1060.01,221.12 1062.55,221.317 1065.09,221.517 1067.63,221.715 1070.17,221.916 1072.71,222.114 \n",
       "  1075.25,222.316 1077.79,222.515 1080.33,222.717 1082.87,222.917 1085.41,223.12 1087.95,223.32 1090.49,223.524 1093.03,223.725 1095.57,223.929 1098.11,224.131 \n",
       "  1100.65,224.336 1103.19,224.538 1105.73,224.744 1108.27,224.947 1110.81,225.154 1113.35,225.358 1115.89,225.566 1118.43,225.771 1120.97,225.979 1123.51,226.185 \n",
       "  1126.05,226.394 1128.59,226.6 1131.13,226.81 1133.67,227.018 1136.21,227.229 1138.75,227.437 1141.29,227.649 1143.83,227.858 1146.37,228.071 1148.91,228.281 \n",
       "  1151.45,228.495 1153.99,228.706 1156.53,228.921 1159.07,229.133 1161.61,229.349 1164.15,229.562 1166.69,229.779 1169.23,229.993 1171.77,230.211 1174.31,230.426 \n",
       "  1176.85,230.645 1179.39,230.862 1181.93,231.082 1184.47,231.299 1187.01,231.52 1189.55,231.739 1192.09,231.962 1194.63,232.182 1197.17,232.405 1199.71,232.627 \n",
       "  1202.25,232.851 1204.79,233.074 1207.33,233.3 1209.87,233.524 1212.41,233.751 1214.95,233.976 1217.49,234.204 1220.03,234.431 1222.57,234.661 1225.11,234.889 \n",
       "  1227.65,235.12 1230.19,235.35 1232.73,235.582 1235.27,235.813 1237.81,236.047 1240.35,236.28 1242.89,236.515 1245.43,236.749 1247.97,236.986 1250.51,237.222 \n",
       "  1253.05,237.46 1255.59,237.697 1258.13,237.938 1260.67,238.177 1263.21,238.418 1265.75,238.659 1268.29,238.902 1270.83,239.145 1273.37,239.39 1275.91,239.634 \n",
       "  1278.45,239.881 1280.99,240.127 1283.53,240.376 1286.07,240.623 1288.61,240.874 1291.15,241.124 1293.69,241.376 1296.23,241.628 1298.77,241.882 1301.31,242.136 \n",
       "  1303.85,242.393 1306.39,242.648 1308.93,242.907 1311.47,243.165 1314.01,243.425 1316.54,243.685 1319.08,243.948 1321.62,244.21 1324.16,244.476 1326.7,244.74 \n",
       "  1329.24,245.007 1331.78,245.274 1334.32,245.544 1336.86,245.813 1339.4,246.085 1341.94,246.357 1344.48,246.632 1347.02,246.906 1349.56,247.183 1352.1,247.46 \n",
       "  1354.64,247.739 1357.18,248.019 1359.72,248.301 1362.26,248.583 1364.8,248.869 1367.34,249.154 1369.88,249.442 1372.42,249.73 1374.96,250.021 1377.5,250.311 \n",
       "  1380.04,250.606 1382.58,250.899 1385.12,251.196 1387.66,251.493 1390.2,251.794 1392.74,252.094 1395.28,252.398 1397.82,252.701 1400.36,253.008 1402.9,253.315 \n",
       "  1405.44,253.625 1407.98,253.936 1410.52,254.25 1413.06,254.564 1415.6,254.882 1418.14,255.199 1420.68,255.521 1423.22,255.842 1425.76,256.168 1428.3,256.493 \n",
       "  1430.84,256.823 1433.38,257.152 1435.92,257.486 1438.46,257.82 1441,258.158 1443.54,258.496 1446.08,258.838 1448.62,259.181 1451.16,259.528 1453.7,259.875 \n",
       "  1456.24,260.227 1458.78,260.579 1461.32,260.935 1463.86,261.292 1466.4,261.654 1468.94,262.016 1471.48,262.383 1474.02,262.751 1476.56,263.123 1479.1,263.496 \n",
       "  1481.64,263.873 1484.18,264.252 1486.72,264.636 1489.26,265.02 1491.8,265.41 1494.34,265.801 1496.88,266.196 1499.42,266.593 1501.96,266.996 1504.5,267.399 \n",
       "  1507.04,267.808 1509.58,268.219 1512.12,268.634 1514.66,269.052 1517.2,269.475 1519.74,269.9 1522.28,270.331 1524.82,270.763 1527.36,271.202 1529.9,271.642 \n",
       "  1532.44,272.089 1534.98,272.538 1537.52,272.993 1540.06,273.451 1542.6,273.915 1545.14,274.381 1547.68,274.855 1550.22,275.331 1552.76,275.814 1555.3,276.3 \n",
       "  1557.84,276.793 1560.38,277.289 1562.92,277.793 1565.46,278.3 1568,278.815 1570.54,279.334 1573.08,279.861 1575.62,280.391 1578.16,280.93 1580.7,281.473 \n",
       "  1583.24,282.025 1585.78,282.581 1588.32,283.146 1590.86,283.716 1593.4,284.296 1595.94,284.88 1598.48,285.475 1601.02,286.075 1603.56,286.685 1606.1,287.302 \n",
       "  1608.64,287.929 1611.18,288.563 1613.72,289.208 1616.26,289.86 1618.8,290.525 1621.34,291.196 1623.88,291.881 1626.42,292.573 1628.96,293.279 1631.49,293.993 \n",
       "  1634.03,294.722 1636.57,295.46 1639.11,296.214 1641.65,296.977 1644.19,297.757 1646.73,298.547 1649.27,299.355 1651.81,300.175 1654.35,301.014 1656.89,301.865 \n",
       "  1659.43,302.737 1661.97,303.622 1664.51,304.53 1667.05,305.452 1669.59,306.398 1672.13,307.362 1674.67,308.35 1677.21,309.357 1679.75,310.392 1682.29,311.448 \n",
       "  1684.83,312.535 1687.37,313.644 1689.91,314.787 1692.45,315.956 1694.99,317.161 1697.53,318.397 1700.07,319.673 1702.61,320.982 1705.15,322.337 1707.69,323.731 \n",
       "  1710.23,325.176 1712.77,326.665 1715.31,328.212 1717.85,329.811 1720.39,331.477 1722.93,333.203 1725.47,335.007 1728.01,336.883 1730.55,338.851 1733.09,340.905 \n",
       "  1735.63,343.069 1738.17,345.338 1740.71,347.742 1743.25,350.278 1745.79,352.982 1748.33,355.856 1750.87,358.946 1753.41,362.262 1755.95,365.867 1758.49,369.785 \n",
       "  1761.03,374.112 1763.57,378.903 1766.11,384.313 1768.65,390.475 1771.19,397.695 1773.73,406.337 1776.27,417.198 1778.81,431.686 1781.35,453.763 1783.89,501.046 \n",
       "  \n",
       "  \"/>\n",
       "<polyline clip-path=\"url(#clip092)\" style=\"stroke:#9b7fe8; stroke-width:4; stroke-opacity:1; fill:none\" points=\"\n",
       "  262.478,115.609 265.018,102.707 267.558,107.996 270.098,113.001 272.638,115.54 275.178,118.46 277.718,120.267 280.258,122.321 282.798,123.749 285.338,125.353 \n",
       "  287.878,126.543 290.418,127.869 292.957,128.896 295.497,130.032 298.037,130.94 300.577,131.937 303.117,132.754 305.657,133.646 308.197,134.39 310.737,135.199 \n",
       "  313.277,135.885 315.817,136.627 318.357,137.264 320.897,137.951 323.436,138.547 325.976,139.187 328.516,139.748 331.056,140.348 333.596,140.879 336.136,141.445 \n",
       "  338.676,141.949 341.216,142.485 343.756,142.965 346.296,143.475 348.836,143.935 351.376,144.421 353.916,144.862 356.455,145.328 358.995,145.752 361.535,146.199 \n",
       "  364.075,146.608 366.615,147.038 369.155,147.433 371.695,147.847 374.235,148.23 376.775,148.63 379.315,149.001 381.855,149.389 384.395,149.749 386.934,150.125 \n",
       "  389.474,150.475 392.014,150.84 394.554,151.181 397.094,151.536 399.634,151.869 402.174,152.215 404.714,152.539 407.254,152.876 409.794,153.193 412.334,153.523 \n",
       "  414.874,153.833 417.414,154.154 419.953,154.458 422.493,154.772 425.033,155.07 427.573,155.378 430.113,155.669 432.653,155.971 435.193,156.257 437.733,156.553 \n",
       "  440.273,156.834 442.813,157.124 445.353,157.401 447.893,157.686 450.432,157.958 452.972,158.237 455.512,158.505 458.052,158.78 460.592,159.044 463.132,159.314 \n",
       "  465.672,159.574 468.212,159.84 470.752,160.096 473.292,160.359 475.832,160.611 478.372,160.87 480.911,161.118 483.451,161.374 485.991,161.619 488.531,161.871 \n",
       "  491.071,162.113 493.611,162.362 496.151,162.601 498.691,162.846 501.231,163.083 503.771,163.325 506.311,163.56 508.851,163.799 511.391,164.03 513.93,164.267 \n",
       "  516.47,164.496 519.01,164.73 521.55,164.957 524.09,165.188 526.63,165.412 529.17,165.641 531.71,165.864 534.25,166.09 536.79,166.31 539.33,166.535 \n",
       "  541.87,166.753 544.409,166.975 546.949,167.192 549.489,167.412 552.029,167.626 554.569,167.844 557.109,168.057 559.649,168.273 562.189,168.484 564.729,168.699 \n",
       "  567.269,168.908 569.809,169.121 572.349,169.329 574.889,169.54 577.428,169.746 579.968,169.955 582.508,170.16 585.048,170.368 587.588,170.571 590.128,170.778 \n",
       "  592.668,170.98 595.208,171.185 597.748,171.385 600.288,171.589 602.828,171.788 605.368,171.991 607.907,172.189 610.447,172.39 612.987,172.587 615.527,172.787 \n",
       "  618.067,172.982 620.607,173.181 623.147,173.376 625.687,173.573 628.227,173.767 630.767,173.963 633.307,174.156 635.847,174.351 638.386,174.543 640.926,174.737 \n",
       "  643.466,174.928 646.006,175.122 648.546,175.312 651.086,175.504 653.626,175.693 656.166,175.884 658.706,176.073 661.246,176.263 663.786,176.451 666.326,176.64 \n",
       "  668.866,176.827 671.405,177.016 673.945,177.202 676.485,177.39 679.025,177.575 681.565,177.763 684.105,177.947 686.645,178.134 689.185,178.318 691.725,178.504 \n",
       "  694.265,178.687 696.805,178.873 699.345,179.055 701.884,179.24 704.424,179.422 706.964,179.606 709.504,179.788 712.044,179.971 714.584,180.153 717.124,180.336 \n",
       "  719.664,180.516 722.204,180.699 724.744,180.879 727.284,181.061 729.824,181.24 732.364,181.422 734.903,181.601 737.443,181.782 739.983,181.961 742.523,182.142 \n",
       "  745.063,182.32 747.603,182.5 750.143,182.678 752.683,182.858 755.223,183.036 757.763,183.215 760.303,183.393 762.843,183.572 765.382,183.749 767.922,183.928 \n",
       "  770.462,184.105 773.002,184.283 775.542,184.46 778.082,184.638 780.622,184.814 783.162,184.992 785.702,185.169 788.242,185.346 790.782,185.522 793.322,185.7 \n",
       "  795.861,185.875 798.401,186.053 800.941,186.228 803.481,186.405 806.021,186.581 808.561,186.757 811.101,186.933 813.641,187.109 816.181,187.285 818.721,187.461 \n",
       "  821.261,187.636 823.801,187.813 826.341,187.988 828.88,188.164 831.42,188.339 833.96,188.515 836.5,188.69 839.04,188.866 841.58,189.041 844.12,189.218 \n",
       "  846.66,189.392 849.2,189.568 851.74,189.743 854.28,189.919 856.82,190.094 859.359,190.27 861.899,190.445 864.439,190.621 866.979,190.796 869.519,190.972 \n",
       "  872.059,191.148 874.599,191.324 877.139,191.499 879.679,191.675 882.219,191.85 884.759,192.027 887.299,192.202 889.839,192.378 892.378,192.554 894.918,192.73 \n",
       "  897.458,192.906 899.998,193.082 902.538,193.258 905.078,193.435 907.618,193.611 910.158,193.788 912.698,193.964 915.238,194.141 917.778,194.317 920.318,194.495 \n",
       "  922.857,194.671 925.397,194.849 927.937,195.025 930.477,195.203 933.017,195.38 935.557,195.558 938.097,195.735 940.637,195.914 943.177,196.091 945.717,196.27 \n",
       "  948.257,196.447 950.797,196.626 953.336,196.804 955.876,196.983 958.416,197.162 960.956,197.341 963.496,197.52 966.036,197.7 968.576,197.879 971.116,198.059 \n",
       "  973.656,198.238 976.196,198.419 978.736,198.599 981.276,198.78 983.816,198.96 986.355,199.141 988.895,199.322 991.435,199.503 993.975,199.684 996.515,199.867 \n",
       "  999.055,200.048 1001.59,200.231 1004.13,200.413 1006.67,200.596 1009.21,200.778 1011.75,200.962 1014.29,201.145 1016.83,201.329 1019.37,201.512 1021.91,201.697 \n",
       "  1024.45,201.881 1026.99,202.066 1029.53,202.25 1032.07,202.436 1034.61,202.621 1037.15,202.807 1039.69,202.993 1042.23,203.179 1044.77,203.366 1047.31,203.553 \n",
       "  1049.85,203.74 1052.39,203.928 1054.93,204.115 1057.47,204.304 1060.01,204.492 1062.55,204.681 1065.09,204.87 1067.63,205.06 1070.17,205.25 1072.71,205.44 \n",
       "  1075.25,205.631 1077.79,205.822 1080.33,206.013 1082.87,206.205 1085.41,206.397 1087.95,206.59 1090.49,206.782 1093.03,206.976 1095.57,207.169 1098.11,207.363 \n",
       "  1100.65,207.558 1103.19,207.753 1105.73,207.948 1108.27,208.144 1110.81,208.34 1113.35,208.536 1115.89,208.733 1118.43,208.931 1120.97,209.128 1123.51,209.327 \n",
       "  1126.05,209.526 1128.59,209.725 1131.13,209.924 1133.67,210.125 1136.21,210.325 1138.75,210.527 1141.29,210.728 1143.83,210.931 1146.37,211.133 1148.91,211.337 \n",
       "  1151.45,211.54 1153.99,211.744 1156.53,211.949 1159.07,212.154 1161.61,212.36 1164.15,212.567 1166.69,212.773 1169.23,212.981 1171.77,213.189 1174.31,213.398 \n",
       "  1176.85,213.607 1179.39,213.817 1181.93,214.027 1184.47,214.238 1187.01,214.45 1189.55,214.662 1192.09,214.875 1194.63,215.089 1197.17,215.303 1199.71,215.518 \n",
       "  1202.25,215.733 1204.79,215.949 1207.33,216.166 1209.87,216.383 1212.41,216.601 1214.95,216.82 1217.49,217.04 1220.03,217.26 1222.57,217.481 1225.11,217.703 \n",
       "  1227.65,217.925 1230.19,218.148 1232.73,218.372 1235.27,218.597 1237.81,218.822 1240.35,219.049 1242.89,219.276 1245.43,219.504 1247.97,219.732 1250.51,219.962 \n",
       "  1253.05,220.192 1255.59,220.423 1258.13,220.655 1260.67,220.888 1263.21,221.121 1265.75,221.356 1268.29,221.591 1270.83,221.828 1273.37,222.065 1275.91,222.303 \n",
       "  1278.45,222.542 1280.99,222.783 1283.53,223.023 1286.07,223.265 1288.61,223.508 1291.15,223.752 1293.69,223.997 1296.23,224.243 1298.77,224.49 1301.31,224.738 \n",
       "  1303.85,224.987 1306.39,225.237 1308.93,225.488 1311.47,225.741 1314.01,225.994 1316.54,226.249 1319.08,226.504 1321.62,226.761 1324.16,227.019 1326.7,227.278 \n",
       "  1329.24,227.538 1331.78,227.8 1334.32,228.063 1336.86,228.327 1339.4,228.592 1341.94,228.859 1344.48,229.126 1347.02,229.395 1349.56,229.666 1352.1,229.938 \n",
       "  1354.64,230.21 1357.18,230.485 1359.72,230.761 1362.26,231.038 1364.8,231.317 1367.34,231.597 1369.88,231.878 1372.42,232.162 1374.96,232.446 1377.5,232.732 \n",
       "  1380.04,233.02 1382.58,233.309 1385.12,233.6 1387.66,233.893 1390.2,234.186 1392.74,234.482 1395.28,234.78 1397.82,235.079 1400.36,235.379 1402.9,235.682 \n",
       "  1405.44,235.986 1407.98,236.293 1410.52,236.601 1413.06,236.911 1415.6,237.222 1418.14,237.536 1420.68,237.852 1423.22,238.169 1425.76,238.489 1428.3,238.811 \n",
       "  1430.84,239.134 1433.38,239.46 1435.92,239.788 1438.46,240.118 1441,240.45 1443.54,240.785 1446.08,241.121 1448.62,241.46 1451.16,241.802 1453.7,242.146 \n",
       "  1456.24,242.492 1458.78,242.84 1461.32,243.191 1463.86,243.545 1466.4,243.901 1468.94,244.26 1471.48,244.622 1474.02,244.986 1476.56,245.353 1479.1,245.723 \n",
       "  1481.64,246.095 1484.18,246.471 1486.72,246.849 1489.26,247.231 1491.8,247.615 1494.34,248.003 1496.88,248.394 1499.42,248.788 1501.96,249.185 1504.5,249.586 \n",
       "  1507.04,249.99 1509.58,250.398 1512.12,250.809 1514.66,251.224 1517.2,251.642 1519.74,252.065 1522.28,252.491 1524.82,252.921 1527.36,253.355 1529.9,253.793 \n",
       "  1532.44,254.235 1534.98,254.682 1537.52,255.132 1540.06,255.588 1542.6,256.047 1545.14,256.512 1547.68,256.981 1550.22,257.455 1552.76,257.933 1555.3,258.418 \n",
       "  1557.84,258.906 1560.38,259.401 1562.92,259.9 1565.46,260.406 1568,260.916 1570.54,261.433 1573.08,261.956 1575.62,262.485 1578.16,263.019 1580.7,263.561 \n",
       "  1583.24,264.108 1585.78,264.663 1588.32,265.224 1590.86,265.793 1593.4,266.369 1595.94,266.952 1598.48,267.543 1601.02,268.142 1603.56,268.748 1606.1,269.364 \n",
       "  1608.64,269.987 1611.18,270.62 1613.72,271.261 1616.26,271.913 1618.8,272.573 1621.34,273.244 1623.88,273.925 1626.42,274.616 1628.96,275.319 1631.49,276.033 \n",
       "  1634.03,276.758 1636.57,277.495 1639.11,278.245 1641.65,279.008 1644.19,279.784 1646.73,280.575 1649.27,281.379 1651.81,282.199 1654.35,283.034 1656.89,283.885 \n",
       "  1659.43,284.753 1661.97,285.639 1664.51,286.543 1667.05,287.466 1669.59,288.408 1672.13,289.372 1674.67,290.357 1677.21,291.365 1679.75,292.396 1682.29,293.453 \n",
       "  1684.83,294.535 1687.37,295.646 1689.91,296.785 1692.45,297.955 1694.99,299.157 1697.53,300.394 1700.07,301.666 1702.61,302.977 1705.15,304.328 1707.69,305.724 \n",
       "  1710.23,307.164 1712.77,308.655 1715.31,310.198 1717.85,311.8 1720.39,313.461 1722.93,315.19 1725.47,316.99 1728.01,318.869 1730.55,320.831 1733.09,322.889 \n",
       "  1735.63,325.048 1738.17,327.322 1740.71,329.719 1743.25,332.261 1745.79,334.958 1748.33,337.838 1750.87,340.92 1753.41,344.243 1755.95,347.84 1758.49,351.767 \n",
       "  1761.03,356.083 1763.57,360.884 1766.11,366.282 1768.65,372.458 1771.19,379.661 1773.73,388.322 1776.27,399.158 1778.81,413.678 1781.35,435.698 1783.89,483.047 \n",
       "  \n",
       "  \"/>\n",
       "<polyline clip-path=\"url(#clip092)\" style=\"stroke:#608cf6; stroke-width:4; stroke-opacity:1; fill:none\" points=\"\n",
       "  262.478,96.5064 265.018,93.9002 267.558,104.949 270.098,107.509 272.638,112.927 275.178,114.396 277.718,118.08 280.258,119.116 282.798,121.924 285.338,122.737 \n",
       "  287.878,125.015 290.418,125.691 292.957,127.611 295.497,128.194 298.037,129.857 300.577,130.372 303.117,131.842 305.657,132.305 308.197,133.624 310.737,134.046 \n",
       "  313.277,135.243 315.817,135.632 318.357,136.73 320.897,137.092 323.436,138.106 325.976,138.445 328.516,139.388 331.056,139.708 333.596,140.59 336.136,140.892 \n",
       "  338.676,141.722 341.216,142.01 343.756,142.792 346.296,143.067 348.836,143.809 351.376,144.073 353.916,144.778 356.455,145.031 358.995,145.703 361.535,145.947 \n",
       "  364.075,146.59 366.615,146.826 369.155,147.442 371.695,147.67 374.235,148.261 376.775,148.483 379.315,149.051 381.855,149.266 384.395,149.815 386.934,150.024 \n",
       "  389.474,150.554 392.014,150.757 394.554,151.27 397.094,151.468 399.634,151.964 402.174,152.158 404.714,152.639 407.254,152.829 409.794,153.296 412.334,153.482 \n",
       "  414.874,153.936 417.414,154.118 419.953,154.559 422.493,154.738 425.033,155.168 427.573,155.343 430.113,155.762 432.653,155.934 435.193,156.343 437.733,156.512 \n",
       "  440.273,156.912 442.813,157.078 445.353,157.468 447.893,157.632 450.432,158.014 452.972,158.175 455.512,158.549 458.052,158.708 460.592,159.073 463.132,159.23 \n",
       "  465.672,159.589 468.212,159.743 470.752,160.095 473.292,160.247 475.832,160.592 478.372,160.743 480.911,161.081 483.451,161.23 485.991,161.562 488.531,161.71 \n",
       "  491.071,162.036 493.611,162.182 496.151,162.502 498.691,162.647 501.231,162.962 503.771,163.105 506.311,163.415 508.851,163.556 511.391,163.862 513.93,164.001 \n",
       "  516.47,164.302 519.01,164.441 521.55,164.737 524.09,164.874 526.63,165.166 529.17,165.302 531.71,165.59 534.25,165.725 536.79,166.008 539.33,166.142 \n",
       "  541.87,166.422 544.409,166.555 546.949,166.831 549.489,166.962 552.029,167.235 554.569,167.365 557.109,167.635 559.649,167.764 562.189,168.03 564.729,168.159 \n",
       "  567.269,168.421 569.809,168.549 572.349,168.808 574.889,168.935 577.428,169.192 579.968,169.318 582.508,169.571 585.048,169.697 587.588,169.947 590.128,170.072 \n",
       "  592.668,170.32 595.208,170.444 597.748,170.689 600.288,170.812 602.828,171.055 605.368,171.177 607.907,171.418 610.447,171.539 612.987,171.777 615.527,171.898 \n",
       "  618.067,172.134 620.607,172.254 623.147,172.488 625.687,172.607 628.227,172.839 630.767,172.958 633.307,173.187 635.847,173.306 638.386,173.532 640.926,173.651 \n",
       "  643.466,173.876 646.006,173.993 648.546,174.216 651.086,174.333 653.626,174.554 656.166,174.671 658.706,174.89 661.246,175.006 663.786,175.224 666.326,175.34 \n",
       "  668.866,175.555 671.405,175.671 673.945,175.885 676.485,175.999 679.025,176.212 681.565,176.326 684.105,176.537 686.645,176.651 689.185,176.86 691.725,176.974 \n",
       "  694.265,177.181 696.805,177.295 699.345,177.501 701.884,177.614 704.424,177.819 706.964,177.931 709.504,178.135 712.044,178.247 714.584,178.449 717.124,178.561 \n",
       "  719.664,178.761 722.204,178.873 724.744,179.072 727.284,179.184 729.824,179.382 732.364,179.493 734.903,179.69 737.443,179.801 739.983,179.996 742.523,180.107 \n",
       "  745.063,180.301 747.603,180.411 750.143,180.605 752.683,180.715 755.223,180.907 757.763,181.017 760.303,181.208 762.843,181.318 765.382,181.508 767.922,181.617 \n",
       "  770.462,181.806 773.002,181.915 775.542,182.103 778.082,182.212 780.622,182.399 783.162,182.508 785.702,182.694 788.242,182.803 790.782,182.988 793.322,183.096 \n",
       "  795.861,183.281 798.401,183.389 800.941,183.572 803.481,183.68 806.021,183.863 808.561,183.971 811.101,184.152 813.641,184.26 816.181,184.441 818.721,184.549 \n",
       "  821.261,184.729 823.801,184.836 826.341,185.016 828.88,185.123 831.42,185.301 833.96,185.409 836.5,185.586 839.04,185.694 841.58,185.871 844.12,185.978 \n",
       "  846.66,186.154 849.2,186.261 851.74,186.437 854.28,186.544 856.82,186.719 859.359,186.826 861.899,187 864.439,187.107 866.979,187.28 869.519,187.387 \n",
       "  872.059,187.56 874.599,187.667 877.139,187.839 879.679,187.946 882.219,188.118 884.759,188.224 887.299,188.395 889.839,188.502 892.378,188.673 894.918,188.779 \n",
       "  897.458,188.949 899.998,189.056 902.538,189.226 905.078,189.332 907.618,189.501 910.158,189.607 912.698,189.776 915.238,189.882 917.778,190.051 920.318,190.157 \n",
       "  922.857,190.325 925.397,190.431 927.937,190.598 930.477,190.705 933.017,190.872 935.557,190.978 938.097,191.144 940.637,191.251 943.177,191.417 945.717,191.523 \n",
       "  948.257,191.689 950.797,191.795 953.336,191.96 955.876,192.067 958.416,192.231 960.956,192.338 963.496,192.502 966.036,192.609 968.576,192.773 971.116,192.879 \n",
       "  973.656,193.043 976.196,193.15 978.736,193.313 981.276,193.42 983.816,193.583 986.355,193.69 988.895,193.852 991.435,193.959 993.975,194.122 996.515,194.229 \n",
       "  999.055,194.391 1001.59,194.498 1004.13,194.66 1006.67,194.767 1009.21,194.928 1011.75,195.035 1014.29,195.197 1016.83,195.304 1019.37,195.465 1021.91,195.572 \n",
       "  1024.45,195.733 1026.99,195.84 1029.53,196.001 1032.07,196.109 1034.61,196.269 1037.15,196.377 1039.69,196.537 1042.23,196.645 1044.77,196.805 1047.31,196.912 \n",
       "  1049.85,197.072 1052.39,197.18 1054.93,197.34 1057.47,197.448 1060.01,197.608 1062.55,197.716 1065.09,197.875 1067.63,197.983 1070.17,198.143 1072.71,198.251 \n",
       "  1075.25,198.41 1077.79,198.519 1080.33,198.678 1082.87,198.787 1085.41,198.945 1087.95,199.054 1090.49,199.213 1093.03,199.322 1095.57,199.481 1098.11,199.59 \n",
       "  1100.65,199.749 1103.19,199.858 1105.73,200.016 1108.27,200.126 1110.81,200.284 1113.35,200.394 1115.89,200.553 1118.43,200.662 1120.97,200.821 1123.51,200.931 \n",
       "  1126.05,201.089 1128.59,201.199 1131.13,201.358 1133.67,201.468 1136.21,201.626 1138.75,201.737 1141.29,201.895 1143.83,202.006 1146.37,202.164 1148.91,202.275 \n",
       "  1151.45,202.434 1153.99,202.545 1156.53,202.703 1159.07,202.815 1161.61,202.973 1164.15,203.085 1166.69,203.243 1169.23,203.355 1171.77,203.513 1174.31,203.625 \n",
       "  1176.85,203.784 1179.39,203.896 1181.93,204.055 1184.47,204.167 1187.01,204.326 1189.55,204.439 1192.09,204.597 1194.63,204.71 1197.17,204.869 1199.71,204.983 \n",
       "  1202.25,205.141 1204.79,205.255 1207.33,205.414 1209.87,205.528 1212.41,205.687 1214.95,205.801 1217.49,205.96 1220.03,206.075 1222.57,206.233 1225.11,206.348 \n",
       "  1227.65,206.508 1230.19,206.623 1232.73,206.782 1235.27,206.898 1237.81,207.057 1240.35,207.173 1242.89,207.333 1245.43,207.449 1247.97,207.608 1250.51,207.725 \n",
       "  1253.05,207.885 1255.59,208.002 1258.13,208.162 1260.67,208.279 1263.21,208.439 1265.75,208.557 1268.29,208.717 1270.83,208.835 1273.37,208.996 1275.91,209.114 \n",
       "  1278.45,209.275 1280.99,209.393 1283.53,209.554 1286.07,209.673 1288.61,209.835 1291.15,209.954 1293.69,210.115 1296.23,210.235 1298.77,210.397 1301.31,210.517 \n",
       "  1303.85,210.679 1306.39,210.799 1308.93,210.962 1311.47,211.082 1314.01,211.245 1316.54,211.366 1319.08,211.529 1321.62,211.651 1324.16,211.814 1326.7,211.936 \n",
       "  1329.24,212.099 1331.78,212.222 1334.32,212.386 1336.86,212.508 1339.4,212.673 1341.94,212.796 1344.48,212.96 1347.02,213.084 1349.56,213.249 1352.1,213.373 \n",
       "  1354.64,213.538 1357.18,213.663 1359.72,213.828 1362.26,213.953 1364.8,214.119 1367.34,214.245 1369.88,214.411 1372.42,214.537 1374.96,214.704 1377.5,214.83 \n",
       "  1380.04,214.997 1382.58,215.124 1385.12,215.292 1387.66,215.419 1390.2,215.587 1392.74,215.715 1395.28,215.883 1397.82,216.012 1400.36,216.18 1402.9,216.309 \n",
       "  1405.44,216.479 1407.98,216.608 1410.52,216.778 1413.06,216.908 1415.6,217.078 1418.14,217.209 1420.68,217.379 1423.22,217.51 1425.76,217.682 1428.3,217.813 \n",
       "  1430.84,217.985 1433.38,218.117 1435.92,218.289 1438.46,218.422 1441,218.595 1443.54,218.728 1446.08,218.902 1448.62,219.036 1451.16,219.21 1453.7,219.344 \n",
       "  1456.24,219.519 1458.78,219.654 1461.32,219.829 1463.86,219.965 1466.4,220.14 1468.94,220.277 1471.48,220.453 1474.02,220.59 1476.56,220.767 1479.1,220.904 \n",
       "  1481.64,221.082 1484.18,221.22 1486.72,221.398 1489.26,221.537 1491.8,221.716 1494.34,221.856 1496.88,222.036 1499.42,222.176 1501.96,222.356 1504.5,222.497 \n",
       "  1507.04,222.678 1509.58,222.82 1512.12,223.001 1514.66,223.144 1517.2,223.326 1519.74,223.47 1522.28,223.653 1524.82,223.797 1527.36,223.981 1529.9,224.125 \n",
       "  1532.44,224.31 1534.98,224.455 1537.52,224.641 1540.06,224.787 1542.6,224.973 1545.14,225.12 1547.68,225.307 1550.22,225.455 1552.76,225.643 1555.3,225.792 \n",
       "  1557.84,225.981 1560.38,226.13 1562.92,226.32 1565.46,226.47 1568,226.661 1570.54,226.812 1573.08,227.004 1575.62,227.156 1578.16,227.348 1580.7,227.501 \n",
       "  1583.24,227.694 1585.78,227.848 1588.32,228.042 1590.86,228.197 1593.4,228.393 1595.94,228.548 1598.48,228.745 1601.02,228.901 1603.56,229.099 1606.1,229.256 \n",
       "  1608.64,229.455 1611.18,229.613 1613.72,229.813 1616.26,229.972 1618.8,230.173 1621.34,230.333 1623.88,230.535 1626.42,230.697 1628.96,230.899 1631.49,231.062 \n",
       "  1634.03,231.266 1636.57,231.43 1639.11,231.635 1641.65,231.8 1644.19,232.006 1646.73,232.172 1649.27,232.379 1651.81,232.546 1654.35,232.755 1656.89,232.923 \n",
       "  1659.43,233.133 1661.97,233.303 1664.51,233.514 1667.05,233.684 1669.59,233.897 1672.13,234.069 1674.67,234.282 1677.21,234.456 1679.75,234.671 1682.29,234.845 \n",
       "  1684.83,235.062 1687.37,235.237 1689.91,235.455 1692.45,235.632 1694.99,235.851 1697.53,236.03 1700.07,236.251 1702.61,236.43 1705.15,236.653 1707.69,236.834 \n",
       "  1710.23,237.057 1712.77,237.24 1715.31,237.465 1717.85,237.649 1720.39,237.876 1722.93,238.062 1725.47,238.29 1728.01,238.477 1730.55,238.707 1733.09,238.896 \n",
       "  1735.63,239.128 1738.17,239.318 1740.71,239.551 1743.25,239.743 1745.79,239.978 1748.33,240.172 1750.87,240.409 1753.41,240.604 1755.95,240.843 1758.49,241.039 \n",
       "  1761.03,241.28 1763.57,241.478 1766.11,241.721 1768.65,241.921 1771.19,242.166 1773.73,242.368 1776.27,242.615 1778.81,242.818 1781.35,243.067 1783.89,243.272 \n",
       "  1786.43,243.524 1788.97,243.731 1791.51,243.984 1794.05,244.193 1796.59,244.449 1799.13,244.66 1801.67,244.918 1804.21,245.131 1806.75,245.391 1809.29,245.606 \n",
       "  1811.83,245.868 1814.37,246.086 1816.91,246.35 1819.45,246.57 1821.99,246.837 1824.53,247.059 1827.07,247.329 1829.61,247.553 1832.15,247.825 1834.69,248.051 \n",
       "  1837.23,248.326 1839.77,248.555 1842.31,248.833 1844.85,249.064 1847.39,249.344 1849.93,249.578 1852.47,249.861 1855.01,250.097 1857.55,250.383 1860.09,250.622 \n",
       "  1862.63,250.911 1865.17,251.152 1867.71,251.445 1870.25,251.689 1872.79,251.985 1875.33,252.231 1877.87,252.53 1880.41,252.78 1882.95,253.082 1885.49,253.334 \n",
       "  1888.03,253.64 1890.57,253.895 1893.11,254.205 1895.65,254.463 1898.19,254.776 1900.73,255.037 1903.27,255.354 1905.81,255.619 1908.35,255.939 1910.89,256.207 \n",
       "  1913.43,256.532 1915.97,256.803 1918.51,257.132 1921.05,257.407 1923.59,257.739 1926.13,258.018 1928.67,258.355 1931.21,258.637 1933.75,258.978 1936.29,259.265 \n",
       "  1938.83,259.61 1941.37,259.901 1943.91,260.251 1946.44,260.545 1948.98,260.9 1951.52,261.199 1954.06,261.559 1956.6,261.862 1959.14,262.227 1961.68,262.534 \n",
       "  1964.22,262.904 1966.76,263.216 1969.3,263.592 1971.84,263.909 1974.38,264.29 1976.92,264.612 1979.46,264.999 1982,265.326 1984.54,265.719 1987.08,266.051 \n",
       "  1989.62,266.45 1992.16,266.788 1994.7,267.193 1997.24,267.536 1999.78,267.949 2002.32,268.298 2004.86,268.717 2007.4,269.072 2009.94,269.498 2012.48,269.859 \n",
       "  2015.02,270.293 2017.56,270.66 2020.1,271.102 2022.64,271.476 2025.18,271.926 2027.72,272.307 2030.26,272.765 2032.8,273.153 2035.34,273.619 2037.88,274.015 \n",
       "  2040.42,274.491 2042.96,274.894 2045.5,275.379 2048.04,275.791 2050.58,276.286 2053.12,276.706 2055.66,277.211 2058.2,277.64 2060.74,278.155 2063.28,278.594 \n",
       "  2065.82,279.12 2068.36,279.569 2070.9,280.107 2073.44,280.565 2075.98,281.115 2078.52,281.584 2081.06,282.147 2083.6,282.627 2086.14,283.204 2088.68,283.696 \n",
       "  2091.22,284.286 2093.76,284.79 2096.3,285.395 2098.84,285.913 2101.38,286.533 2103.92,287.064 2106.46,287.701 2109,288.246 2111.54,288.901 2114.08,289.461 \n",
       "  2116.62,290.134 2119.16,290.711 2121.7,291.403 2124.24,291.996 2126.78,292.709 2129.32,293.321 2131.86,294.056 2134.4,294.687 2136.94,295.445 2139.48,296.096 \n",
       "  2142.02,296.879 2144.56,297.553 2147.1,298.363 2149.64,299.059 2152.18,299.898 2154.72,300.62 2157.26,301.489 2159.8,302.238 2162.34,303.14 2164.88,303.918 \n",
       "  2167.42,304.856 2169.96,305.666 2172.5,306.643 2175.04,307.487 2177.58,308.506 2180.12,309.387 2182.66,310.452 2185.2,311.375 2187.74,312.49 2190.28,313.457 \n",
       "  2192.82,314.628 2195.36,315.644 2197.9,316.876 2200.44,317.947 2202.98,319.248 2205.52,320.38 2208.06,321.756 2210.6,322.957 2213.14,324.419 2215.68,325.697 \n",
       "  2218.22,327.256 2220.76,328.622 2223.3,330.292 2225.84,331.76 2228.38,333.558 2230.92,335.142 2233.46,337.09 2236,338.812 2238.54,340.937 2241.08,342.823 \n",
       "  2243.62,345.16 2246.16,347.244 2248.7,349.84 2251.24,352.17 2253.78,355.091 2256.32,357.731 2258.86,361.069 2261.4,364.116 2263.93,368.01 2266.47,371.611 \n",
       "  2269.01,376.286 2271.55,380.688 2274.09,386.534 2276.63,392.197 2279.17,400 2281.71,407.939 2284.25,419.684 2286.79,432.982 2289.33,456.919 2291.87,499.651 \n",
       "  \n",
       "  \"/>\n",
       "<polyline clip-path=\"url(#clip092)\" style=\"stroke:#f05f73; stroke-width:4; stroke-opacity:1; fill:none\" points=\"\n",
       "  262.478,107.952 265.018,116.946 267.558,135.346 270.098,134.618 272.638,144.376 275.178,143.812 277.718,150.411 280.258,149.994 282.798,154.979 285.338,154.652 \n",
       "  287.878,158.66 290.418,158.395 292.957,161.748 295.497,161.527 298.037,164.41 300.577,164.223 303.117,166.753 305.657,166.593 308.197,168.848 310.737,168.709 \n",
       "  313.277,170.743 315.817,170.623 318.357,172.475 320.897,172.371 323.436,174.072 325.976,173.98 328.516,175.554 331.056,175.474 333.596,176.937 336.136,176.867 \n",
       "  338.676,178.236 341.216,178.174 343.756,179.459 346.296,179.405 348.836,180.617 351.376,180.57 353.916,181.717 356.455,181.676 358.995,182.764 361.535,182.729 \n",
       "  364.075,183.765 366.615,183.734 369.155,184.723 371.695,184.697 374.235,185.642 376.775,185.62 379.315,186.526 381.855,186.508 384.395,187.378 386.934,187.364 \n",
       "  389.474,188.2 392.014,188.189 394.554,188.995 397.094,188.987 399.634,189.765 402.174,189.76 404.714,190.511 407.254,190.508 409.794,191.236 412.334,191.235 \n",
       "  414.874,191.94 417.414,191.942 419.953,192.625 422.493,192.629 425.033,193.292 427.573,193.298 430.113,193.942 432.653,193.95 435.193,194.577 437.733,194.587 \n",
       "  440.273,195.197 442.813,195.208 445.353,195.803 447.893,195.816 450.432,196.396 452.972,196.41 455.512,196.976 458.052,196.992 460.592,197.545 463.132,197.562 \n",
       "  465.672,198.102 468.212,198.12 470.752,198.648 473.292,198.668 475.832,199.185 478.372,199.206 480.911,199.712 483.451,199.734 485.991,200.229 488.531,200.252 \n",
       "  491.071,200.738 493.611,200.762 496.151,201.238 498.691,201.264 501.231,201.731 503.771,201.757 506.311,202.216 508.851,202.243 511.391,202.693 513.93,202.721 \n",
       "  516.47,203.163 519.01,203.192 521.55,203.627 524.09,203.656 526.63,204.084 529.17,204.114 531.71,204.535 534.25,204.566 536.79,204.98 539.33,205.012 \n",
       "  541.87,205.419 544.409,205.451 546.949,205.853 549.489,205.886 552.029,206.281 554.569,206.315 557.109,206.704 559.649,206.738 562.189,207.122 564.729,207.157 \n",
       "  567.269,207.536 569.809,207.571 572.349,207.945 574.889,207.981 577.428,208.349 579.968,208.386 582.508,208.749 585.048,208.786 587.588,209.145 590.128,209.183 \n",
       "  592.668,209.537 595.208,209.575 597.748,209.925 600.288,209.964 602.828,210.309 605.368,210.349 607.907,210.69 610.447,210.73 612.987,211.067 615.527,211.108 \n",
       "  618.067,211.441 620.607,211.482 623.147,211.812 625.687,211.853 628.227,212.179 630.767,212.221 633.307,212.543 635.847,212.585 638.386,212.904 640.926,212.947 \n",
       "  643.466,213.263 646.006,213.306 648.546,213.618 651.086,213.661 653.626,213.971 656.166,214.015 658.706,214.321 661.246,214.365 663.786,214.668 666.326,214.713 \n",
       "  668.866,215.013 671.405,215.058 673.945,215.356 676.485,215.401 679.025,215.696 681.565,215.742 684.105,216.034 686.645,216.08 689.185,216.37 691.725,216.416 \n",
       "  694.265,216.703 696.805,216.75 699.345,217.035 701.884,217.082 704.424,217.364 706.964,217.412 709.504,217.692 712.044,217.739 714.584,218.017 717.124,218.065 \n",
       "  719.664,218.341 722.204,218.389 724.744,218.663 727.284,218.711 729.824,218.983 732.364,219.032 734.903,219.301 737.443,219.35 739.983,219.617 742.523,219.667 \n",
       "  745.063,219.932 747.603,219.982 750.143,220.246 752.683,220.296 755.223,220.558 757.763,220.608 760.303,220.868 762.843,220.919 765.382,221.177 767.922,221.228 \n",
       "  770.462,221.484 773.002,221.536 775.542,221.79 778.082,221.842 780.622,222.095 783.162,222.147 785.702,222.398 788.242,222.451 790.782,222.701 793.322,222.753 \n",
       "  795.861,223.001 798.401,223.055 800.941,223.301 803.481,223.355 806.021,223.6 808.561,223.653 811.101,223.897 813.641,223.951 816.181,224.193 818.721,224.248 \n",
       "  821.261,224.489 823.801,224.543 826.341,224.783 828.88,224.838 831.42,225.076 833.96,225.131 836.5,225.368 839.04,225.424 841.58,225.66 844.12,225.715 \n",
       "  846.66,225.95 849.2,226.006 851.74,226.239 854.28,226.295 856.82,226.528 859.359,226.584 861.899,226.816 864.439,226.872 866.979,227.102 869.519,227.159 \n",
       "  872.059,227.389 874.599,227.446 877.139,227.674 879.679,227.731 882.219,227.958 884.759,228.016 887.299,228.242 889.839,228.3 892.378,228.525 894.918,228.584 \n",
       "  897.458,228.808 899.998,228.867 902.538,229.09 905.078,229.149 907.618,229.371 910.158,229.43 912.698,229.652 915.238,229.711 917.778,229.932 920.318,229.991 \n",
       "  922.857,230.211 925.397,230.271 927.937,230.49 930.477,230.55 933.017,230.768 935.557,230.829 938.097,231.046 940.637,231.107 943.177,231.324 945.717,231.385 \n",
       "  948.257,231.6 950.797,231.662 953.336,231.877 955.876,231.939 958.416,232.153 960.956,232.215 963.496,232.429 966.036,232.491 968.576,232.704 971.116,232.766 \n",
       "  973.656,232.979 976.196,233.041 978.736,233.253 981.276,233.316 983.816,233.527 986.355,233.591 988.895,233.801 991.435,233.865 993.975,234.075 996.515,234.139 \n",
       "  999.055,234.348 1001.59,234.412 1004.13,234.621 1006.67,234.685 1009.21,234.894 1011.75,234.959 1014.29,235.166 1016.83,235.231 1019.37,235.439 1021.91,235.504 \n",
       "  1024.45,235.711 1026.99,235.776 1029.53,235.983 1032.07,236.048 1034.61,236.254 1037.15,236.321 1039.69,236.526 1042.23,236.592 1044.77,236.797 1047.31,236.864 \n",
       "  1049.85,237.069 1052.39,237.136 1054.93,237.34 1057.47,237.407 1060.01,237.611 1062.55,237.679 1065.09,237.882 1067.63,237.95 1070.17,238.153 1072.71,238.221 \n",
       "  1075.25,238.424 1077.79,238.493 1080.33,238.695 1082.87,238.764 1085.41,238.966 1087.95,239.035 1090.49,239.237 1093.03,239.306 1095.57,239.508 1098.11,239.578 \n",
       "  1100.65,239.779 1103.19,239.849 1105.73,240.05 1108.27,240.12 1110.81,240.321 1113.35,240.392 1115.89,240.592 1118.43,240.663 1120.97,240.863 1123.51,240.935 \n",
       "  1126.05,241.135 1128.59,241.206 1131.13,241.406 1133.67,241.478 1136.21,241.678 1138.75,241.75 1141.29,241.949 1143.83,242.022 1146.37,242.221 1148.91,242.294 \n",
       "  1151.45,242.493 1153.99,242.566 1156.53,242.765 1159.07,242.839 1161.61,243.038 1164.15,243.112 1166.69,243.31 1169.23,243.385 1171.77,243.583 1174.31,243.658 \n",
       "  1176.85,243.856 1179.39,243.931 1181.93,244.13 1184.47,244.205 1187.01,244.403 1189.55,244.479 1192.09,244.677 1194.63,244.753 1197.17,244.952 1199.71,245.028 \n",
       "  1202.25,245.226 1204.79,245.303 1207.33,245.501 1209.87,245.578 1212.41,245.776 1214.95,245.854 1217.49,246.052 1220.03,246.13 1222.57,246.328 1225.11,246.406 \n",
       "  1227.65,246.604 1230.19,246.683 1232.73,246.881 1235.27,246.96 1237.81,247.158 1240.35,247.237 1242.89,247.436 1245.43,247.515 1247.97,247.714 1250.51,247.794 \n",
       "  1253.05,247.992 1255.59,248.073 1258.13,248.271 1260.67,248.352 1263.21,248.551 1265.75,248.632 1268.29,248.831 1270.83,248.912 1273.37,249.111 1275.91,249.193 \n",
       "  1278.45,249.392 1280.99,249.475 1283.53,249.674 1286.07,249.757 1288.61,249.956 1291.15,250.039 1293.69,250.239 1296.23,250.322 1298.77,250.522 1301.31,250.606 \n",
       "  1303.85,250.806 1306.39,250.89 1308.93,251.09 1311.47,251.175 1314.01,251.376 1316.54,251.461 1319.08,251.661 1321.62,251.747 1324.16,251.948 1326.7,252.034 \n",
       "  1329.24,252.235 1331.78,252.322 1334.32,252.523 1336.86,252.61 1339.4,252.812 1341.94,252.899 1344.48,253.101 1347.02,253.189 1349.56,253.391 1352.1,253.48 \n",
       "  1354.64,253.682 1357.18,253.771 1359.72,253.974 1362.26,254.064 1364.8,254.267 1367.34,254.357 1369.88,254.56 1372.42,254.65 1374.96,254.854 1377.5,254.945 \n",
       "  1380.04,255.149 1382.58,255.241 1385.12,255.445 1387.66,255.537 1390.2,255.742 1392.74,255.835 1395.28,256.04 1397.82,256.133 1400.36,256.338 1402.9,256.432 \n",
       "  1405.44,256.638 1407.98,256.732 1410.52,256.939 1413.06,257.033 1415.6,257.24 1418.14,257.335 1420.68,257.543 1423.22,257.639 1425.76,257.847 1428.3,257.943 \n",
       "  1430.84,258.151 1433.38,258.248 1435.92,258.457 1438.46,258.555 1441,258.764 1443.54,258.862 1446.08,259.072 1448.62,259.171 1451.16,259.381 1453.7,259.48 \n",
       "  1456.24,259.691 1458.78,259.791 1461.32,260.003 1463.86,260.103 1466.4,260.316 1468.94,260.416 1471.48,260.63 1474.02,260.731 1476.56,260.945 1479.1,261.047 \n",
       "  1481.64,261.261 1484.18,261.364 1486.72,261.579 1489.26,261.682 1491.8,261.898 1494.34,262.002 1496.88,262.218 1499.42,262.323 1501.96,262.54 1504.5,262.645 \n",
       "  1507.04,262.863 1509.58,262.969 1512.12,263.188 1514.66,263.294 1517.2,263.513 1519.74,263.621 1522.28,263.841 1524.82,263.949 1527.36,264.17 1529.9,264.279 \n",
       "  1532.44,264.5 1534.98,264.61 1537.52,264.832 1540.06,264.942 1542.6,265.166 1545.14,265.277 1547.68,265.501 1550.22,265.613 1552.76,265.838 1555.3,265.95 \n",
       "  1557.84,266.176 1560.38,266.289 1562.92,266.517 1565.46,266.63 1568,266.858 1570.54,266.973 1573.08,267.202 1575.62,267.318 1578.16,267.548 1580.7,267.664 \n",
       "  1583.24,267.895 1585.78,268.012 1588.32,268.244 1590.86,268.362 1593.4,268.595 1595.94,268.714 1598.48,268.948 1601.02,269.068 1603.56,269.303 1606.1,269.423 \n",
       "  1608.64,269.66 1611.18,269.781 1613.72,270.019 1616.26,270.141 1618.8,270.38 1621.34,270.503 1623.88,270.743 1626.42,270.867 1628.96,271.108 1631.49,271.233 \n",
       "  1634.03,271.475 1636.57,271.601 1639.11,271.845 1641.65,271.972 1644.19,272.217 1646.73,272.345 1649.27,272.591 1651.81,272.72 1654.35,272.968 1656.89,273.098 \n",
       "  1659.43,273.347 1661.97,273.478 1664.51,273.728 1667.05,273.86 1669.59,274.112 1672.13,274.245 1674.67,274.499 1677.21,274.633 1679.75,274.888 1682.29,275.023 \n",
       "  1684.83,275.279 1687.37,275.416 1689.91,275.674 1692.45,275.811 1694.99,276.071 1697.53,276.209 1700.07,276.471 1702.61,276.61 1705.15,276.874 1707.69,277.014 \n",
       "  1710.23,277.279 1712.77,277.421 1715.31,277.688 1717.85,277.831 1720.39,278.1 1722.93,278.244 1725.47,278.514 1728.01,278.66 1730.55,278.932 1733.09,279.079 \n",
       "  1735.63,279.353 1738.17,279.502 1740.71,279.778 1743.25,279.927 1745.79,280.205 1748.33,280.356 1750.87,280.636 1753.41,280.789 1755.95,281.071 1758.49,281.225 \n",
       "  1761.03,281.509 1763.57,281.665 1766.11,281.951 1768.65,282.108 1771.19,282.397 1773.73,282.555 1776.27,282.846 1778.81,283.006 1781.35,283.299 1783.89,283.461 \n",
       "  1786.43,283.756 1788.97,283.919 1791.51,284.217 1794.05,284.382 1796.59,284.683 1799.13,284.849 1801.67,285.152 1804.21,285.32 1806.75,285.626 1809.29,285.796 \n",
       "  1811.83,286.104 1814.37,286.276 1816.91,286.587 1819.45,286.76 1821.99,287.074 1824.53,287.25 1827.07,287.567 1829.61,287.744 1832.15,288.064 1834.69,288.243 \n",
       "  1837.23,288.565 1839.77,288.747 1842.31,289.072 1844.85,289.256 1847.39,289.585 1849.93,289.77 1852.47,290.102 1855.01,290.289 1857.55,290.625 1860.09,290.815 \n",
       "  1862.63,291.154 1865.17,291.345 1867.71,291.688 1870.25,291.882 1872.79,292.228 1875.33,292.424 1877.87,292.774 1880.41,292.973 1882.95,293.327 1885.49,293.528 \n",
       "  1888.03,293.886 1890.57,294.089 1893.11,294.451 1895.65,294.657 1898.19,295.023 1900.73,295.232 1903.27,295.602 1905.81,295.813 1908.35,296.187 1910.89,296.402 \n",
       "  1913.43,296.781 1915.97,296.998 1918.51,297.381 1921.05,297.601 1923.59,297.989 1926.13,298.212 1928.67,298.606 1931.21,298.832 1933.75,299.23 1936.29,299.459 \n",
       "  1938.83,299.862 1941.37,300.095 1943.91,300.504 1946.44,300.74 1948.98,301.154 1951.52,301.393 1954.06,301.813 1956.6,302.056 1959.14,302.482 1961.68,302.728 \n",
       "  1964.22,303.16 1966.76,303.411 1969.3,303.849 1971.84,304.103 1974.38,304.548 1976.92,304.806 1979.46,305.257 1982,305.52 1984.54,305.978 1987.08,306.245 \n",
       "  1989.62,306.71 1992.16,306.981 1994.7,307.454 1997.24,307.73 1999.78,308.21 2002.32,308.491 2004.86,308.979 2007.4,309.264 2009.94,309.761 2012.48,310.052 \n",
       "  2015.02,310.556 2017.56,310.853 2020.1,311.366 2022.64,311.668 2025.18,312.191 2027.72,312.498 2030.26,313.031 2032.8,313.344 2035.34,313.886 2037.88,314.206 \n",
       "  2040.42,314.758 2042.96,315.084 2045.5,315.648 2048.04,315.981 2050.58,316.555 2053.12,316.895 2055.66,317.481 2058.2,317.828 2060.74,318.427 2063.28,318.782 \n",
       "  2065.82,319.393 2068.36,319.756 2070.9,320.381 2073.44,320.751 2075.98,321.39 2078.52,321.77 2081.06,322.424 2083.6,322.812 2086.14,323.481 2088.68,323.879 \n",
       "  2091.22,324.565 2093.76,324.973 2096.3,325.676 2098.84,326.094 2101.38,326.815 2103.92,327.245 2106.46,327.984 2109,328.426 2111.54,329.185 2114.08,329.64 \n",
       "  2116.62,330.42 2119.16,330.887 2121.7,331.691 2124.24,332.172 2126.78,332.999 2129.32,333.495 2131.86,334.347 2134.4,334.859 2136.94,335.738 2139.48,336.267 \n",
       "  2142.02,337.175 2144.56,337.721 2147.1,338.661 2149.64,339.226 2152.18,340.198 2154.72,340.784 2157.26,341.792 2159.8,342.4 2162.34,343.446 2164.88,344.078 \n",
       "  2167.42,345.165 2169.96,345.823 2172.5,346.955 2175.04,347.64 2177.58,348.821 2180.12,349.537 2182.66,350.771 2185.2,351.521 2187.74,352.813 2190.28,353.599 \n",
       "  2192.82,354.955 2195.36,355.781 2197.9,357.209 2200.44,358.079 2202.98,359.586 2205.52,360.506 2208.06,362.101 2210.6,363.077 2213.14,364.77 2215.68,365.809 \n",
       "  2218.22,367.615 2220.76,368.726 2223.3,370.661 2225.84,371.854 2228.38,373.937 2230.92,375.225 2233.46,377.481 2236,378.882 2238.54,381.342 2241.08,382.876 \n",
       "  2243.62,385.583 2246.16,387.278 2248.7,390.285 2251.24,392.18 2253.78,395.562 2256.32,397.709 2258.86,401.575 2261.4,404.053 2263.93,408.563 2266.47,411.491 \n",
       "  2269.01,416.905 2271.55,420.484 2274.09,427.254 2276.63,431.856 2279.17,440.893 2281.71,447.338 2284.25,460.941 2286.79,471.693 2289.33,499.412 2291.87,531.957 \n",
       "  \n",
       "  \"/>\n",
       "<polyline clip-path=\"url(#clip092)\" style=\"stroke:#dd64b5; stroke-width:4; stroke-opacity:1; fill:none\" points=\"\n",
       "  262.478,170.668 265.018,245.483 267.558,240.374 270.098,293.042 272.638,266.653 275.178,320.948 277.718,288.85 280.258,341.167 282.798,305.475 285.338,356.391 \n",
       "  287.878,318.574 290.418,368.497 292.957,329.383 295.497,378.546 298.037,338.598 300.577,387.143 303.117,346.635 305.657,394.66 308.197,353.768 310.737,401.34 \n",
       "  313.277,360.182 315.817,407.352 318.357,366.011 320.897,412.82 323.436,371.355 325.976,417.834 328.516,376.29 331.056,422.465 333.596,380.875 336.136,426.769 \n",
       "  338.676,385.158 341.216,430.788 343.756,389.177 346.296,434.559 348.836,392.963 351.376,438.111 353.916,396.542 356.455,441.468 358.995,399.937 361.535,444.651 \n",
       "  364.075,403.165 366.615,447.677 369.155,406.244 371.695,450.562 374.235,409.185 376.775,453.318 379.315,412.003 381.855,455.956 384.395,414.706 386.934,458.486 \n",
       "  389.474,417.304 392.014,460.917 394.554,419.805 397.094,463.257 399.634,422.217 402.174,465.512 404.714,424.546 407.254,467.688 409.794,426.797 412.334,469.791 \n",
       "  414.874,428.975 417.414,471.825 419.953,431.086 422.493,473.796 425.033,433.134 427.573,475.706 430.113,435.122 432.653,477.56 435.193,437.054 437.733,479.361 \n",
       "  440.273,438.934 442.813,481.112 445.353,440.763 447.893,482.816 450.432,442.545 452.972,484.475 455.512,444.283 458.052,486.092 460.592,445.978 463.132,487.668 \n",
       "  465.672,447.632 468.212,489.206 470.752,449.249 473.292,490.708 475.832,450.829 478.372,492.175 480.911,452.374 483.451,493.61 485.991,453.886 488.531,495.012 \n",
       "  491.071,455.366 493.611,496.385 496.151,456.815 498.691,497.728 501.231,458.236 503.771,499.044 506.311,459.629 508.851,500.334 511.391,460.995 513.93,501.598 \n",
       "  516.47,462.335 519.01,502.838 521.55,463.651 524.09,504.054 526.63,464.943 529.17,505.248 531.71,466.212 534.25,506.42 536.79,467.459 539.33,507.571 \n",
       "  541.87,468.685 544.409,508.702 546.949,469.89 549.489,509.814 552.029,471.076 554.569,510.906 557.109,472.243 559.649,511.981 562.189,473.391 564.729,513.038 \n",
       "  567.269,474.521 569.809,514.078 572.349,475.635 574.889,515.101 577.428,476.731 579.968,516.109 582.508,477.812 585.048,517.102 587.588,478.877 590.128,518.079 \n",
       "  592.668,479.926 595.208,519.042 597.748,480.961 600.288,519.991 602.828,481.982 605.368,520.926 607.907,482.989 610.447,521.848 612.987,483.983 615.527,522.757 \n",
       "  618.067,484.963 620.607,523.654 623.147,485.931 625.687,524.538 628.227,486.886 630.767,525.411 633.307,487.829 635.847,526.272 638.386,488.761 640.926,527.122 \n",
       "  643.466,489.681 646.006,527.961 648.546,490.591 651.086,528.79 653.626,491.489 656.166,529.608 658.706,492.377 661.246,530.415 663.786,493.255 666.326,531.213 \n",
       "  668.866,494.122 671.405,532.002 673.945,494.98 676.485,532.781 679.025,495.829 681.565,533.55 684.105,496.668 686.645,534.311 689.185,497.498 691.725,535.063 \n",
       "  694.265,498.319 696.805,535.807 699.345,499.131 701.884,536.542 704.424,499.935 706.964,537.269 709.504,500.731 712.044,537.987 714.584,501.518 717.124,538.698 \n",
       "  719.664,502.298 722.204,539.402 724.744,503.07 727.284,540.097 729.824,503.834 732.364,540.786 734.903,504.591 737.443,541.467 739.983,505.341 742.523,542.141 \n",
       "  745.063,506.084 747.603,542.808 750.143,506.819 752.683,543.469 755.223,507.548 757.763,544.122 760.303,508.27 762.843,544.77 765.382,508.985 767.922,545.41 \n",
       "  770.462,509.695 773.002,546.045 775.542,510.397 778.082,546.673 780.622,511.094 783.162,547.295 785.702,511.784 788.242,547.912 790.782,512.469 793.322,548.522 \n",
       "  795.861,513.148 798.401,549.127 800.941,513.821 803.481,549.725 806.021,514.488 808.561,550.319 811.101,515.15 813.641,550.907 816.181,515.806 818.721,551.489 \n",
       "  821.261,516.457 823.801,552.067 826.341,517.103 828.88,552.639 831.42,517.744 833.96,553.206 836.5,518.379 839.04,553.767 841.58,519.01 844.12,554.324 \n",
       "  846.66,519.636 849.2,554.876 851.74,520.257 854.28,555.424 856.82,520.873 859.359,555.966 861.899,521.484 864.439,556.504 866.979,522.091 869.519,557.037 \n",
       "  872.059,522.694 874.599,557.566 877.139,523.292 879.679,558.09 882.219,523.885 884.759,558.61 887.299,524.475 889.839,559.125 892.378,525.06 894.918,559.637 \n",
       "  897.458,525.641 899.998,560.143 902.538,526.217 905.078,560.646 907.618,526.79 910.158,561.145 912.698,527.359 915.238,561.64 917.778,527.924 920.318,562.13 \n",
       "  922.857,528.485 925.397,562.617 927.937,529.042 930.477,563.1 933.017,529.595 935.557,563.578 938.097,530.145 940.637,564.054 943.177,530.691 945.717,564.525 \n",
       "  948.257,531.234 950.797,564.992 953.336,531.772 955.876,565.456 958.416,532.308 960.956,565.917 963.496,532.84 966.036,566.373 968.576,533.368 971.116,566.827 \n",
       "  973.656,533.893 976.196,567.276 978.736,534.415 981.276,567.722 983.816,534.934 986.355,568.165 988.895,535.449 991.435,568.604 993.975,535.961 996.515,569.04 \n",
       "  999.055,536.47 1001.59,569.473 1004.13,536.976 1006.67,569.902 1009.21,537.479 1011.75,570.329 1014.29,537.979 1016.83,570.751 1019.37,538.475 1021.91,571.171 \n",
       "  1024.45,538.969 1026.99,571.588 1029.53,539.46 1032.07,572.001 1034.61,539.948 1037.15,572.411 1039.69,540.433 1042.23,572.819 1044.77,540.915 1047.31,573.223 \n",
       "  1049.85,541.395 1052.39,573.624 1054.93,541.872 1057.47,574.022 1060.01,542.346 1062.55,574.418 1065.09,542.817 1067.63,574.81 1070.17,543.285 1072.71,575.199 \n",
       "  1075.25,543.751 1077.79,575.586 1080.33,544.215 1082.87,575.969 1085.41,544.675 1087.95,576.35 1090.49,545.134 1093.03,576.728 1095.57,545.589 1098.11,577.103 \n",
       "  1100.65,546.043 1103.19,577.476 1105.73,546.493 1108.27,577.846 1110.81,546.942 1113.35,578.213 1115.89,547.387 1118.43,578.577 1120.97,547.831 1123.51,578.938 \n",
       "  1126.05,548.272 1128.59,579.297 1131.13,548.711 1133.67,579.654 1136.21,549.147 1138.75,580.007 1141.29,549.581 1143.83,580.358 1146.37,550.013 1148.91,580.707 \n",
       "  1151.45,550.442 1153.99,581.053 1156.53,550.869 1159.07,581.396 1161.61,551.294 1164.15,581.737 1166.69,551.717 1169.23,582.075 1171.77,552.138 1174.31,582.411 \n",
       "  1176.85,552.556 1179.39,582.744 1181.93,552.973 1184.47,583.075 1187.01,553.387 1189.55,583.403 1192.09,553.799 1194.63,583.729 1197.17,554.209 1199.71,584.052 \n",
       "  1202.25,554.617 1204.79,584.373 1207.33,555.023 1209.87,584.692 1212.41,555.427 1214.95,585.008 1217.49,555.829 1220.03,585.322 1222.57,556.229 1225.11,585.633 \n",
       "  1227.65,556.627 1230.19,585.942 1232.73,557.022 1235.27,586.249 1237.81,557.416 1240.35,586.553 1242.89,557.808 1245.43,586.855 1247.97,558.199 1250.51,587.155 \n",
       "  1253.05,558.587 1255.59,587.453 1258.13,558.973 1260.67,587.748 1263.21,559.357 1265.75,588.041 1268.29,559.74 1270.83,588.331 1273.37,560.121 1275.91,588.62 \n",
       "  1278.45,560.5 1280.99,588.906 1283.53,560.877 1286.07,589.19 1288.61,561.252 1291.15,589.471 1293.69,561.625 1296.23,589.751 1298.77,561.997 1301.31,590.028 \n",
       "  1303.85,562.367 1306.39,590.303 1308.93,562.735 1311.47,590.576 1314.01,563.101 1316.54,590.847 1319.08,563.466 1321.62,591.115 1324.16,563.829 1326.7,591.381 \n",
       "  1329.24,564.19 1331.78,591.646 1334.32,564.55 1336.86,591.907 1339.4,564.907 1341.94,592.167 1344.48,565.263 1347.02,592.425 1349.56,565.618 1352.1,592.681 \n",
       "  1354.64,565.971 1357.18,592.934 1359.72,566.322 1362.26,593.185 1364.8,566.671 1367.34,593.434 1369.88,567.019 1372.42,593.682 1374.96,567.365 1377.5,593.927 \n",
       "  1380.04,567.71 1382.58,594.169 1385.12,568.053 1387.66,594.41 1390.2,568.394 1392.74,594.649 1395.28,568.734 1397.82,594.886 1400.36,569.072 1402.9,595.12 \n",
       "  1405.44,569.409 1407.98,595.353 1410.52,569.744 1413.06,595.583 1415.6,570.077 1418.14,595.811 1420.68,570.409 1423.22,596.038 1425.76,570.739 1428.3,596.262 \n",
       "  1430.84,571.068 1433.38,596.484 1435.92,571.396 1438.46,596.704 1441,571.721 1443.54,596.922 1446.08,572.046 1448.62,597.139 1451.16,572.368 1453.7,597.353 \n",
       "  1456.24,572.69 1458.78,597.565 1461.32,573.01 1463.86,597.775 1466.4,573.328 1468.94,597.983 1471.48,573.645 1474.02,598.189 1476.56,573.96 1479.1,598.393 \n",
       "  1481.64,574.274 1484.18,598.595 1486.72,574.586 1489.26,598.795 1491.8,574.897 1494.34,598.993 1496.88,575.207 1499.42,599.189 1501.96,575.515 1504.5,599.383 \n",
       "  1507.04,575.821 1509.58,599.575 1512.12,576.126 1514.66,599.765 1517.2,576.43 1519.74,599.953 1522.28,576.732 1524.82,600.139 1527.36,577.033 1529.9,600.323 \n",
       "  1532.44,577.332 1534.98,600.505 1537.52,577.63 1540.06,600.685 1542.6,577.927 1545.14,600.863 1547.68,578.222 1550.22,601.04 1552.76,578.516 1555.3,601.214 \n",
       "  1557.84,578.808 1560.38,601.386 1562.92,579.099 1565.46,601.556 1568,579.389 1570.54,601.725 1573.08,579.677 1575.62,601.891 1578.16,579.964 1580.7,602.056 \n",
       "  1583.24,580.249 1585.78,602.218 1588.32,580.533 1590.86,602.379 1593.4,580.816 1595.94,602.537 1598.48,581.097 1601.02,602.694 1603.56,581.377 1606.1,602.849 \n",
       "  1608.64,581.656 1611.18,603.002 1613.72,581.933 1616.26,603.153 1618.8,582.209 1621.34,603.301 1623.88,582.483 1626.42,603.448 1628.96,582.756 1631.49,603.594 \n",
       "  1634.03,583.028 1636.57,603.737 1639.11,583.298 1641.65,603.878 1644.19,583.567 1646.73,604.017 1649.27,583.835 1651.81,604.155 1654.35,584.101 1656.89,604.29 \n",
       "  1659.43,584.366 1661.97,604.424 1664.51,584.63 1667.05,604.555 1669.59,584.892 1672.13,604.685 1674.67,585.153 1677.21,604.813 1679.75,585.413 1682.29,604.939 \n",
       "  1684.83,585.671 1687.37,605.063 1689.91,585.928 1692.45,605.185 1694.99,586.184 1697.53,605.305 1700.07,586.438 1702.61,605.423 1705.15,586.691 1707.69,605.539 \n",
       "  1710.23,586.943 1712.77,605.654 1715.31,587.193 1717.85,605.766 1720.39,587.442 1722.93,605.877 1725.47,587.69 1728.01,605.986 1730.55,587.936 1733.09,606.093 \n",
       "  1735.63,588.181 1738.17,606.198 1740.71,588.425 1743.25,606.301 1745.79,588.667 1748.33,606.402 1750.87,588.908 1753.41,606.501 1755.95,589.148 1758.49,606.598 \n",
       "  1761.03,589.386 1763.57,606.694 1766.11,589.623 1768.65,606.788 1771.19,589.859 1773.73,606.879 1776.27,590.093 1778.81,606.969 1781.35,590.326 1783.89,607.057 \n",
       "  1786.43,590.558 1788.97,607.143 1791.51,590.788 1794.05,607.227 1796.59,591.017 1799.13,607.31 1801.67,591.245 1804.21,607.39 1806.75,591.472 1809.29,607.469 \n",
       "  1811.83,591.697 1814.37,607.546 1816.91,591.92 1819.45,607.62 1821.99,592.143 1824.53,607.694 1827.07,592.364 1829.61,607.765 1832.15,592.584 1834.69,607.834 \n",
       "  1837.23,592.802 1839.77,607.901 1842.31,593.019 1844.85,607.967 1847.39,593.235 1849.93,608.031 1852.47,593.45 1855.01,608.092 1857.55,593.663 1860.09,608.153 \n",
       "  1862.63,593.874 1865.17,608.211 1867.71,594.085 1870.25,608.267 1872.79,594.294 1875.33,608.321 1877.87,594.502 1880.41,608.374 1882.95,594.708 1885.49,608.425 \n",
       "  1888.03,594.913 1890.57,608.474 1893.11,595.117 1895.65,608.521 1898.19,595.319 1900.73,608.566 1903.27,595.52 1905.81,608.61 1908.35,595.72 1910.89,608.651 \n",
       "  1913.43,595.918 1915.97,608.691 1918.51,596.115 1921.05,608.729 1923.59,596.311 1926.13,608.765 1928.67,596.505 1931.21,608.799 1933.75,596.698 1936.29,608.832 \n",
       "  1938.83,596.89 1941.37,608.862 1943.91,597.08 1946.44,608.891 1948.98,597.269 1951.52,608.918 1954.06,597.456 1956.6,608.944 1959.14,597.642 1961.68,608.967 \n",
       "  1964.22,597.827 1966.76,608.989 1969.3,598.01 1971.84,609.008 1974.38,598.192 1976.92,609.026 1979.46,598.373 1982,609.043 1984.54,598.552 1987.08,609.057 \n",
       "  1989.62,598.73 1992.16,609.07 1994.7,598.906 1997.24,609.081 1999.78,599.081 2002.32,609.09 2004.86,599.255 2007.4,609.097 2009.94,599.427 2012.48,609.102 \n",
       "  2015.02,599.598 2017.56,609.106 2020.1,599.768 2022.64,609.108 2025.18,599.936 2027.72,609.108 2030.26,600.102 2032.8,609.106 2035.34,600.268 2037.88,609.103 \n",
       "  2040.42,600.431 2042.96,609.098 2045.5,600.594 2048.04,609.091 2050.58,600.755 2053.12,609.082 2055.66,600.914 2058.2,609.072 2060.74,601.073 2063.28,609.06 \n",
       "  2065.82,601.229 2068.36,609.046 2070.9,601.385 2073.44,609.03 2075.98,601.539 2078.52,609.013 2081.06,601.691 2083.6,608.994 2086.14,601.842 2088.68,608.973 \n",
       "  2091.22,601.992 2093.76,608.95 2096.3,602.14 2098.84,608.926 2101.38,602.286 2103.92,608.9 2106.46,602.432 2109,608.872 2111.54,602.575 2114.08,608.843 \n",
       "  2116.62,602.718 2119.16,608.811 2121.7,602.859 2124.24,608.778 2126.78,602.998 2129.32,608.744 2131.86,603.136 2134.4,608.707 2136.94,603.272 2139.48,608.669 \n",
       "  2142.02,603.407 2144.56,608.63 2147.1,603.541 2149.64,608.588 2152.18,603.673 2154.72,608.545 2157.26,603.803 2159.8,608.5 2162.34,603.932 2164.88,608.454 \n",
       "  2167.42,604.06 2169.96,608.405 2172.5,604.186 2175.04,608.355 2177.58,604.311 2180.12,608.304 2182.66,604.434 2185.2,608.251 2187.74,604.555 2190.28,608.196 \n",
       "  2192.82,604.675 2195.36,608.139 2197.9,604.794 2200.44,608.081 2202.98,604.911 2205.52,608.021 2208.06,605.026 2210.6,607.96 2213.14,605.14 2215.68,607.896 \n",
       "  2218.22,605.253 2220.76,607.832 2223.3,605.364 2225.84,607.765 2228.38,605.473 2230.92,607.697 2233.46,605.581 2236,607.627 2238.54,605.687 2241.08,607.556 \n",
       "  2243.62,605.792 2246.16,607.483 2248.7,605.895 2251.24,607.408 2253.78,605.997 2256.32,607.332 2258.86,606.097 2261.4,607.254 2263.93,606.195 2266.47,607.175 \n",
       "  2269.01,606.292 2271.55,607.094 2274.09,606.388 2276.63,607.011 2279.17,606.481 2281.71,606.927 2284.25,606.574 2286.79,606.841 2289.33,606.664 2291.87,606.753 \n",
       "  \n",
       "  \"/>\n",
       "<path clip-path=\"url(#clip090)\" d=\"\n",
       "M1963.51 1062.9 L2281.05 1062.9 L2281.05 95.2176 L1963.51 95.2176  Z\n",
       "  \" fill=\"#ffffff\" fill-rule=\"evenodd\" fill-opacity=\"1\"/>\n",
       "<polyline clip-path=\"url(#clip090)\" style=\"stroke:#000000; stroke-width:4; stroke-opacity:1; fill:none\" points=\"\n",
       "  1963.51,1062.9 2281.05,1062.9 2281.05,95.2176 1963.51,95.2176 1963.51,1062.9 \n",
       "  \"/>\n",
       "<polyline clip-path=\"url(#clip090)\" style=\"stroke:#009af9; stroke-width:4; stroke-opacity:1; fill:none\" points=\"\n",
       "  1987.42,155.698 2130.83,155.698 \n",
       "  \"/>\n",
       "<path clip-path=\"url(#clip090)\" d=\"M 0 0 M2168.57 175.385 Q2166.77 180.015 2165.05 181.427 Q2163.34 182.839 2160.47 182.839 L2157.07 182.839 L2157.07 179.274 L2159.57 179.274 Q2161.33 179.274 2162.3 178.44 Q2163.27 177.607 2164.45 174.505 L2165.22 172.561 L2154.73 147.052 L2159.24 147.052 L2167.34 167.329 L2175.45 147.052 L2179.96 147.052 L2168.57 175.385 Z\" fill=\"#000000\" fill-rule=\"evenodd\" fill-opacity=\"1\" /><path clip-path=\"url(#clip090)\" d=\"M 0 0 M2185.84 169.042 L2193.48 169.042 L2193.48 142.677 L2185.17 144.343 L2185.17 140.084 L2193.43 138.418 L2198.11 138.418 L2198.11 169.042 L2205.75 169.042 L2205.75 172.978 L2185.84 172.978 L2185.84 169.042 Z\" fill=\"#000000\" fill-rule=\"evenodd\" fill-opacity=\"1\" /><polyline clip-path=\"url(#clip090)\" style=\"stroke:#e26f46; stroke-width:4; stroke-opacity:1; fill:none\" points=\"\n",
       "  1987.42,216.178 2130.83,216.178 \n",
       "  \"/>\n",
       "<path clip-path=\"url(#clip090)\" d=\"M 0 0 M2168.57 235.865 Q2166.77 240.495 2165.05 241.907 Q2163.34 243.319 2160.47 243.319 L2157.07 243.319 L2157.07 239.754 L2159.57 239.754 Q2161.33 239.754 2162.3 238.92 Q2163.27 238.087 2164.45 234.985 L2165.22 233.041 L2154.73 207.532 L2159.24 207.532 L2167.34 227.809 L2175.45 207.532 L2179.96 207.532 L2168.57 235.865 Z\" fill=\"#000000\" fill-rule=\"evenodd\" fill-opacity=\"1\" /><path clip-path=\"url(#clip090)\" d=\"M 0 0 M2189.06 229.522 L2205.38 229.522 L2205.38 233.458 L2183.43 233.458 L2183.43 229.522 Q2186.09 226.768 2190.68 222.138 Q2195.28 217.485 2196.46 216.143 Q2198.71 213.62 2199.59 211.884 Q2200.49 210.124 2200.49 208.435 Q2200.49 205.68 2198.55 203.944 Q2196.63 202.208 2193.53 202.208 Q2191.33 202.208 2188.87 202.972 Q2186.44 203.735 2183.66 205.286 L2183.66 200.564 Q2186.49 199.43 2188.94 198.851 Q2191.4 198.273 2193.43 198.273 Q2198.8 198.273 2202 200.958 Q2205.19 203.643 2205.19 208.134 Q2205.19 210.263 2204.38 212.185 Q2203.59 214.083 2201.49 216.675 Q2200.91 217.347 2197.81 220.564 Q2194.71 223.759 2189.06 229.522 Z\" fill=\"#000000\" fill-rule=\"evenodd\" fill-opacity=\"1\" /><polyline clip-path=\"url(#clip090)\" style=\"stroke:#3da44d; stroke-width:4; stroke-opacity:1; fill:none\" points=\"\n",
       "  1987.42,276.658 2130.83,276.658 \n",
       "  \"/>\n",
       "<path clip-path=\"url(#clip090)\" d=\"M 0 0 M2168.57 296.345 Q2166.77 300.975 2165.05 302.387 Q2163.34 303.799 2160.47 303.799 L2157.07 303.799 L2157.07 300.234 L2159.57 300.234 Q2161.33 300.234 2162.3 299.4 Q2163.27 298.567 2164.45 295.465 L2165.22 293.521 L2154.73 268.012 L2159.24 268.012 L2167.34 288.289 L2175.45 268.012 L2179.96 268.012 L2168.57 296.345 Z\" fill=\"#000000\" fill-rule=\"evenodd\" fill-opacity=\"1\" /><path clip-path=\"url(#clip090)\" d=\"M 0 0 M2199.2 275.303 Q2202.55 276.021 2204.43 278.289 Q2206.33 280.558 2206.33 283.891 Q2206.33 289.007 2202.81 291.808 Q2199.29 294.609 2192.81 294.609 Q2190.63 294.609 2188.32 294.169 Q2186.03 293.752 2183.57 292.896 L2183.57 288.382 Q2185.52 289.516 2187.83 290.095 Q2190.15 290.674 2192.67 290.674 Q2197.07 290.674 2199.36 288.938 Q2201.67 287.201 2201.67 283.891 Q2201.67 280.836 2199.52 279.123 Q2197.39 277.387 2193.57 277.387 L2189.54 277.387 L2189.54 273.544 L2193.76 273.544 Q2197.21 273.544 2199.03 272.178 Q2200.86 270.79 2200.86 268.197 Q2200.86 265.535 2198.96 264.123 Q2197.09 262.688 2193.57 262.688 Q2191.65 262.688 2189.45 263.104 Q2187.25 263.521 2184.61 264.401 L2184.61 260.234 Q2187.28 259.493 2189.59 259.123 Q2191.93 258.753 2193.99 258.753 Q2199.31 258.753 2202.41 261.183 Q2205.52 263.59 2205.52 267.711 Q2205.52 270.581 2203.87 272.572 Q2202.23 274.54 2199.2 275.303 Z\" fill=\"#000000\" fill-rule=\"evenodd\" fill-opacity=\"1\" /><polyline clip-path=\"url(#clip090)\" style=\"stroke:#c271d2; stroke-width:4; stroke-opacity:1; fill:none\" points=\"\n",
       "  1987.42,337.138 2130.83,337.138 \n",
       "  \"/>\n",
       "<path clip-path=\"url(#clip090)\" d=\"M 0 0 M2168.57 356.825 Q2166.77 361.455 2165.05 362.867 Q2163.34 364.279 2160.47 364.279 L2157.07 364.279 L2157.07 360.714 L2159.57 360.714 Q2161.33 360.714 2162.3 359.88 Q2163.27 359.047 2164.45 355.945 L2165.22 354.001 L2154.73 328.492 L2159.24 328.492 L2167.34 348.769 L2175.45 328.492 L2179.96 328.492 L2168.57 356.825 Z\" fill=\"#000000\" fill-rule=\"evenodd\" fill-opacity=\"1\" /><path clip-path=\"url(#clip090)\" d=\"M 0 0 M2197.88 323.932 L2186.07 342.381 L2197.88 342.381 L2197.88 323.932 M2196.65 319.858 L2202.53 319.858 L2202.53 342.381 L2207.46 342.381 L2207.46 346.269 L2202.53 346.269 L2202.53 354.418 L2197.88 354.418 L2197.88 346.269 L2182.28 346.269 L2182.28 341.756 L2196.65 319.858 Z\" fill=\"#000000\" fill-rule=\"evenodd\" fill-opacity=\"1\" /><polyline clip-path=\"url(#clip090)\" style=\"stroke:#ac8d18; stroke-width:4; stroke-opacity:1; fill:none\" points=\"\n",
       "  1987.42,397.618 2130.83,397.618 \n",
       "  \"/>\n",
       "<path clip-path=\"url(#clip090)\" d=\"M 0 0 M2168.57 417.305 Q2166.77 421.935 2165.05 423.347 Q2163.34 424.759 2160.47 424.759 L2157.07 424.759 L2157.07 421.194 L2159.57 421.194 Q2161.33 421.194 2162.3 420.36 Q2163.27 419.527 2164.45 416.425 L2165.22 414.481 L2154.73 388.972 L2159.24 388.972 L2167.34 409.249 L2175.45 388.972 L2179.96 388.972 L2168.57 417.305 Z\" fill=\"#000000\" fill-rule=\"evenodd\" fill-opacity=\"1\" /><path clip-path=\"url(#clip090)\" d=\"M 0 0 M2185.08 380.338 L2203.43 380.338 L2203.43 384.273 L2189.36 384.273 L2189.36 392.745 Q2190.38 392.398 2191.4 392.236 Q2192.41 392.05 2193.43 392.05 Q2199.22 392.05 2202.6 395.222 Q2205.98 398.393 2205.98 403.81 Q2205.98 409.388 2202.51 412.49 Q2199.03 415.569 2192.71 415.569 Q2190.54 415.569 2188.27 415.198 Q2186.03 414.828 2183.62 414.087 L2183.62 409.388 Q2185.7 410.523 2187.92 411.078 Q2190.15 411.634 2192.62 411.634 Q2196.63 411.634 2198.96 409.527 Q2201.3 407.421 2201.3 403.81 Q2201.3 400.199 2198.96 398.092 Q2196.63 395.986 2192.62 395.986 Q2190.75 395.986 2188.87 396.402 Q2187.02 396.819 2185.08 397.699 L2185.08 380.338 Z\" fill=\"#000000\" fill-rule=\"evenodd\" fill-opacity=\"1\" /><polyline clip-path=\"url(#clip090)\" style=\"stroke:#00a9ad; stroke-width:4; stroke-opacity:1; fill:none\" points=\"\n",
       "  1987.42,458.098 2130.83,458.098 \n",
       "  \"/>\n",
       "<path clip-path=\"url(#clip090)\" d=\"M 0 0 M2168.57 477.785 Q2166.77 482.415 2165.05 483.827 Q2163.34 485.239 2160.47 485.239 L2157.07 485.239 L2157.07 481.674 L2159.57 481.674 Q2161.33 481.674 2162.3 480.84 Q2163.27 480.007 2164.45 476.905 L2165.22 474.961 L2154.73 449.452 L2159.24 449.452 L2167.34 469.729 L2175.45 449.452 L2179.96 449.452 L2168.57 477.785 Z\" fill=\"#000000\" fill-rule=\"evenodd\" fill-opacity=\"1\" /><path clip-path=\"url(#clip090)\" d=\"M 0 0 M2195.61 456.234 Q2192.46 456.234 2190.61 458.387 Q2188.78 460.54 2188.78 464.29 Q2188.78 468.016 2190.61 470.192 Q2192.46 472.345 2195.61 472.345 Q2198.76 472.345 2200.59 470.192 Q2202.44 468.016 2202.44 464.29 Q2202.44 460.54 2200.59 458.387 Q2198.76 456.234 2195.61 456.234 M2204.89 441.581 L2204.89 445.841 Q2203.13 445.007 2201.33 444.568 Q2199.54 444.128 2197.78 444.128 Q2193.15 444.128 2190.7 447.253 Q2188.27 450.378 2187.92 456.697 Q2189.29 454.683 2191.35 453.618 Q2193.41 452.53 2195.89 452.53 Q2201.09 452.53 2204.1 455.702 Q2207.14 458.85 2207.14 464.29 Q2207.14 469.614 2203.99 472.831 Q2200.84 476.049 2195.61 476.049 Q2189.61 476.049 2186.44 471.466 Q2183.27 466.859 2183.27 458.132 Q2183.27 449.938 2187.16 445.077 Q2191.05 440.193 2197.6 440.193 Q2199.36 440.193 2201.14 440.54 Q2202.95 440.887 2204.89 441.581 Z\" fill=\"#000000\" fill-rule=\"evenodd\" fill-opacity=\"1\" /><polyline clip-path=\"url(#clip090)\" style=\"stroke:#ed5d92; stroke-width:4; stroke-opacity:1; fill:none\" points=\"\n",
       "  1987.42,518.578 2130.83,518.578 \n",
       "  \"/>\n",
       "<path clip-path=\"url(#clip090)\" d=\"M 0 0 M2168.57 538.265 Q2166.77 542.895 2165.05 544.307 Q2163.34 545.719 2160.47 545.719 L2157.07 545.719 L2157.07 542.154 L2159.57 542.154 Q2161.33 542.154 2162.3 541.32 Q2163.27 540.487 2164.45 537.385 L2165.22 535.441 L2154.73 509.932 L2159.24 509.932 L2167.34 530.209 L2175.45 509.932 L2179.96 509.932 L2168.57 538.265 Z\" fill=\"#000000\" fill-rule=\"evenodd\" fill-opacity=\"1\" /><path clip-path=\"url(#clip090)\" d=\"M 0 0 M2183.85 501.298 L2206.07 501.298 L2206.07 503.288 L2193.53 535.858 L2188.64 535.858 L2200.45 505.233 L2183.85 505.233 L2183.85 501.298 Z\" fill=\"#000000\" fill-rule=\"evenodd\" fill-opacity=\"1\" /><polyline clip-path=\"url(#clip090)\" style=\"stroke:#c68125; stroke-width:4; stroke-opacity:1; fill:none\" points=\"\n",
       "  1987.42,579.058 2130.83,579.058 \n",
       "  \"/>\n",
       "<path clip-path=\"url(#clip090)\" d=\"M 0 0 M2168.57 598.745 Q2166.77 603.375 2165.05 604.787 Q2163.34 606.199 2160.47 606.199 L2157.07 606.199 L2157.07 602.634 L2159.57 602.634 Q2161.33 602.634 2162.3 601.8 Q2163.27 600.967 2164.45 597.865 L2165.22 595.921 L2154.73 570.412 L2159.24 570.412 L2167.34 590.689 L2175.45 570.412 L2179.96 570.412 L2168.57 598.745 Z\" fill=\"#000000\" fill-rule=\"evenodd\" fill-opacity=\"1\" /><path clip-path=\"url(#clip090)\" d=\"M 0 0 M2195.03 579.926 Q2191.7 579.926 2189.78 581.708 Q2187.88 583.49 2187.88 586.615 Q2187.88 589.74 2189.78 591.523 Q2191.7 593.305 2195.03 593.305 Q2198.36 593.305 2200.28 591.523 Q2202.21 589.717 2202.21 586.615 Q2202.21 583.49 2200.28 581.708 Q2198.39 579.926 2195.03 579.926 M2190.35 577.935 Q2187.34 577.194 2185.65 575.134 Q2183.99 573.074 2183.99 570.111 Q2183.99 565.967 2186.93 563.56 Q2189.89 561.153 2195.03 561.153 Q2200.19 561.153 2203.13 563.56 Q2206.07 565.967 2206.07 570.111 Q2206.07 573.074 2204.38 575.134 Q2202.71 577.194 2199.73 577.935 Q2203.11 578.722 2204.98 581.014 Q2206.88 583.305 2206.88 586.615 Q2206.88 591.639 2203.8 594.324 Q2200.75 597.009 2195.03 597.009 Q2189.31 597.009 2186.23 594.324 Q2183.18 591.639 2183.18 586.615 Q2183.18 583.305 2185.08 581.014 Q2186.97 578.722 2190.35 577.935 M2188.64 570.551 Q2188.64 573.236 2190.31 574.74 Q2192 576.245 2195.03 576.245 Q2198.04 576.245 2199.73 574.74 Q2201.44 573.236 2201.44 570.551 Q2201.44 567.865 2199.73 566.361 Q2198.04 564.856 2195.03 564.856 Q2192 564.856 2190.31 566.361 Q2188.64 567.865 2188.64 570.551 Z\" fill=\"#000000\" fill-rule=\"evenodd\" fill-opacity=\"1\" /><polyline clip-path=\"url(#clip090)\" style=\"stroke:#00a98d; stroke-width:4; stroke-opacity:1; fill:none\" points=\"\n",
       "  1987.42,639.538 2130.83,639.538 \n",
       "  \"/>\n",
       "<path clip-path=\"url(#clip090)\" d=\"M 0 0 M2168.57 659.225 Q2166.77 663.855 2165.05 665.267 Q2163.34 666.679 2160.47 666.679 L2157.07 666.679 L2157.07 663.114 L2159.57 663.114 Q2161.33 663.114 2162.3 662.28 Q2163.27 661.447 2164.45 658.345 L2165.22 656.401 L2154.73 630.892 L2159.24 630.892 L2167.34 651.169 L2175.45 630.892 L2179.96 630.892 L2168.57 659.225 Z\" fill=\"#000000\" fill-rule=\"evenodd\" fill-opacity=\"1\" /><path clip-path=\"url(#clip090)\" d=\"M 0 0 M2185.17 656.1 L2185.17 651.841 Q2186.93 652.674 2188.73 653.114 Q2190.54 653.554 2192.28 653.554 Q2196.9 653.554 2199.34 650.452 Q2201.79 647.327 2202.14 640.984 Q2200.79 642.975 2198.73 644.04 Q2196.67 645.105 2194.17 645.105 Q2188.99 645.105 2185.96 641.98 Q2182.95 638.832 2182.95 633.392 Q2182.95 628.068 2186.09 624.85 Q2189.24 621.633 2194.47 621.633 Q2200.47 621.633 2203.62 626.239 Q2206.79 630.822 2206.79 639.572 Q2206.79 647.744 2202.9 652.628 Q2199.03 657.489 2192.48 657.489 Q2190.72 657.489 2188.92 657.142 Q2187.11 656.794 2185.17 656.1 M2194.47 641.447 Q2197.62 641.447 2199.45 639.294 Q2201.3 637.142 2201.3 633.392 Q2201.3 629.665 2199.45 627.512 Q2197.62 625.336 2194.47 625.336 Q2191.33 625.336 2189.47 627.512 Q2187.65 629.665 2187.65 633.392 Q2187.65 637.142 2189.47 639.294 Q2191.33 641.447 2194.47 641.447 Z\" fill=\"#000000\" fill-rule=\"evenodd\" fill-opacity=\"1\" /><polyline clip-path=\"url(#clip090)\" style=\"stroke:#8e971d; stroke-width:4; stroke-opacity:1; fill:none\" points=\"\n",
       "  1987.42,700.018 2130.83,700.018 \n",
       "  \"/>\n",
       "<path clip-path=\"url(#clip090)\" d=\"M 0 0 M2168.57 719.705 Q2166.77 724.335 2165.05 725.747 Q2163.34 727.159 2160.47 727.159 L2157.07 727.159 L2157.07 723.594 L2159.57 723.594 Q2161.33 723.594 2162.3 722.76 Q2163.27 721.927 2164.45 718.825 L2165.22 716.881 L2154.73 691.372 L2159.24 691.372 L2167.34 711.649 L2175.45 691.372 L2179.96 691.372 L2168.57 719.705 Z\" fill=\"#000000\" fill-rule=\"evenodd\" fill-opacity=\"1\" /><path clip-path=\"url(#clip090)\" d=\"M 0 0 M2185.84 713.362 L2193.48 713.362 L2193.48 686.997 L2185.17 688.663 L2185.17 684.404 L2193.43 682.738 L2198.11 682.738 L2198.11 713.362 L2205.75 713.362 L2205.75 717.298 L2185.84 717.298 L2185.84 713.362 Z\" fill=\"#000000\" fill-rule=\"evenodd\" fill-opacity=\"1\" /><path clip-path=\"url(#clip090)\" d=\"M 0 0 M2220.82 685.816 Q2217.21 685.816 2215.38 689.381 Q2213.57 692.923 2213.57 700.052 Q2213.57 707.159 2215.38 710.724 Q2217.21 714.265 2220.82 714.265 Q2224.45 714.265 2226.26 710.724 Q2228.09 707.159 2228.09 700.052 Q2228.09 692.923 2226.26 689.381 Q2224.45 685.816 2220.82 685.816 M2220.82 682.113 Q2226.63 682.113 2229.68 686.719 Q2232.76 691.302 2232.76 700.052 Q2232.76 708.779 2229.68 713.386 Q2226.63 717.969 2220.82 717.969 Q2215.01 717.969 2211.93 713.386 Q2208.87 708.779 2208.87 700.052 Q2208.87 691.302 2211.93 686.719 Q2215.01 682.113 2220.82 682.113 Z\" fill=\"#000000\" fill-rule=\"evenodd\" fill-opacity=\"1\" /><polyline clip-path=\"url(#clip090)\" style=\"stroke:#00a8cb; stroke-width:4; stroke-opacity:1; fill:none\" points=\"\n",
       "  1987.42,760.498 2130.83,760.498 \n",
       "  \"/>\n",
       "<path clip-path=\"url(#clip090)\" d=\"M 0 0 M2168.57 780.185 Q2166.77 784.815 2165.05 786.227 Q2163.34 787.639 2160.47 787.639 L2157.07 787.639 L2157.07 784.074 L2159.57 784.074 Q2161.33 784.074 2162.3 783.24 Q2163.27 782.407 2164.45 779.305 L2165.22 777.361 L2154.73 751.852 L2159.24 751.852 L2167.34 772.129 L2175.45 751.852 L2179.96 751.852 L2168.57 780.185 Z\" fill=\"#000000\" fill-rule=\"evenodd\" fill-opacity=\"1\" /><path clip-path=\"url(#clip090)\" d=\"M 0 0 M2185.84 773.842 L2193.48 773.842 L2193.48 747.477 L2185.17 749.143 L2185.17 744.884 L2193.43 743.218 L2198.11 743.218 L2198.11 773.842 L2205.75 773.842 L2205.75 777.778 L2185.84 777.778 L2185.84 773.842 Z\" fill=\"#000000\" fill-rule=\"evenodd\" fill-opacity=\"1\" /><path clip-path=\"url(#clip090)\" d=\"M 0 0 M2211.63 773.842 L2219.27 773.842 L2219.27 747.477 L2210.96 749.143 L2210.96 744.884 L2219.22 743.218 L2223.9 743.218 L2223.9 773.842 L2231.53 773.842 L2231.53 777.778 L2211.63 777.778 L2211.63 773.842 Z\" fill=\"#000000\" fill-rule=\"evenodd\" fill-opacity=\"1\" /><polyline clip-path=\"url(#clip090)\" style=\"stroke:#9b7fe8; stroke-width:4; stroke-opacity:1; fill:none\" points=\"\n",
       "  1987.42,820.978 2130.83,820.978 \n",
       "  \"/>\n",
       "<path clip-path=\"url(#clip090)\" d=\"M 0 0 M2168.57 840.665 Q2166.77 845.295 2165.05 846.707 Q2163.34 848.119 2160.47 848.119 L2157.07 848.119 L2157.07 844.554 L2159.57 844.554 Q2161.33 844.554 2162.3 843.72 Q2163.27 842.887 2164.45 839.785 L2165.22 837.841 L2154.73 812.332 L2159.24 812.332 L2167.34 832.609 L2175.45 812.332 L2179.96 812.332 L2168.57 840.665 Z\" fill=\"#000000\" fill-rule=\"evenodd\" fill-opacity=\"1\" /><path clip-path=\"url(#clip090)\" d=\"M 0 0 M2185.84 834.322 L2193.48 834.322 L2193.48 807.957 L2185.17 809.623 L2185.17 805.364 L2193.43 803.698 L2198.11 803.698 L2198.11 834.322 L2205.75 834.322 L2205.75 838.258 L2185.84 838.258 L2185.84 834.322 Z\" fill=\"#000000\" fill-rule=\"evenodd\" fill-opacity=\"1\" /><path clip-path=\"url(#clip090)\" d=\"M 0 0 M2214.84 834.322 L2231.16 834.322 L2231.16 838.258 L2209.22 838.258 L2209.22 834.322 Q2211.88 831.568 2216.46 826.938 Q2221.07 822.285 2222.25 820.943 Q2224.5 818.42 2225.38 816.684 Q2226.28 814.924 2226.28 813.235 Q2226.28 810.48 2224.34 808.744 Q2222.41 807.008 2219.31 807.008 Q2217.11 807.008 2214.66 807.772 Q2212.23 808.535 2209.45 810.086 L2209.45 805.364 Q2212.27 804.23 2214.73 803.651 Q2217.18 803.073 2219.22 803.073 Q2224.59 803.073 2227.78 805.758 Q2230.98 808.443 2230.98 812.934 Q2230.98 815.063 2230.17 816.985 Q2229.38 818.883 2227.27 821.475 Q2226.7 822.147 2223.59 825.364 Q2220.49 828.559 2214.84 834.322 Z\" fill=\"#000000\" fill-rule=\"evenodd\" fill-opacity=\"1\" /><polyline clip-path=\"url(#clip090)\" style=\"stroke:#608cf6; stroke-width:4; stroke-opacity:1; fill:none\" points=\"\n",
       "  1987.42,881.458 2130.83,881.458 \n",
       "  \"/>\n",
       "<path clip-path=\"url(#clip090)\" d=\"M 0 0 M2168.57 901.145 Q2166.77 905.775 2165.05 907.187 Q2163.34 908.599 2160.47 908.599 L2157.07 908.599 L2157.07 905.034 L2159.57 905.034 Q2161.33 905.034 2162.3 904.2 Q2163.27 903.367 2164.45 900.265 L2165.22 898.321 L2154.73 872.812 L2159.24 872.812 L2167.34 893.089 L2175.45 872.812 L2179.96 872.812 L2168.57 901.145 Z\" fill=\"#000000\" fill-rule=\"evenodd\" fill-opacity=\"1\" /><path clip-path=\"url(#clip090)\" d=\"M 0 0 M2185.84 894.802 L2193.48 894.802 L2193.48 868.437 L2185.17 870.103 L2185.17 865.844 L2193.43 864.178 L2198.11 864.178 L2198.11 894.802 L2205.75 894.802 L2205.75 898.738 L2185.84 898.738 L2185.84 894.802 Z\" fill=\"#000000\" fill-rule=\"evenodd\" fill-opacity=\"1\" /><path clip-path=\"url(#clip090)\" d=\"M 0 0 M2224.98 880.103 Q2228.34 880.821 2230.21 883.089 Q2232.11 885.358 2232.11 888.691 Q2232.11 893.807 2228.59 896.608 Q2225.08 899.409 2218.59 899.409 Q2216.42 899.409 2214.1 898.969 Q2211.81 898.552 2209.36 897.696 L2209.36 893.182 Q2211.3 894.316 2213.62 894.895 Q2215.93 895.474 2218.46 895.474 Q2222.85 895.474 2225.15 893.738 Q2227.46 892.001 2227.46 888.691 Q2227.46 885.636 2225.31 883.923 Q2223.18 882.187 2219.36 882.187 L2215.33 882.187 L2215.33 878.344 L2219.54 878.344 Q2222.99 878.344 2224.82 876.978 Q2226.65 875.59 2226.65 872.997 Q2226.65 870.335 2224.75 868.923 Q2222.88 867.488 2219.36 867.488 Q2217.44 867.488 2215.24 867.904 Q2213.04 868.321 2210.4 869.201 L2210.4 865.034 Q2213.06 864.293 2215.38 863.923 Q2217.71 863.553 2219.77 863.553 Q2225.1 863.553 2228.2 865.983 Q2231.3 868.39 2231.3 872.511 Q2231.3 875.381 2229.66 877.372 Q2228.02 879.34 2224.98 880.103 Z\" fill=\"#000000\" fill-rule=\"evenodd\" fill-opacity=\"1\" /><polyline clip-path=\"url(#clip090)\" style=\"stroke:#f05f73; stroke-width:4; stroke-opacity:1; fill:none\" points=\"\n",
       "  1987.42,941.938 2130.83,941.938 \n",
       "  \"/>\n",
       "<path clip-path=\"url(#clip090)\" d=\"M 0 0 M2168.57 961.625 Q2166.77 966.255 2165.05 967.667 Q2163.34 969.079 2160.47 969.079 L2157.07 969.079 L2157.07 965.514 L2159.57 965.514 Q2161.33 965.514 2162.3 964.68 Q2163.27 963.847 2164.45 960.745 L2165.22 958.801 L2154.73 933.292 L2159.24 933.292 L2167.34 953.569 L2175.45 933.292 L2179.96 933.292 L2168.57 961.625 Z\" fill=\"#000000\" fill-rule=\"evenodd\" fill-opacity=\"1\" /><path clip-path=\"url(#clip090)\" d=\"M 0 0 M2185.84 955.282 L2193.48 955.282 L2193.48 928.917 L2185.17 930.583 L2185.17 926.324 L2193.43 924.658 L2198.11 924.658 L2198.11 955.282 L2205.75 955.282 L2205.75 959.218 L2185.84 959.218 L2185.84 955.282 Z\" fill=\"#000000\" fill-rule=\"evenodd\" fill-opacity=\"1\" /><path clip-path=\"url(#clip090)\" d=\"M 0 0 M2223.66 928.732 L2211.86 947.181 L2223.66 947.181 L2223.66 928.732 M2222.44 924.658 L2228.32 924.658 L2228.32 947.181 L2233.25 947.181 L2233.25 951.069 L2228.32 951.069 L2228.32 959.218 L2223.66 959.218 L2223.66 951.069 L2208.06 951.069 L2208.06 946.556 L2222.44 924.658 Z\" fill=\"#000000\" fill-rule=\"evenodd\" fill-opacity=\"1\" /><polyline clip-path=\"url(#clip090)\" style=\"stroke:#dd64b5; stroke-width:4; stroke-opacity:1; fill:none\" points=\"\n",
       "  1987.42,1002.42 2130.83,1002.42 \n",
       "  \"/>\n",
       "<path clip-path=\"url(#clip090)\" d=\"M 0 0 M2168.57 1022.1 Q2166.77 1026.73 2165.05 1028.15 Q2163.34 1029.56 2160.47 1029.56 L2157.07 1029.56 L2157.07 1025.99 L2159.57 1025.99 Q2161.33 1025.99 2162.3 1025.16 Q2163.27 1024.33 2164.45 1021.23 L2165.22 1019.28 L2154.73 993.772 L2159.24 993.772 L2167.34 1014.05 L2175.45 993.772 L2179.96 993.772 L2168.57 1022.1 Z\" fill=\"#000000\" fill-rule=\"evenodd\" fill-opacity=\"1\" /><path clip-path=\"url(#clip090)\" d=\"M 0 0 M2185.84 1015.76 L2193.48 1015.76 L2193.48 989.397 L2185.17 991.063 L2185.17 986.804 L2193.43 985.138 L2198.11 985.138 L2198.11 1015.76 L2205.75 1015.76 L2205.75 1019.7 L2185.84 1019.7 L2185.84 1015.76 Z\" fill=\"#000000\" fill-rule=\"evenodd\" fill-opacity=\"1\" /><path clip-path=\"url(#clip090)\" d=\"M 0 0 M2210.86 985.138 L2229.22 985.138 L2229.22 989.073 L2215.15 989.073 L2215.15 997.545 Q2216.16 997.198 2217.18 997.036 Q2218.2 996.85 2219.22 996.85 Q2225.01 996.85 2228.39 1000.02 Q2231.77 1003.19 2231.77 1008.61 Q2231.77 1014.19 2228.29 1017.29 Q2224.82 1020.37 2218.5 1020.37 Q2216.33 1020.37 2214.06 1020 Q2211.81 1019.63 2209.4 1018.89 L2209.4 1014.19 Q2211.49 1015.32 2213.71 1015.88 Q2215.93 1016.43 2218.41 1016.43 Q2222.41 1016.43 2224.75 1014.33 Q2227.09 1012.22 2227.09 1008.61 Q2227.09 1005 2224.75 1002.89 Q2222.41 1000.79 2218.41 1000.79 Q2216.53 1000.79 2214.66 1001.2 Q2212.81 1001.62 2210.86 1002.5 L2210.86 985.138 Z\" fill=\"#000000\" fill-rule=\"evenodd\" fill-opacity=\"1\" /></svg>\n"
      ]
     },
     "metadata": {},
     "output_type": "display_data"
    }
   ],
   "source": [
    "p = plot(abs.(out[4][1].cs), yaxis = :log)\n",
    "for i = 2:size(S.gaps)[1]\n",
    "    plot!(abs.(out[4][i].cs), yaxis = :log)\n",
    "end\n",
    "display(p)"
   ]
  },
  {
   "cell_type": "code",
   "execution_count": 150,
   "metadata": {},
   "outputs": [
    {
     "data": {
      "image/svg+xml": [
       "<?xml version=\"1.0\" encoding=\"utf-8\"?>\n",
       "<svg xmlns=\"http://www.w3.org/2000/svg\" xmlns:xlink=\"http://www.w3.org/1999/xlink\" width=\"600\" height=\"400\" viewBox=\"0 0 2400 1600\">\n",
       "<defs>\n",
       "  <clipPath id=\"clip130\">\n",
       "    <rect x=\"0\" y=\"0\" width=\"2400\" height=\"1600\"/>\n",
       "  </clipPath>\n",
       "</defs>\n",
       "<path clip-path=\"url(#clip130)\" d=\"\n",
       "M0 1600 L2400 1600 L2400 0 L0 0  Z\n",
       "  \" fill=\"#ffffff\" fill-rule=\"evenodd\" fill-opacity=\"1\"/>\n",
       "<defs>\n",
       "  <clipPath id=\"clip131\">\n",
       "    <rect x=\"480\" y=\"0\" width=\"1681\" height=\"1600\"/>\n",
       "  </clipPath>\n",
       "</defs>\n",
       "<path clip-path=\"url(#clip130)\" d=\"\n",
       "M171.552 1486.45 L2352.76 1486.45 L2352.76 47.2441 L171.552 47.2441  Z\n",
       "  \" fill=\"#ffffff\" fill-rule=\"evenodd\" fill-opacity=\"1\"/>\n",
       "<defs>\n",
       "  <clipPath id=\"clip132\">\n",
       "    <rect x=\"171\" y=\"47\" width=\"2182\" height=\"1440\"/>\n",
       "  </clipPath>\n",
       "</defs>\n",
       "<polyline clip-path=\"url(#clip132)\" style=\"stroke:#000000; stroke-width:2; stroke-opacity:0.1; fill:none\" points=\"\n",
       "  233.284,1486.45 233.284,47.2441 \n",
       "  \"/>\n",
       "<polyline clip-path=\"url(#clip132)\" style=\"stroke:#000000; stroke-width:2; stroke-opacity:0.1; fill:none\" points=\"\n",
       "  565.178,1486.45 565.178,47.2441 \n",
       "  \"/>\n",
       "<polyline clip-path=\"url(#clip132)\" style=\"stroke:#000000; stroke-width:2; stroke-opacity:0.1; fill:none\" points=\"\n",
       "  897.071,1486.45 897.071,47.2441 \n",
       "  \"/>\n",
       "<polyline clip-path=\"url(#clip132)\" style=\"stroke:#000000; stroke-width:2; stroke-opacity:0.1; fill:none\" points=\"\n",
       "  1228.96,1486.45 1228.96,47.2441 \n",
       "  \"/>\n",
       "<polyline clip-path=\"url(#clip132)\" style=\"stroke:#000000; stroke-width:2; stroke-opacity:0.1; fill:none\" points=\"\n",
       "  1560.86,1486.45 1560.86,47.2441 \n",
       "  \"/>\n",
       "<polyline clip-path=\"url(#clip132)\" style=\"stroke:#000000; stroke-width:2; stroke-opacity:0.1; fill:none\" points=\"\n",
       "  1892.75,1486.45 1892.75,47.2441 \n",
       "  \"/>\n",
       "<polyline clip-path=\"url(#clip132)\" style=\"stroke:#000000; stroke-width:2; stroke-opacity:0.1; fill:none\" points=\"\n",
       "  2224.65,1486.45 2224.65,47.2441 \n",
       "  \"/>\n",
       "<polyline clip-path=\"url(#clip130)\" style=\"stroke:#000000; stroke-width:4; stroke-opacity:1; fill:none\" points=\"\n",
       "  171.552,1486.45 2352.76,1486.45 \n",
       "  \"/>\n",
       "<polyline clip-path=\"url(#clip130)\" style=\"stroke:#000000; stroke-width:4; stroke-opacity:1; fill:none\" points=\"\n",
       "  171.552,47.2441 2352.76,47.2441 \n",
       "  \"/>\n",
       "<polyline clip-path=\"url(#clip130)\" style=\"stroke:#000000; stroke-width:4; stroke-opacity:1; fill:none\" points=\"\n",
       "  233.284,1486.45 233.284,1469.18 \n",
       "  \"/>\n",
       "<polyline clip-path=\"url(#clip130)\" style=\"stroke:#000000; stroke-width:4; stroke-opacity:1; fill:none\" points=\"\n",
       "  565.178,1486.45 565.178,1469.18 \n",
       "  \"/>\n",
       "<polyline clip-path=\"url(#clip130)\" style=\"stroke:#000000; stroke-width:4; stroke-opacity:1; fill:none\" points=\"\n",
       "  897.071,1486.45 897.071,1469.18 \n",
       "  \"/>\n",
       "<polyline clip-path=\"url(#clip130)\" style=\"stroke:#000000; stroke-width:4; stroke-opacity:1; fill:none\" points=\"\n",
       "  1228.96,1486.45 1228.96,1469.18 \n",
       "  \"/>\n",
       "<polyline clip-path=\"url(#clip130)\" style=\"stroke:#000000; stroke-width:4; stroke-opacity:1; fill:none\" points=\"\n",
       "  1560.86,1486.45 1560.86,1469.18 \n",
       "  \"/>\n",
       "<polyline clip-path=\"url(#clip130)\" style=\"stroke:#000000; stroke-width:4; stroke-opacity:1; fill:none\" points=\"\n",
       "  1892.75,1486.45 1892.75,1469.18 \n",
       "  \"/>\n",
       "<polyline clip-path=\"url(#clip130)\" style=\"stroke:#000000; stroke-width:4; stroke-opacity:1; fill:none\" points=\"\n",
       "  2224.65,1486.45 2224.65,1469.18 \n",
       "  \"/>\n",
       "<path clip-path=\"url(#clip130)\" d=\"M 0 0 M233.284 1515.64 Q229.673 1515.64 227.844 1519.2 Q226.039 1522.75 226.039 1529.87 Q226.039 1536.98 227.844 1540.55 Q229.673 1544.09 233.284 1544.09 Q236.918 1544.09 238.724 1540.55 Q240.553 1536.98 240.553 1529.87 Q240.553 1522.75 238.724 1519.2 Q236.918 1515.64 233.284 1515.64 M233.284 1511.93 Q239.094 1511.93 242.15 1516.54 Q245.228 1521.12 245.228 1529.87 Q245.228 1538.6 242.15 1543.21 Q239.094 1547.79 233.284 1547.79 Q227.474 1547.79 224.395 1543.21 Q221.34 1538.6 221.34 1529.87 Q221.34 1521.12 224.395 1516.54 Q227.474 1511.93 233.284 1511.93 Z\" fill=\"#000000\" fill-rule=\"evenodd\" fill-opacity=\"1\" /><path clip-path=\"url(#clip130)\" d=\"M 0 0 M555.56 1543.18 L563.198 1543.18 L563.198 1516.82 L554.888 1518.49 L554.888 1514.23 L563.152 1512.56 L567.828 1512.56 L567.828 1543.18 L575.467 1543.18 L575.467 1547.12 L555.56 1547.12 L555.56 1543.18 Z\" fill=\"#000000\" fill-rule=\"evenodd\" fill-opacity=\"1\" /><path clip-path=\"url(#clip130)\" d=\"M 0 0 M891.724 1543.18 L908.043 1543.18 L908.043 1547.12 L886.099 1547.12 L886.099 1543.18 Q888.761 1540.43 893.344 1535.8 Q897.951 1531.15 899.131 1529.81 Q901.377 1527.28 902.256 1525.55 Q903.159 1523.79 903.159 1522.1 Q903.159 1519.34 901.215 1517.61 Q899.293 1515.87 896.191 1515.87 Q893.992 1515.87 891.539 1516.63 Q889.108 1517.4 886.33 1518.95 L886.33 1514.23 Q889.154 1513.09 891.608 1512.51 Q894.062 1511.93 896.099 1511.93 Q901.469 1511.93 904.664 1514.62 Q907.858 1517.31 907.858 1521.8 Q907.858 1523.93 907.048 1525.85 Q906.261 1527.74 904.154 1530.34 Q903.576 1531.01 900.474 1534.23 Q897.372 1537.42 891.724 1543.18 Z\" fill=\"#000000\" fill-rule=\"evenodd\" fill-opacity=\"1\" /><path clip-path=\"url(#clip130)\" d=\"M 0 0 M1233.21 1528.49 Q1236.57 1529.2 1238.44 1531.47 Q1240.34 1533.74 1240.34 1537.07 Q1240.34 1542.19 1236.82 1544.99 Q1233.3 1547.79 1226.82 1547.79 Q1224.65 1547.79 1222.33 1547.35 Q1220.04 1546.93 1217.59 1546.08 L1217.59 1541.56 Q1219.53 1542.7 1221.85 1543.28 Q1224.16 1543.86 1226.68 1543.86 Q1231.08 1543.86 1233.37 1542.12 Q1235.69 1540.38 1235.69 1537.07 Q1235.69 1534.02 1233.54 1532.31 Q1231.41 1530.57 1227.59 1530.57 L1223.56 1530.57 L1223.56 1526.73 L1227.77 1526.73 Q1231.22 1526.73 1233.05 1525.36 Q1234.88 1523.97 1234.88 1521.38 Q1234.88 1518.72 1232.98 1517.31 Q1231.11 1515.87 1227.59 1515.87 Q1225.67 1515.87 1223.47 1516.29 Q1221.27 1516.7 1218.63 1517.58 L1218.63 1513.42 Q1221.29 1512.68 1223.61 1512.31 Q1225.94 1511.93 1228 1511.93 Q1233.33 1511.93 1236.43 1514.37 Q1239.53 1516.77 1239.53 1520.89 Q1239.53 1523.76 1237.89 1525.75 Q1236.24 1527.72 1233.21 1528.49 Z\" fill=\"#000000\" fill-rule=\"evenodd\" fill-opacity=\"1\" /><path clip-path=\"url(#clip130)\" d=\"M 0 0 M1563.87 1516.63 L1552.06 1535.08 L1563.87 1535.08 L1563.87 1516.63 M1562.64 1512.56 L1568.52 1512.56 L1568.52 1535.08 L1573.45 1535.08 L1573.45 1538.97 L1568.52 1538.97 L1568.52 1547.12 L1563.87 1547.12 L1563.87 1538.97 L1548.27 1538.97 L1548.27 1534.46 L1562.64 1512.56 Z\" fill=\"#000000\" fill-rule=\"evenodd\" fill-opacity=\"1\" /><path clip-path=\"url(#clip130)\" d=\"M 0 0 M1883.03 1512.56 L1901.39 1512.56 L1901.39 1516.5 L1887.31 1516.5 L1887.31 1524.97 Q1888.33 1524.62 1889.35 1524.46 Q1890.37 1524.27 1891.39 1524.27 Q1897.17 1524.27 1900.55 1527.44 Q1903.93 1530.62 1903.93 1536.03 Q1903.93 1541.61 1900.46 1544.71 Q1896.99 1547.79 1890.67 1547.79 Q1888.49 1547.79 1886.22 1547.42 Q1883.98 1547.05 1881.57 1546.31 L1881.57 1541.61 Q1883.65 1542.74 1885.88 1543.3 Q1888.1 1543.86 1890.58 1543.86 Q1894.58 1543.86 1896.92 1541.75 Q1899.26 1539.64 1899.26 1536.03 Q1899.26 1532.42 1896.92 1530.31 Q1894.58 1528.21 1890.58 1528.21 Q1888.7 1528.21 1886.83 1528.62 Q1884.97 1529.04 1883.03 1529.92 L1883.03 1512.56 Z\" fill=\"#000000\" fill-rule=\"evenodd\" fill-opacity=\"1\" /><path clip-path=\"url(#clip130)\" d=\"M 0 0 M2225.05 1527.98 Q2221.9 1527.98 2220.05 1530.13 Q2218.22 1532.28 2218.22 1536.03 Q2218.22 1539.76 2220.05 1541.93 Q2221.9 1544.09 2225.05 1544.09 Q2228.2 1544.09 2230.03 1541.93 Q2231.88 1539.76 2231.88 1536.03 Q2231.88 1532.28 2230.03 1530.13 Q2228.2 1527.98 2225.05 1527.98 M2234.33 1513.32 L2234.33 1517.58 Q2232.57 1516.75 2230.77 1516.31 Q2228.99 1515.87 2227.23 1515.87 Q2222.6 1515.87 2220.14 1519 Q2217.71 1522.12 2217.36 1528.44 Q2218.73 1526.43 2220.79 1525.36 Q2222.85 1524.27 2225.33 1524.27 Q2230.54 1524.27 2233.55 1527.44 Q2236.58 1530.59 2236.58 1536.03 Q2236.58 1541.36 2233.43 1544.57 Q2230.28 1547.79 2225.05 1547.79 Q2219.05 1547.79 2215.88 1543.21 Q2212.71 1538.6 2212.71 1529.87 Q2212.71 1521.68 2216.6 1516.82 Q2220.49 1511.93 2227.04 1511.93 Q2228.8 1511.93 2230.58 1512.28 Q2232.39 1512.63 2234.33 1513.32 Z\" fill=\"#000000\" fill-rule=\"evenodd\" fill-opacity=\"1\" /><polyline clip-path=\"url(#clip132)\" style=\"stroke:#000000; stroke-width:2; stroke-opacity:0.1; fill:none\" points=\"\n",
       "  171.552,1322.28 2352.76,1322.28 \n",
       "  \"/>\n",
       "<polyline clip-path=\"url(#clip132)\" style=\"stroke:#000000; stroke-width:2; stroke-opacity:0.1; fill:none\" points=\"\n",
       "  171.552,1013.71 2352.76,1013.71 \n",
       "  \"/>\n",
       "<polyline clip-path=\"url(#clip132)\" style=\"stroke:#000000; stroke-width:2; stroke-opacity:0.1; fill:none\" points=\"\n",
       "  171.552,705.131 2352.76,705.131 \n",
       "  \"/>\n",
       "<polyline clip-path=\"url(#clip132)\" style=\"stroke:#000000; stroke-width:2; stroke-opacity:0.1; fill:none\" points=\"\n",
       "  171.552,396.553 2352.76,396.553 \n",
       "  \"/>\n",
       "<polyline clip-path=\"url(#clip132)\" style=\"stroke:#000000; stroke-width:2; stroke-opacity:0.1; fill:none\" points=\"\n",
       "  171.552,87.9763 2352.76,87.9763 \n",
       "  \"/>\n",
       "<polyline clip-path=\"url(#clip130)\" style=\"stroke:#000000; stroke-width:4; stroke-opacity:1; fill:none\" points=\"\n",
       "  171.552,1486.45 171.552,47.2441 \n",
       "  \"/>\n",
       "<polyline clip-path=\"url(#clip130)\" style=\"stroke:#000000; stroke-width:4; stroke-opacity:1; fill:none\" points=\"\n",
       "  2352.76,1486.45 2352.76,47.2441 \n",
       "  \"/>\n",
       "<polyline clip-path=\"url(#clip130)\" style=\"stroke:#000000; stroke-width:4; stroke-opacity:1; fill:none\" points=\"\n",
       "  171.552,1322.28 197.726,1322.28 \n",
       "  \"/>\n",
       "<polyline clip-path=\"url(#clip130)\" style=\"stroke:#000000; stroke-width:4; stroke-opacity:1; fill:none\" points=\"\n",
       "  171.552,1013.71 197.726,1013.71 \n",
       "  \"/>\n",
       "<polyline clip-path=\"url(#clip130)\" style=\"stroke:#000000; stroke-width:4; stroke-opacity:1; fill:none\" points=\"\n",
       "  171.552,705.131 197.726,705.131 \n",
       "  \"/>\n",
       "<polyline clip-path=\"url(#clip130)\" style=\"stroke:#000000; stroke-width:4; stroke-opacity:1; fill:none\" points=\"\n",
       "  171.552,396.553 197.726,396.553 \n",
       "  \"/>\n",
       "<polyline clip-path=\"url(#clip130)\" style=\"stroke:#000000; stroke-width:4; stroke-opacity:1; fill:none\" points=\"\n",
       "  171.552,87.9763 197.726,87.9763 \n",
       "  \"/>\n",
       "<path clip-path=\"url(#clip130)\" d=\"M 0 0 M86.6401 1308.08 Q83.029 1308.08 81.2003 1311.65 Q79.3948 1315.19 79.3948 1322.32 Q79.3948 1329.43 81.2003 1332.99 Q83.029 1336.53 86.6401 1336.53 Q90.2743 1336.53 92.0799 1332.99 Q93.9086 1329.43 93.9086 1322.32 Q93.9086 1315.19 92.0799 1311.65 Q90.2743 1308.08 86.6401 1308.08 M86.6401 1304.38 Q92.4502 1304.38 95.5058 1308.99 Q98.5845 1313.57 98.5845 1322.32 Q98.5845 1331.05 95.5058 1335.65 Q92.4502 1340.24 86.6401 1340.24 Q80.8299 1340.24 77.7512 1335.65 Q74.6957 1331.05 74.6957 1322.32 Q74.6957 1313.57 77.7512 1308.99 Q80.8299 1304.38 86.6401 1304.38 Z\" fill=\"#000000\" fill-rule=\"evenodd\" fill-opacity=\"1\" /><path clip-path=\"url(#clip130)\" d=\"M 0 0 M103.654 1333.69 L108.538 1333.69 L108.538 1339.56 L103.654 1339.56 L103.654 1333.69 Z\" fill=\"#000000\" fill-rule=\"evenodd\" fill-opacity=\"1\" /><path clip-path=\"url(#clip130)\" d=\"M 0 0 M123.607 1308.08 Q119.996 1308.08 118.168 1311.65 Q116.362 1315.19 116.362 1322.32 Q116.362 1329.43 118.168 1332.99 Q119.996 1336.53 123.607 1336.53 Q127.242 1336.53 129.047 1332.99 Q130.876 1329.43 130.876 1322.32 Q130.876 1315.19 129.047 1311.65 Q127.242 1308.08 123.607 1308.08 M123.607 1304.38 Q129.418 1304.38 132.473 1308.99 Q135.552 1313.57 135.552 1322.32 Q135.552 1331.05 132.473 1335.65 Q129.418 1340.24 123.607 1340.24 Q117.797 1340.24 114.719 1335.65 Q111.663 1331.05 111.663 1322.32 Q111.663 1313.57 114.719 1308.99 Q117.797 1304.38 123.607 1304.38 Z\" fill=\"#000000\" fill-rule=\"evenodd\" fill-opacity=\"1\" /><path clip-path=\"url(#clip130)\" d=\"M 0 0 M83.2605 1027.05 L99.5798 1027.05 L99.5798 1030.99 L77.6355 1030.99 L77.6355 1027.05 Q80.2975 1024.3 84.8808 1019.67 Q89.4873 1015.02 90.6678 1013.67 Q92.9132 1011.15 93.7928 1009.41 Q94.6956 1007.65 94.6956 1005.96 Q94.6956 1003.21 92.7512 1001.47 Q90.8299 999.738 87.728 999.738 Q85.529 999.738 83.0753 1000.5 Q80.6447 1001.27 77.867 1002.82 L77.867 998.094 Q80.691 996.96 83.1447 996.381 Q85.5984 995.803 87.6354 995.803 Q93.0058 995.803 96.2002 998.488 Q99.3946 1001.17 99.3946 1005.66 Q99.3946 1007.79 98.5845 1009.71 Q97.7974 1011.61 95.691 1014.21 Q95.1123 1014.88 92.0104 1018.09 Q88.9086 1021.29 83.2605 1027.05 Z\" fill=\"#000000\" fill-rule=\"evenodd\" fill-opacity=\"1\" /><path clip-path=\"url(#clip130)\" d=\"M 0 0 M104.649 1025.11 L109.533 1025.11 L109.533 1030.99 L104.649 1030.99 L104.649 1025.11 Z\" fill=\"#000000\" fill-rule=\"evenodd\" fill-opacity=\"1\" /><path clip-path=\"url(#clip130)\" d=\"M 0 0 M114.649 996.428 L133.006 996.428 L133.006 1000.36 L118.932 1000.36 L118.932 1008.84 Q119.95 1008.49 120.969 1008.33 Q121.987 1008.14 123.006 1008.14 Q128.793 1008.14 132.172 1011.31 Q135.552 1014.48 135.552 1019.9 Q135.552 1025.48 132.08 1028.58 Q128.607 1031.66 122.288 1031.66 Q120.112 1031.66 117.844 1031.29 Q115.598 1030.92 113.191 1030.18 L113.191 1025.48 Q115.274 1026.61 117.496 1027.17 Q119.719 1027.72 122.195 1027.72 Q126.2 1027.72 128.538 1025.62 Q130.876 1023.51 130.876 1019.9 Q130.876 1016.29 128.538 1014.18 Q126.2 1012.08 122.195 1012.08 Q120.32 1012.08 118.445 1012.49 Q116.594 1012.91 114.649 1013.79 L114.649 996.428 Z\" fill=\"#000000\" fill-rule=\"evenodd\" fill-opacity=\"1\" /><path clip-path=\"url(#clip130)\" d=\"M 0 0 M77.6818 687.851 L96.0382 687.851 L96.0382 691.786 L81.9642 691.786 L81.9642 700.258 Q82.9827 699.911 84.0012 699.749 Q85.0197 699.563 86.0382 699.563 Q91.8252 699.563 95.2049 702.735 Q98.5845 705.906 98.5845 711.323 Q98.5845 716.901 95.1123 720.003 Q91.6401 723.082 85.3206 723.082 Q83.1447 723.082 80.8762 722.711 Q78.6309 722.341 76.2235 721.6 L76.2235 716.901 Q78.3068 718.036 80.529 718.591 Q82.7512 719.147 85.2281 719.147 Q89.2327 719.147 91.5706 717.04 Q93.9086 714.934 93.9086 711.323 Q93.9086 707.712 91.5706 705.605 Q89.2327 703.499 85.2281 703.499 Q83.3531 703.499 81.4781 703.915 Q79.6262 704.332 77.6818 705.212 L77.6818 687.851 Z\" fill=\"#000000\" fill-rule=\"evenodd\" fill-opacity=\"1\" /><path clip-path=\"url(#clip130)\" d=\"M 0 0 M103.654 716.531 L108.538 716.531 L108.538 722.411 L103.654 722.411 L103.654 716.531 Z\" fill=\"#000000\" fill-rule=\"evenodd\" fill-opacity=\"1\" /><path clip-path=\"url(#clip130)\" d=\"M 0 0 M123.607 690.929 Q119.996 690.929 118.168 694.494 Q116.362 698.036 116.362 705.165 Q116.362 712.272 118.168 715.837 Q119.996 719.378 123.607 719.378 Q127.242 719.378 129.047 715.837 Q130.876 712.272 130.876 705.165 Q130.876 698.036 129.047 694.494 Q127.242 690.929 123.607 690.929 M123.607 687.226 Q129.418 687.226 132.473 691.832 Q135.552 696.415 135.552 705.165 Q135.552 713.892 132.473 718.499 Q129.418 723.082 123.607 723.082 Q117.797 723.082 114.719 718.499 Q111.663 713.892 111.663 705.165 Q111.663 696.415 114.719 691.832 Q117.797 687.226 123.607 687.226 Z\" fill=\"#000000\" fill-rule=\"evenodd\" fill-opacity=\"1\" /><path clip-path=\"url(#clip130)\" d=\"M 0 0 M77.3577 379.273 L99.5798 379.273 L99.5798 381.264 L87.0336 413.833 L82.1494 413.833 L93.9549 383.209 L77.3577 383.209 L77.3577 379.273 Z\" fill=\"#000000\" fill-rule=\"evenodd\" fill-opacity=\"1\" /><path clip-path=\"url(#clip130)\" d=\"M 0 0 M104.649 407.954 L109.533 407.954 L109.533 413.833 L104.649 413.833 L104.649 407.954 Z\" fill=\"#000000\" fill-rule=\"evenodd\" fill-opacity=\"1\" /><path clip-path=\"url(#clip130)\" d=\"M 0 0 M114.649 379.273 L133.006 379.273 L133.006 383.209 L118.932 383.209 L118.932 391.681 Q119.95 391.334 120.969 391.172 Q121.987 390.986 123.006 390.986 Q128.793 390.986 132.172 394.158 Q135.552 397.329 135.552 402.746 Q135.552 408.324 132.08 411.426 Q128.607 414.505 122.288 414.505 Q120.112 414.505 117.844 414.134 Q115.598 413.764 113.191 413.023 L113.191 408.324 Q115.274 409.458 117.496 410.014 Q119.719 410.57 122.195 410.57 Q126.2 410.57 128.538 408.463 Q130.876 406.357 130.876 402.746 Q130.876 399.134 128.538 397.028 Q126.2 394.921 122.195 394.921 Q120.32 394.921 118.445 395.338 Q116.594 395.755 114.649 396.634 L114.649 379.273 Z\" fill=\"#000000\" fill-rule=\"evenodd\" fill-opacity=\"1\" /><path clip-path=\"url(#clip130)\" d=\"M 0 0 M51.6634 101.321 L59.3023 101.321 L59.3023 74.9555 L50.9921 76.6222 L50.9921 72.3629 L59.256 70.6963 L63.9319 70.6963 L63.9319 101.321 L71.5707 101.321 L71.5707 105.256 L51.6634 105.256 L51.6634 101.321 Z\" fill=\"#000000\" fill-rule=\"evenodd\" fill-opacity=\"1\" /><path clip-path=\"url(#clip130)\" d=\"M 0 0 M86.6401 73.775 Q83.029 73.775 81.2003 77.3398 Q79.3948 80.8814 79.3948 88.011 Q79.3948 95.1174 81.2003 98.6822 Q83.029 102.224 86.6401 102.224 Q90.2743 102.224 92.0799 98.6822 Q93.9086 95.1174 93.9086 88.011 Q93.9086 80.8814 92.0799 77.3398 Q90.2743 73.775 86.6401 73.775 M86.6401 70.0713 Q92.4502 70.0713 95.5058 74.6777 Q98.5845 79.261 98.5845 88.011 Q98.5845 96.7378 95.5058 101.344 Q92.4502 105.928 86.6401 105.928 Q80.8299 105.928 77.7512 101.344 Q74.6957 96.7378 74.6957 88.011 Q74.6957 79.261 77.7512 74.6777 Q80.8299 70.0713 86.6401 70.0713 Z\" fill=\"#000000\" fill-rule=\"evenodd\" fill-opacity=\"1\" /><path clip-path=\"url(#clip130)\" d=\"M 0 0 M103.654 99.3767 L108.538 99.3767 L108.538 105.256 L103.654 105.256 L103.654 99.3767 Z\" fill=\"#000000\" fill-rule=\"evenodd\" fill-opacity=\"1\" /><path clip-path=\"url(#clip130)\" d=\"M 0 0 M123.607 73.775 Q119.996 73.775 118.168 77.3398 Q116.362 80.8814 116.362 88.011 Q116.362 95.1174 118.168 98.6822 Q119.996 102.224 123.607 102.224 Q127.242 102.224 129.047 98.6822 Q130.876 95.1174 130.876 88.011 Q130.876 80.8814 129.047 77.3398 Q127.242 73.775 123.607 73.775 M123.607 70.0713 Q129.418 70.0713 132.473 74.6777 Q135.552 79.261 135.552 88.011 Q135.552 96.7378 132.473 101.344 Q129.418 105.928 123.607 105.928 Q117.797 105.928 114.719 101.344 Q111.663 96.7378 111.663 88.011 Q111.663 79.261 114.719 74.6777 Q117.797 70.0713 123.607 70.0713 Z\" fill=\"#000000\" fill-rule=\"evenodd\" fill-opacity=\"1\" /><path clip-path=\"url(#clip132)\" d=\"\n",
       "M233.284 1189.83 L266.473 1217.3 L299.663 1235.11 L332.852 1242.78 L366.041 1245.61 L399.231 1247.46 L432.42 1250.26 L465.609 1254.19 L498.799 1257.99 L531.988 1259.9 \n",
       "  L565.178 1259.13 L598.367 1257.19 L631.556 1258.21 L664.746 1266.46 L697.935 1282.71 L731.124 1303.44 L764.314 1324.25 L797.503 1342.71 L830.692 1358.43 L863.882 1371.94 \n",
       "  L897.071 1383.88 L930.26 1394.64 L963.45 1404.42 L996.639 1413.26 L1029.83 1421.16 L1063.02 1428.05 L1096.21 1433.87 L1129.4 1438.58 L1162.59 1442.13 L1195.78 1444.48 \n",
       "  L1228.96 1445.61 L1262.15 1445.5 L1295.34 1444.17 L1328.53 1441.61 L1361.72 1437.86 L1394.91 1432.94 L1428.1 1426.83 L1461.29 1419.43 L1494.48 1410.07 L1527.67 1395.63 \n",
       "  L1560.86 1361.34 L1594.05 1248.67 L1627.24 1013.14 L1660.43 1070.58 L1693.62 1284.59 L1726.8 1345.46 L1759.99 1342.12 L1793.18 1316.17 L1826.37 1273.6 L1859.56 1223.66 \n",
       "  L1892.75 1194.4 L1925.94 1206.37 L1959.13 1240.74 L1992.32 1269.46 L2025.51 1284 L2058.7 1287.94 L2091.89 1286.43 L2125.08 1282.97 L2158.27 1279.38 L2191.46 1276.28 \n",
       "  L2224.65 1273.68 L2257.83 1271.48 L2291.02 1269.73 L2291.02 1569.15 L2257.83 1569.15 L2224.65 1569.15 L2191.46 1569.15 L2158.27 1569.15 L2125.08 1569.15 L2091.89 1569.15 \n",
       "  L2058.7 1569.15 L2025.51 1569.15 L1992.32 1569.15 L1959.13 1569.15 L1925.94 1569.15 L1892.75 1569.15 L1859.56 1569.15 L1826.37 1569.15 L1793.18 1569.15 L1759.99 1569.15 \n",
       "  L1726.8 1569.15 L1693.62 1569.15 L1660.43 1569.15 L1627.24 1569.15 L1594.05 1569.15 L1560.86 1569.15 L1527.67 1569.15 L1494.48 1569.15 L1461.29 1569.15 L1428.1 1569.15 \n",
       "  L1394.91 1569.15 L1361.72 1569.15 L1328.53 1569.15 L1295.34 1569.15 L1262.15 1569.15 L1228.96 1569.15 L1195.78 1569.15 L1162.59 1569.15 L1129.4 1569.15 L1096.21 1569.15 \n",
       "  L1063.02 1569.15 L1029.83 1569.15 L996.639 1569.15 L963.45 1569.15 L930.26 1569.15 L897.071 1569.15 L863.882 1569.15 L830.692 1569.15 L797.503 1569.15 L764.314 1569.15 \n",
       "  L731.124 1569.15 L697.935 1569.15 L664.746 1569.15 L631.556 1569.15 L598.367 1569.15 L565.178 1569.15 L531.988 1569.15 L498.799 1569.15 L465.609 1569.15 L432.42 1569.15 \n",
       "  L399.231 1569.15 L366.041 1569.15 L332.852 1569.15 L299.663 1569.15 L266.473 1569.15 L233.284 1569.15  Z\n",
       "  \" fill=\"#add8e6\" fill-rule=\"evenodd\" fill-opacity=\"1\"/>\n",
       "<polyline clip-path=\"url(#clip132)\" style=\"stroke:#009af9; stroke-width:12; stroke-opacity:1; fill:none\" points=\"\n",
       "  233.284,1189.83 266.473,1217.3 299.663,1235.11 332.852,1242.78 366.041,1245.61 399.231,1247.46 432.42,1250.26 465.609,1254.19 498.799,1257.99 531.988,1259.9 \n",
       "  565.178,1259.13 598.367,1257.19 631.556,1258.21 664.746,1266.46 697.935,1282.71 731.124,1303.44 764.314,1324.25 797.503,1342.71 830.692,1358.43 863.882,1371.94 \n",
       "  897.071,1383.88 930.26,1394.64 963.45,1404.42 996.639,1413.26 1029.83,1421.16 1063.02,1428.05 1096.21,1433.87 1129.4,1438.58 1162.59,1442.13 1195.78,1444.48 \n",
       "  1228.96,1445.61 1262.15,1445.5 1295.34,1444.17 1328.53,1441.61 1361.72,1437.86 1394.91,1432.94 1428.1,1426.83 1461.29,1419.43 1494.48,1410.07 1527.67,1395.63 \n",
       "  1560.86,1361.34 1594.05,1248.67 1627.24,1013.14 1660.43,1070.58 1693.62,1284.59 1726.8,1345.46 1759.99,1342.12 1793.18,1316.17 1826.37,1273.6 1859.56,1223.66 \n",
       "  1892.75,1194.4 1925.94,1206.37 1959.13,1240.74 1992.32,1269.46 2025.51,1284 2058.7,1287.94 2091.89,1286.43 2125.08,1282.97 2158.27,1279.38 2191.46,1276.28 \n",
       "  2224.65,1273.68 2257.83,1271.48 2291.02,1269.73 \n",
       "  \"/>\n",
       "<polyline clip-path=\"url(#clip132)\" style=\"stroke:#e26f46; stroke-width:4; stroke-opacity:1; fill:none\" points=\"\n",
       "  233.284,1199.47 266.473,1201.31 299.663,1204.37 332.852,1208.6 366.041,1213.96 399.231,1220.41 432.42,1227.88 465.609,1236.29 498.799,1245.56 531.988,1255.59 \n",
       "  565.178,1266.3 598.367,1277.56 631.556,1289.27 664.746,1301.31 697.935,1313.55 731.124,1325.89 764.314,1338.19 797.503,1350.33 830.692,1362.19 863.882,1373.65 \n",
       "  897.071,1384.6 930.26,1394.92 963.45,1404.52 996.639,1413.3 1029.83,1421.17 1063.02,1428.05 1096.21,1433.88 1129.4,1438.58 1162.59,1442.13 1195.78,1444.48 \n",
       "  1228.96,1445.61 1262.15,1445.51 1295.34,1444.17 1328.53,1441.62 1361.72,1437.87 1394.91,1432.97 1428.1,1426.97 1461.29,1419.91 1494.48,1411.89 1527.67,1402.96 \n",
       "  1560.86,1393.24 1594.05,1382.8 1627.24,1371.76 1660.43,1360.22 1693.62,1348.3 1726.8,1336.13 1759.99,1323.81 1793.18,1311.48 1826.37,1299.26 1859.56,1287.27 \n",
       "  1892.75,1275.63 1925.94,1264.46 1959.13,1253.86 1992.32,1243.94 2025.51,1234.81 2058.7,1226.56 2091.89,1219.26 2125.08,1212.98 2158.27,1207.81 2191.46,1203.77 \n",
       "  2224.65,1200.92 2257.83,1199.28 2291.02,1198.87 \n",
       "  \"/>\n",
       "<path clip-path=\"url(#clip130)\" d=\"\n",
       "M1732.21 276.658 L2280.05 276.658 L2280.05 95.2176 L1732.21 95.2176  Z\n",
       "  \" fill=\"#ffffff\" fill-rule=\"evenodd\" fill-opacity=\"1\"/>\n",
       "<polyline clip-path=\"url(#clip130)\" style=\"stroke:#000000; stroke-width:4; stroke-opacity:1; fill:none\" points=\"\n",
       "  1732.21,276.658 2280.05,276.658 2280.05,95.2176 1732.21,95.2176 1732.21,276.658 \n",
       "  \"/>\n",
       "<path clip-path=\"url(#clip130)\" d=\"\n",
       "M1756.44 179.89 L1901.86 179.89 L1901.86 131.506 L1756.44 131.506 L1756.44 179.89  Z\n",
       "  \" fill=\"#add8e6\" fill-rule=\"evenodd\" fill-opacity=\"1\"/>\n",
       "<polyline clip-path=\"url(#clip130)\" style=\"stroke:#009af9; stroke-width:12; stroke-opacity:1; fill:none\" points=\"\n",
       "  1756.44,131.506 1901.86,131.506 \n",
       "  \"/>\n",
       "<path clip-path=\"url(#clip130)\" d=\"M 0 0 M1930.49 160.038 Q1930.49 164.737 1932.41 167.422 Q1934.36 170.084 1937.74 170.084 Q1941.12 170.084 1943.06 167.422 Q1945.01 164.737 1945.01 160.038 Q1945.01 155.339 1943.06 152.677 Q1941.12 149.992 1937.74 149.992 Q1934.36 149.992 1932.41 152.677 Q1930.49 155.339 1930.49 160.038 M1945.01 169.089 Q1943.66 171.403 1941.6 172.538 Q1939.57 173.649 1936.7 173.649 Q1932 173.649 1929.03 169.899 Q1926.09 166.149 1926.09 160.038 Q1926.09 153.927 1929.03 150.177 Q1932 146.427 1936.7 146.427 Q1939.57 146.427 1941.6 147.561 Q1943.66 148.672 1945.01 150.987 L1945.01 147.052 L1949.26 147.052 L1949.26 182.839 L1945.01 182.839 L1945.01 169.089 Z\" fill=\"#000000\" fill-rule=\"evenodd\" fill-opacity=\"1\" /><path clip-path=\"url(#clip130)\" d=\"M 0 0 M1963.96 137.006 Q1960.86 142.33 1959.36 147.538 Q1957.85 152.746 1957.85 158.093 Q1957.85 163.441 1959.36 168.695 Q1960.88 173.927 1963.96 179.228 L1960.26 179.228 Q1956.79 173.788 1955.05 168.533 Q1953.34 163.279 1953.34 158.093 Q1953.34 152.931 1955.05 147.7 Q1956.76 142.468 1960.26 137.006 L1963.96 137.006 Z\" fill=\"#000000\" fill-rule=\"evenodd\" fill-opacity=\"1\" /><path clip-path=\"url(#clip130)\" d=\"M 0 0 M1989.98 147.052 L1980.61 159.667 L1990.47 172.978 L1985.44 172.978 L1977.9 162.792 L1970.35 172.978 L1965.33 172.978 L1975.4 159.413 L1966.19 147.052 L1971.21 147.052 L1978.08 156.288 L1984.96 147.052 L1989.98 147.052 Z\" fill=\"#000000\" fill-rule=\"evenodd\" fill-opacity=\"1\" /><path clip-path=\"url(#clip130)\" d=\"M 0 0 M1996.02 167.098 L2000.91 167.098 L2000.91 171.079 L1997.11 178.487 L1994.13 178.487 L1996.02 171.079 L1996.02 167.098 Z\" fill=\"#000000\" fill-rule=\"evenodd\" fill-opacity=\"1\" /><path clip-path=\"url(#clip130)\" d=\"M 0 0 M2009.59 139.691 L2009.59 147.052 L2018.36 147.052 L2018.36 150.362 L2009.59 150.362 L2009.59 164.436 Q2009.59 167.607 2010.44 168.51 Q2011.32 169.413 2013.99 169.413 L2018.36 169.413 L2018.36 172.978 L2013.99 172.978 Q2009.06 172.978 2007.18 171.149 Q2005.31 169.297 2005.31 164.436 L2005.31 150.362 L2002.18 150.362 L2002.18 147.052 L2005.31 147.052 L2005.31 139.691 L2009.59 139.691 Z\" fill=\"#000000\" fill-rule=\"evenodd\" fill-opacity=\"1\" /><path clip-path=\"url(#clip130)\" d=\"M 0 0 M2022.16 137.006 L2025.86 137.006 Q2029.33 142.468 2031.05 147.7 Q2032.78 152.931 2032.78 158.093 Q2032.78 163.279 2031.05 168.533 Q2029.33 173.788 2025.86 179.228 L2022.16 179.228 Q2025.24 173.927 2026.74 168.695 Q2028.27 163.441 2028.27 158.093 Q2028.27 152.746 2026.74 147.538 Q2025.24 142.33 2022.16 137.006 Z\" fill=\"#000000\" fill-rule=\"evenodd\" fill-opacity=\"1\" /><path clip-path=\"url(#clip130)\" d=\"M 0 0 M2038.34 167.098 L2043.22 167.098 L2043.22 171.079 L2039.43 178.487 L2036.44 178.487 L2038.34 171.079 L2038.34 167.098 Z\" fill=\"#000000\" fill-rule=\"evenodd\" fill-opacity=\"1\" /><path clip-path=\"url(#clip130)\" d=\"M 0 0 M2066.97 139.691 L2066.97 147.052 L2075.75 147.052 L2075.75 150.362 L2066.97 150.362 L2066.97 164.436 Q2066.97 167.607 2067.83 168.51 Q2068.71 169.413 2071.37 169.413 L2075.75 169.413 L2075.75 172.978 L2071.37 172.978 Q2066.44 172.978 2064.56 171.149 Q2062.69 169.297 2062.69 164.436 L2062.69 150.362 L2059.56 150.362 L2059.56 147.052 L2062.69 147.052 L2062.69 139.691 L2066.97 139.691 Z\" fill=\"#000000\" fill-rule=\"evenodd\" fill-opacity=\"1\" /><path clip-path=\"url(#clip130)\" d=\"M 0 0 M2095.84 151.45 L2125.51 151.45 L2125.51 155.339 L2095.84 155.339 L2095.84 151.45 M2095.84 160.894 L2125.51 160.894 L2125.51 164.829 L2095.84 164.829 L2095.84 160.894 Z\" fill=\"#000000\" fill-rule=\"evenodd\" fill-opacity=\"1\" /><path clip-path=\"url(#clip130)\" d=\"M 0 0 M2155.65 141.496 Q2152.04 141.496 2150.21 145.061 Q2148.41 148.603 2148.41 155.732 Q2148.41 162.839 2150.21 166.404 Q2152.04 169.945 2155.65 169.945 Q2159.29 169.945 2161.09 166.404 Q2162.92 162.839 2162.92 155.732 Q2162.92 148.603 2161.09 145.061 Q2159.29 141.496 2155.65 141.496 M2155.65 137.793 Q2161.46 137.793 2164.52 142.399 Q2167.6 146.982 2167.6 155.732 Q2167.6 164.459 2164.52 169.066 Q2161.46 173.649 2155.65 173.649 Q2149.84 173.649 2146.76 169.066 Q2143.71 164.459 2143.71 155.732 Q2143.71 146.982 2146.76 142.399 Q2149.84 137.793 2155.65 137.793 Z\" fill=\"#000000\" fill-rule=\"evenodd\" fill-opacity=\"1\" /><path clip-path=\"url(#clip130)\" d=\"M 0 0 M2172.67 167.098 L2177.55 167.098 L2177.55 172.978 L2172.67 172.978 L2172.67 167.098 Z\" fill=\"#000000\" fill-rule=\"evenodd\" fill-opacity=\"1\" /><path clip-path=\"url(#clip130)\" d=\"M 0 0 M2192.62 141.496 Q2189.01 141.496 2187.18 145.061 Q2185.37 148.603 2185.37 155.732 Q2185.37 162.839 2187.18 166.404 Q2189.01 169.945 2192.62 169.945 Q2196.25 169.945 2198.06 166.404 Q2199.89 162.839 2199.89 155.732 Q2199.89 148.603 2198.06 145.061 Q2196.25 141.496 2192.62 141.496 M2192.62 137.793 Q2198.43 137.793 2201.49 142.399 Q2204.56 146.982 2204.56 155.732 Q2204.56 164.459 2201.49 169.066 Q2198.43 173.649 2192.62 173.649 Q2186.81 173.649 2183.73 169.066 Q2180.68 164.459 2180.68 155.732 Q2180.68 146.982 2183.73 142.399 Q2186.81 137.793 2192.62 137.793 Z\" fill=\"#000000\" fill-rule=\"evenodd\" fill-opacity=\"1\" /><path clip-path=\"url(#clip130)\" d=\"M 0 0 M2219.63 141.496 Q2216.02 141.496 2214.19 145.061 Q2212.39 148.603 2212.39 155.732 Q2212.39 162.839 2214.19 166.404 Q2216.02 169.945 2219.63 169.945 Q2223.27 169.945 2225.07 166.404 Q2226.9 162.839 2226.9 155.732 Q2226.9 148.603 2225.07 145.061 Q2223.27 141.496 2219.63 141.496 M2219.63 137.793 Q2225.44 137.793 2228.5 142.399 Q2231.58 146.982 2231.58 155.732 Q2231.58 164.459 2228.5 169.066 Q2225.44 173.649 2219.63 173.649 Q2213.82 173.649 2210.74 169.066 Q2207.69 164.459 2207.69 155.732 Q2207.69 146.982 2210.74 142.399 Q2213.82 137.793 2219.63 137.793 Z\" fill=\"#000000\" fill-rule=\"evenodd\" fill-opacity=\"1\" /><polyline clip-path=\"url(#clip130)\" style=\"stroke:#e26f46; stroke-width:4; stroke-opacity:1; fill:none\" points=\"\n",
       "  1756.44,216.178 1901.86,216.178 \n",
       "  \"/>\n",
       "<path clip-path=\"url(#clip130)\" d=\"M 0 0 M1939.94 235.865 Q1938.13 240.495 1936.42 241.907 Q1934.7 243.319 1931.83 243.319 L1928.43 243.319 L1928.43 239.754 L1930.93 239.754 Q1932.69 239.754 1933.66 238.92 Q1934.64 238.087 1935.82 234.985 L1936.58 233.041 L1926.09 207.532 L1930.61 207.532 L1938.71 227.809 L1946.81 207.532 L1951.32 207.532 L1939.94 235.865 Z\" fill=\"#000000\" fill-rule=\"evenodd\" fill-opacity=\"1\" /><path clip-path=\"url(#clip130)\" d=\"M 0 0 M1960.42 229.522 L1976.74 229.522 L1976.74 233.458 L1954.8 233.458 L1954.8 229.522 Q1957.46 226.768 1962.04 222.138 Q1966.65 217.485 1967.83 216.143 Q1970.07 213.62 1970.95 211.884 Q1971.86 210.124 1971.86 208.435 Q1971.86 205.68 1969.91 203.944 Q1967.99 202.208 1964.89 202.208 Q1962.69 202.208 1960.24 202.972 Q1957.81 203.735 1955.03 205.286 L1955.03 200.564 Q1957.85 199.43 1960.31 198.851 Q1962.76 198.273 1964.8 198.273 Q1970.17 198.273 1973.36 200.958 Q1976.56 203.643 1976.56 208.134 Q1976.56 210.263 1975.75 212.185 Q1974.96 214.083 1972.85 216.675 Q1972.27 217.347 1969.17 220.564 Q1966.07 223.759 1960.42 229.522 Z\" fill=\"#000000\" fill-rule=\"evenodd\" fill-opacity=\"1\" /></svg>\n"
      ]
     },
     "execution_count": 150,
     "metadata": {},
     "output_type": "execute_result"
    }
   ],
   "source": [
    "t = 0.0\n",
    "x = 0:0.1:2*pi |> Array\n",
    "U = map(x -> u(x,t) |> real, x);\n",
    "p = plot(x,U, xaxis = [minimum(x),maximum(x)], yaxis = [-1,10],lw=3,label = @sprintf(\"q(x,t), t = %1.2f\",t), framestyle = :box, fill = (-2,:lightblue))\n",
    "plot!(x,cos.(x.+0.1))"
   ]
  },
  {
   "cell_type": "markdown",
   "metadata": {},
   "source": [
    "## Plotting"
   ]
  },
  {
   "cell_type": "code",
   "execution_count": null,
   "metadata": {},
   "outputs": [],
   "source": [
    "Tend = 10\n",
    "kk = 0.02\n",
    "n = convert(Int64,ceil(Tend/kk))\n",
    "plot()\n",
    "anim = Animation()\n",
    "t = 0.0\n",
    "x = 0:0.2:2*pi |> Array\n",
    "U = map(x -> u(x,t) |> real, x);\n",
    "#X = vcat(x,x .+ L,x .+ 2L)\n",
    "#Q = vcat(U,U,U)\n",
    "p = plot(x,U, xaxis = [minimum(X),maximum(X)], yaxis = [-1,10],lw=3,label = @sprintf(\"q(x,t), t = %1.2f\",t), framestyle = :box, fill = (-2,:lightblue))\n",
    "frame(anim)\n",
    "p |> IJulia.display\n",
    "for i = 2:n+1\n",
    "    t += kk\n",
    "    IJulia.clear_output(true)\n",
    "    U = map(x -> u(x,t) |> real, x);\n",
    "    #Q = vcat(U,U,U)\n",
    "    p = plot(x,U, xaxis = [minimum(X),maximum(X)], yaxis = [-1,10],lw=3,label = @sprintf(\"q(x,t), t = %1.2f\",t), framestyle = :box, fill = (-2,:lightblue))\n",
    "    frame(anim)\n",
    "    p |> IJulia.display\n",
    "end"
   ]
  },
  {
   "cell_type": "code",
   "execution_count": null,
   "metadata": {},
   "outputs": [],
   "source": []
  }
 ],
 "metadata": {
  "kernelspec": {
   "display_name": "Julia 1.5.2",
   "language": "julia",
   "name": "julia-1.5"
  },
  "language_info": {
   "file_extension": ".jl",
   "mimetype": "application/julia",
   "name": "julia",
   "version": "1.5.2"
  }
 },
 "nbformat": 4,
 "nbformat_minor": 4
}
